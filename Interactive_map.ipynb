{
 "cells": [
  {
   "cell_type": "code",
   "execution_count": 1,
   "metadata": {},
   "outputs": [],
   "source": [
    "import pandas as pd\n",
    "import plotly.graph_objects as go\n",
    "import numpy as np"
   ]
  },
  {
   "cell_type": "code",
   "execution_count": 2,
   "metadata": {},
   "outputs": [],
   "source": [
    "file_path = \"Resources/cleaned_merged_data.csv\"\n",
    "data = pd.read_csv(file_path)"
   ]
  },
  {
   "cell_type": "code",
   "execution_count": 3,
   "metadata": {},
   "outputs": [],
   "source": [
    "trust_metrics = [\n",
    "    \"doctor_and_nurses\", \"government\", \"journalist\",\n",
    "    \"neighbourhood\", \"philantropist\", \"scientist\", \"traditional_healers\"\n",
    "]"
   ]
  },
  {
   "cell_type": "markdown",
   "metadata": {},
   "source": [
    "## First scatter plot showcasing global trust in Government by Country"
   ]
  },
  {
   "cell_type": "code",
   "execution_count": 4,
   "metadata": {},
   "outputs": [
    {
     "data": {
      "application/vnd.plotly.v1+json": {
       "config": {
        "plotlyServerURL": "https://plot.ly"
       },
       "data": [
        {
         "lat": [
          39.9075,
          28.6667,
          -6.2118,
          9.0574,
          -15.7797,
          23.7104,
          19.4273,
          35.6895,
          9.025,
          14.6042,
          30.0392,
          52.5244,
          13.722,
          51.5085,
          48.8534,
          -33.9258,
          41.8947,
          19.745,
          -1.2833,
          4.6097,
          40.4165,
          -34.6051,
          50.4454,
          0.3163,
          36.7525,
          33.3406,
          45.4166,
          52.2298,
          34.0133,
          3.1412,
          41.2647,
          -12.0432,
          5.556,
          24.6905,
          27.7017,
          3.8667,
          -35.2835,
          6.9319,
          12.65,
          12.3642,
          51.1801,
          44.4328,
          -33.4569,
          -15.4134,
          52.374,
          -0.2299,
          14.6937,
          11.5625,
          -17.8294,
          9.5716,
          6.3654,
          36.819,
          50.8467,
          18.4896,
          31.9552,
          37.9534,
          38.7169,
          59.3326,
          47.498,
          38.5358,
          24.4648,
          48.2064,
          31.769,
          46.9481,
          42.6975,
          44.8176,
          42.87,
          -25.3007,
          12.1328,
          13.6894,
          55.6759,
          33.9,
          60.1692,
          48.1482,
          59.9127,
          -41.2866,
          9.9278,
          53.3331,
          45.8144,
          41.6941,
          -34.8335,
          47.9077,
          41.3275,
          54.6892,
          -22.5594,
          0.3925,
          46.0511,
          56.946,
          42,
          26.2154,
          59.437,
          35.1595,
          -20.1619,
          42.4411,
          35.8997,
          -16.5,
          43.8486,
          -4.2658,
          50.088,
          22.2796,
          35.6944,
          47.0056,
          55.755,
          37.5683,
          -6.1722,
          38.8951,
          10.488
         ],
         "lon": [
          116.3972,
          77.2167,
          106.8416,
          7.4898,
          -47.9297,
          90.4074,
          -99.1419,
          139.6917,
          38.7469,
          120.9822,
          31.2394,
          13.4105,
          100.5252,
          -0.1257,
          2.3488,
          18.4232,
          12.4811,
          96.1297,
          36.8167,
          -74.0818,
          -3.7026,
          -58.4004,
          30.5186,
          32.5822,
          3.042,
          44.4009,
          -75.698,
          21.0118,
          -6.8326,
          101.6865,
          69.2163,
          -77.0282,
          -0.1969,
          46.7096,
          85.3206,
          11.5167,
          149.1281,
          79.8478,
          -8,
          -1.5383,
          71.446,
          26.1043,
          -70.6483,
          28.2771,
          4.8897,
          -78.525,
          -17.4441,
          104.916,
          31.0539,
          -13.6476,
          2.4183,
          10.1658,
          4.3499,
          -69.9018,
          35.945,
          23.749,
          -9.1399,
          18.0649,
          19.0399,
          68.7791,
          54.3618,
          16.3707,
          35.2163,
          7.4474,
          23.3242,
          20.4633,
          74.59,
          -57.6359,
          -86.2504,
          -89.1872,
          12.5655,
          35.4833,
          24.9402,
          17.1067,
          10.7461,
          174.7756,
          -84.0807,
          -6.2489,
          15.978,
          44.8337,
          -56.1674,
          106.8832,
          19.8189,
          25.2798,
          17.0832,
          9.4537,
          14.5051,
          24.1059,
          21.4333,
          50.5832,
          24.7535,
          33.3669,
          57.4989,
          19.2636,
          14.5147,
          -68.15,
          18.3564,
          15.2832,
          14.4208,
          114.1887,
          51.4215,
          28.8575,
          37.6218,
          126.9778,
          35.7395,
          -77.0364,
          -66.8792
         ],
         "marker": {
          "color": [
           56.93,
           74.18,
           70.82,
           21.11,
           42.98,
           88.39,
           55.24,
           60.94,
           82.54,
           84,
           80.7,
           81.44,
           58.55,
           49.65,
           57.53,
           52.09,
           55.3,
           94.4,
           46.2,
           41.05,
           51.91,
           43.52,
           29.34,
           46.64,
           64.98,
           33.16,
           76.49,
           29.04,
           55.99,
           70.38,
           97.45,
           47.04,
           63.51,
           56.93,
           62.03,
           30.28,
           74.49,
           78.63,
           51.21,
           52.23,
           80.45,
           29.35,
           30.76,
           47.73,
           84.21,
           27.48,
           56.61,
           92.7,
           67.77,
           35.14,
           61.12,
           26.87,
           59.38,
           74.64,
           69.13,
           45.16,
           53.59,
           68.88,
           53.44,
           56.93,
           56.93,
           73.87,
           49.81,
           93.89,
           39.35,
           53.02,
           61.7,
           35.87,
           56.08,
           75.33,
           84.56,
           17.75,
           81.69,
           55.88,
           96.27,
           86.58,
           46.33,
           80.04,
           43.4,
           58.59,
           74.13,
           54.88,
           43.57,
           66.82,
           46.75,
           34.57,
           48.73,
           39.07,
           40.69,
           56.93,
           55.19,
           49.85,
           55.2,
           52.35,
           81.33,
           42,
           24.64,
           56.08,
           46.44,
           39.44,
           47.31,
           19.42,
           46.14,
           51.89,
           93.69,
           53.49,
           29.6
          ],
          "colorbar": {
           "title": {
            "text": "Trust in Government (%)"
           }
          },
          "colorscale": [
           [
            0,
            "rgb(0,0,0)"
           ],
           [
            0.3333333333333333,
            "rgb(230,0,0)"
           ],
           [
            0.6666666666666666,
            "rgb(255,210,0)"
           ],
           [
            1,
            "rgb(255,255,255)"
           ]
          ],
          "line": {
           "color": "black",
           "width": 0.5
          },
          "size": 10
         },
         "mode": "markers",
         "text": [
          "China<br>Trust in Government: 56.93%",
          "India<br>Trust in Government: 74.18%",
          "Indonesia<br>Trust in Government: 70.82%",
          "Nigeria<br>Trust in Government: 21.11%",
          "Brazil<br>Trust in Government: 42.98%",
          "Bangladesh<br>Trust in Government: 88.39%",
          "Mexico<br>Trust in Government: 55.24%",
          "Japan<br>Trust in Government: 60.94%",
          "Ethiopia<br>Trust in Government: 82.54%",
          "Philippines<br>Trust in Government: 84.0%",
          "Egypt<br>Trust in Government: 80.7%",
          "Germany<br>Trust in Government: 81.44%",
          "Thailand<br>Trust in Government: 58.55%",
          "United Kingdom<br>Trust in Government: 49.65%",
          "France<br>Trust in Government: 57.53%",
          "South Africa<br>Trust in Government: 52.09%",
          "Italy<br>Trust in Government: 55.3%",
          "Myanmar<br>Trust in Government: 94.4%",
          "Kenya<br>Trust in Government: 46.2%",
          "Colombia<br>Trust in Government: 41.05%",
          "Spain<br>Trust in Government: 51.91%",
          "Argentina<br>Trust in Government: 43.52%",
          "Ukraine<br>Trust in Government: 29.34%",
          "Uganda<br>Trust in Government: 46.64%",
          "Algeria<br>Trust in Government: 64.98%",
          "Iraq<br>Trust in Government: 33.16%",
          "Canada<br>Trust in Government: 76.49%",
          "Poland<br>Trust in Government: 29.04%",
          "Morocco<br>Trust in Government: 55.99%",
          "Malaysia<br>Trust in Government: 70.38%",
          "Uzbekistan<br>Trust in Government: 97.45%",
          "Peru<br>Trust in Government: 47.04%",
          "Ghana<br>Trust in Government: 63.51%",
          "Saudi Arabia<br>Trust in Government: 56.93%",
          "Nepal<br>Trust in Government: 62.03%",
          "Cameroon<br>Trust in Government: 30.28%",
          "Australia<br>Trust in Government: 74.49%",
          "Sri Lanka<br>Trust in Government: 78.63%",
          "Mali<br>Trust in Government: 51.21%",
          "Burkina Faso<br>Trust in Government: 52.23%",
          "Kazakhstan<br>Trust in Government: 80.45%",
          "Romania<br>Trust in Government: 29.35%",
          "Chile<br>Trust in Government: 30.76%",
          "Zambia<br>Trust in Government: 47.73%",
          "Netherlands<br>Trust in Government: 84.21%",
          "Ecuador<br>Trust in Government: 27.48%",
          "Senegal<br>Trust in Government: 56.61%",
          "Cambodia<br>Trust in Government: 92.7%",
          "Zimbabwe<br>Trust in Government: 67.77%",
          "Guinea<br>Trust in Government: 35.14%",
          "Benin<br>Trust in Government: 61.12%",
          "Tunisia<br>Trust in Government: 26.87%",
          "Belgium<br>Trust in Government: 59.38%",
          "Dominican Republic<br>Trust in Government: 74.64%",
          "Jordan<br>Trust in Government: 69.13%",
          "Greece<br>Trust in Government: 45.16%",
          "Portugal<br>Trust in Government: 53.59%",
          "Sweden<br>Trust in Government: 68.88%",
          "Hungary<br>Trust in Government: 53.44%",
          "Tajikistan<br>Trust in Government: 56.93%",
          "United Arab Emirates<br>Trust in Government: 56.93%",
          "Austria<br>Trust in Government: 73.87%",
          "Israel<br>Trust in Government: 49.81%",
          "Switzerland<br>Trust in Government: 93.89%",
          "Bulgaria<br>Trust in Government: 39.35%",
          "Serbia<br>Trust in Government: 53.02%",
          "Kyrgyzstan<br>Trust in Government: 61.7%",
          "Paraguay<br>Trust in Government: 35.87%",
          "Nicaragua<br>Trust in Government: 56.08%",
          "El Salvador<br>Trust in Government: 75.33%",
          "Denmark<br>Trust in Government: 84.56%",
          "Lebanon<br>Trust in Government: 17.75%",
          "Finland<br>Trust in Government: 81.69%",
          "Slovakia<br>Trust in Government: 55.88%",
          "Norway<br>Trust in Government: 96.27%",
          "New Zealand<br>Trust in Government: 86.58%",
          "Costa Rica<br>Trust in Government: 46.33%",
          "Ireland<br>Trust in Government: 80.04%",
          "Croatia<br>Trust in Government: 43.4%",
          "Georgia<br>Trust in Government: 58.59%",
          "Uruguay<br>Trust in Government: 74.13%",
          "Mongolia<br>Trust in Government: 54.88%",
          "Albania<br>Trust in Government: 43.57%",
          "Lithuania<br>Trust in Government: 66.82%",
          "Namibia<br>Trust in Government: 46.75%",
          "Gabon<br>Trust in Government: 34.57%",
          "Slovenia<br>Trust in Government: 48.73%",
          "Latvia<br>Trust in Government: 39.07%",
          "North Macedonia<br>Trust in Government: 40.69%",
          "Bahrain<br>Trust in Government: 56.93%",
          "Estonia<br>Trust in Government: 55.19%",
          "Cyprus<br>Trust in Government: 49.85%",
          "Mauritius<br>Trust in Government: 55.2%",
          "Montenegro<br>Trust in Government: 52.35%",
          "Malta<br>Trust in Government: 81.33%",
          "Bolivia<br>Trust in Government: 42.0%",
          "Bosnia Herzegovina<br>Trust in Government: 24.64%",
          "Congo Brazzaville<br>Trust in Government: 56.08%",
          "Czech Republic<br>Trust in Government: 46.44%",
          "Hong Kong<br>Trust in Government: 39.44%",
          "Iran<br>Trust in Government: 47.31%",
          "Moldova<br>Trust in Government: 19.42%",
          "Russia<br>Trust in Government: 46.14%",
          "South Korea<br>Trust in Government: 51.89%",
          "Tanzania<br>Trust in Government: 93.69%",
          "United States<br>Trust in Government: 53.49%",
          "Venezuela<br>Trust in Government: 29.6%"
         ],
         "type": "scattergeo"
        }
       ],
       "layout": {
        "geo": {
         "bgcolor": "lightblue",
         "coastlinecolor": "gray",
         "countrycolor": "black",
         "countrywidth": 0.3,
         "landcolor": "lightgray",
         "projection": {
          "type": "natural earth"
         },
         "showcoastlines": true,
         "showcountries": true,
         "showframe": false,
         "showland": true
        },
        "height": 800,
        "template": {
         "data": {
          "bar": [
           {
            "error_x": {
             "color": "#2a3f5f"
            },
            "error_y": {
             "color": "#2a3f5f"
            },
            "marker": {
             "line": {
              "color": "#E5ECF6",
              "width": 0.5
             },
             "pattern": {
              "fillmode": "overlay",
              "size": 10,
              "solidity": 0.2
             }
            },
            "type": "bar"
           }
          ],
          "barpolar": [
           {
            "marker": {
             "line": {
              "color": "#E5ECF6",
              "width": 0.5
             },
             "pattern": {
              "fillmode": "overlay",
              "size": 10,
              "solidity": 0.2
             }
            },
            "type": "barpolar"
           }
          ],
          "carpet": [
           {
            "aaxis": {
             "endlinecolor": "#2a3f5f",
             "gridcolor": "white",
             "linecolor": "white",
             "minorgridcolor": "white",
             "startlinecolor": "#2a3f5f"
            },
            "baxis": {
             "endlinecolor": "#2a3f5f",
             "gridcolor": "white",
             "linecolor": "white",
             "minorgridcolor": "white",
             "startlinecolor": "#2a3f5f"
            },
            "type": "carpet"
           }
          ],
          "choropleth": [
           {
            "colorbar": {
             "outlinewidth": 0,
             "ticks": ""
            },
            "type": "choropleth"
           }
          ],
          "contour": [
           {
            "colorbar": {
             "outlinewidth": 0,
             "ticks": ""
            },
            "colorscale": [
             [
              0,
              "#0d0887"
             ],
             [
              0.1111111111111111,
              "#46039f"
             ],
             [
              0.2222222222222222,
              "#7201a8"
             ],
             [
              0.3333333333333333,
              "#9c179e"
             ],
             [
              0.4444444444444444,
              "#bd3786"
             ],
             [
              0.5555555555555556,
              "#d8576b"
             ],
             [
              0.6666666666666666,
              "#ed7953"
             ],
             [
              0.7777777777777778,
              "#fb9f3a"
             ],
             [
              0.8888888888888888,
              "#fdca26"
             ],
             [
              1,
              "#f0f921"
             ]
            ],
            "type": "contour"
           }
          ],
          "contourcarpet": [
           {
            "colorbar": {
             "outlinewidth": 0,
             "ticks": ""
            },
            "type": "contourcarpet"
           }
          ],
          "heatmap": [
           {
            "colorbar": {
             "outlinewidth": 0,
             "ticks": ""
            },
            "colorscale": [
             [
              0,
              "#0d0887"
             ],
             [
              0.1111111111111111,
              "#46039f"
             ],
             [
              0.2222222222222222,
              "#7201a8"
             ],
             [
              0.3333333333333333,
              "#9c179e"
             ],
             [
              0.4444444444444444,
              "#bd3786"
             ],
             [
              0.5555555555555556,
              "#d8576b"
             ],
             [
              0.6666666666666666,
              "#ed7953"
             ],
             [
              0.7777777777777778,
              "#fb9f3a"
             ],
             [
              0.8888888888888888,
              "#fdca26"
             ],
             [
              1,
              "#f0f921"
             ]
            ],
            "type": "heatmap"
           }
          ],
          "heatmapgl": [
           {
            "colorbar": {
             "outlinewidth": 0,
             "ticks": ""
            },
            "colorscale": [
             [
              0,
              "#0d0887"
             ],
             [
              0.1111111111111111,
              "#46039f"
             ],
             [
              0.2222222222222222,
              "#7201a8"
             ],
             [
              0.3333333333333333,
              "#9c179e"
             ],
             [
              0.4444444444444444,
              "#bd3786"
             ],
             [
              0.5555555555555556,
              "#d8576b"
             ],
             [
              0.6666666666666666,
              "#ed7953"
             ],
             [
              0.7777777777777778,
              "#fb9f3a"
             ],
             [
              0.8888888888888888,
              "#fdca26"
             ],
             [
              1,
              "#f0f921"
             ]
            ],
            "type": "heatmapgl"
           }
          ],
          "histogram": [
           {
            "marker": {
             "pattern": {
              "fillmode": "overlay",
              "size": 10,
              "solidity": 0.2
             }
            },
            "type": "histogram"
           }
          ],
          "histogram2d": [
           {
            "colorbar": {
             "outlinewidth": 0,
             "ticks": ""
            },
            "colorscale": [
             [
              0,
              "#0d0887"
             ],
             [
              0.1111111111111111,
              "#46039f"
             ],
             [
              0.2222222222222222,
              "#7201a8"
             ],
             [
              0.3333333333333333,
              "#9c179e"
             ],
             [
              0.4444444444444444,
              "#bd3786"
             ],
             [
              0.5555555555555556,
              "#d8576b"
             ],
             [
              0.6666666666666666,
              "#ed7953"
             ],
             [
              0.7777777777777778,
              "#fb9f3a"
             ],
             [
              0.8888888888888888,
              "#fdca26"
             ],
             [
              1,
              "#f0f921"
             ]
            ],
            "type": "histogram2d"
           }
          ],
          "histogram2dcontour": [
           {
            "colorbar": {
             "outlinewidth": 0,
             "ticks": ""
            },
            "colorscale": [
             [
              0,
              "#0d0887"
             ],
             [
              0.1111111111111111,
              "#46039f"
             ],
             [
              0.2222222222222222,
              "#7201a8"
             ],
             [
              0.3333333333333333,
              "#9c179e"
             ],
             [
              0.4444444444444444,
              "#bd3786"
             ],
             [
              0.5555555555555556,
              "#d8576b"
             ],
             [
              0.6666666666666666,
              "#ed7953"
             ],
             [
              0.7777777777777778,
              "#fb9f3a"
             ],
             [
              0.8888888888888888,
              "#fdca26"
             ],
             [
              1,
              "#f0f921"
             ]
            ],
            "type": "histogram2dcontour"
           }
          ],
          "mesh3d": [
           {
            "colorbar": {
             "outlinewidth": 0,
             "ticks": ""
            },
            "type": "mesh3d"
           }
          ],
          "parcoords": [
           {
            "line": {
             "colorbar": {
              "outlinewidth": 0,
              "ticks": ""
             }
            },
            "type": "parcoords"
           }
          ],
          "pie": [
           {
            "automargin": true,
            "type": "pie"
           }
          ],
          "scatter": [
           {
            "fillpattern": {
             "fillmode": "overlay",
             "size": 10,
             "solidity": 0.2
            },
            "type": "scatter"
           }
          ],
          "scatter3d": [
           {
            "line": {
             "colorbar": {
              "outlinewidth": 0,
              "ticks": ""
             }
            },
            "marker": {
             "colorbar": {
              "outlinewidth": 0,
              "ticks": ""
             }
            },
            "type": "scatter3d"
           }
          ],
          "scattercarpet": [
           {
            "marker": {
             "colorbar": {
              "outlinewidth": 0,
              "ticks": ""
             }
            },
            "type": "scattercarpet"
           }
          ],
          "scattergeo": [
           {
            "marker": {
             "colorbar": {
              "outlinewidth": 0,
              "ticks": ""
             }
            },
            "type": "scattergeo"
           }
          ],
          "scattergl": [
           {
            "marker": {
             "colorbar": {
              "outlinewidth": 0,
              "ticks": ""
             }
            },
            "type": "scattergl"
           }
          ],
          "scattermapbox": [
           {
            "marker": {
             "colorbar": {
              "outlinewidth": 0,
              "ticks": ""
             }
            },
            "type": "scattermapbox"
           }
          ],
          "scatterpolar": [
           {
            "marker": {
             "colorbar": {
              "outlinewidth": 0,
              "ticks": ""
             }
            },
            "type": "scatterpolar"
           }
          ],
          "scatterpolargl": [
           {
            "marker": {
             "colorbar": {
              "outlinewidth": 0,
              "ticks": ""
             }
            },
            "type": "scatterpolargl"
           }
          ],
          "scatterternary": [
           {
            "marker": {
             "colorbar": {
              "outlinewidth": 0,
              "ticks": ""
             }
            },
            "type": "scatterternary"
           }
          ],
          "surface": [
           {
            "colorbar": {
             "outlinewidth": 0,
             "ticks": ""
            },
            "colorscale": [
             [
              0,
              "#0d0887"
             ],
             [
              0.1111111111111111,
              "#46039f"
             ],
             [
              0.2222222222222222,
              "#7201a8"
             ],
             [
              0.3333333333333333,
              "#9c179e"
             ],
             [
              0.4444444444444444,
              "#bd3786"
             ],
             [
              0.5555555555555556,
              "#d8576b"
             ],
             [
              0.6666666666666666,
              "#ed7953"
             ],
             [
              0.7777777777777778,
              "#fb9f3a"
             ],
             [
              0.8888888888888888,
              "#fdca26"
             ],
             [
              1,
              "#f0f921"
             ]
            ],
            "type": "surface"
           }
          ],
          "table": [
           {
            "cells": {
             "fill": {
              "color": "#EBF0F8"
             },
             "line": {
              "color": "white"
             }
            },
            "header": {
             "fill": {
              "color": "#C8D4E3"
             },
             "line": {
              "color": "white"
             }
            },
            "type": "table"
           }
          ]
         },
         "layout": {
          "annotationdefaults": {
           "arrowcolor": "#2a3f5f",
           "arrowhead": 0,
           "arrowwidth": 1
          },
          "autotypenumbers": "strict",
          "coloraxis": {
           "colorbar": {
            "outlinewidth": 0,
            "ticks": ""
           }
          },
          "colorscale": {
           "diverging": [
            [
             0,
             "#8e0152"
            ],
            [
             0.1,
             "#c51b7d"
            ],
            [
             0.2,
             "#de77ae"
            ],
            [
             0.3,
             "#f1b6da"
            ],
            [
             0.4,
             "#fde0ef"
            ],
            [
             0.5,
             "#f7f7f7"
            ],
            [
             0.6,
             "#e6f5d0"
            ],
            [
             0.7,
             "#b8e186"
            ],
            [
             0.8,
             "#7fbc41"
            ],
            [
             0.9,
             "#4d9221"
            ],
            [
             1,
             "#276419"
            ]
           ],
           "sequential": [
            [
             0,
             "#0d0887"
            ],
            [
             0.1111111111111111,
             "#46039f"
            ],
            [
             0.2222222222222222,
             "#7201a8"
            ],
            [
             0.3333333333333333,
             "#9c179e"
            ],
            [
             0.4444444444444444,
             "#bd3786"
            ],
            [
             0.5555555555555556,
             "#d8576b"
            ],
            [
             0.6666666666666666,
             "#ed7953"
            ],
            [
             0.7777777777777778,
             "#fb9f3a"
            ],
            [
             0.8888888888888888,
             "#fdca26"
            ],
            [
             1,
             "#f0f921"
            ]
           ],
           "sequentialminus": [
            [
             0,
             "#0d0887"
            ],
            [
             0.1111111111111111,
             "#46039f"
            ],
            [
             0.2222222222222222,
             "#7201a8"
            ],
            [
             0.3333333333333333,
             "#9c179e"
            ],
            [
             0.4444444444444444,
             "#bd3786"
            ],
            [
             0.5555555555555556,
             "#d8576b"
            ],
            [
             0.6666666666666666,
             "#ed7953"
            ],
            [
             0.7777777777777778,
             "#fb9f3a"
            ],
            [
             0.8888888888888888,
             "#fdca26"
            ],
            [
             1,
             "#f0f921"
            ]
           ]
          },
          "colorway": [
           "#636efa",
           "#EF553B",
           "#00cc96",
           "#ab63fa",
           "#FFA15A",
           "#19d3f3",
           "#FF6692",
           "#B6E880",
           "#FF97FF",
           "#FECB52"
          ],
          "font": {
           "color": "#2a3f5f"
          },
          "geo": {
           "bgcolor": "white",
           "lakecolor": "white",
           "landcolor": "#E5ECF6",
           "showlakes": true,
           "showland": true,
           "subunitcolor": "white"
          },
          "hoverlabel": {
           "align": "left"
          },
          "hovermode": "closest",
          "mapbox": {
           "style": "light"
          },
          "paper_bgcolor": "white",
          "plot_bgcolor": "#E5ECF6",
          "polar": {
           "angularaxis": {
            "gridcolor": "white",
            "linecolor": "white",
            "ticks": ""
           },
           "bgcolor": "#E5ECF6",
           "radialaxis": {
            "gridcolor": "white",
            "linecolor": "white",
            "ticks": ""
           }
          },
          "scene": {
           "xaxis": {
            "backgroundcolor": "#E5ECF6",
            "gridcolor": "white",
            "gridwidth": 2,
            "linecolor": "white",
            "showbackground": true,
            "ticks": "",
            "zerolinecolor": "white"
           },
           "yaxis": {
            "backgroundcolor": "#E5ECF6",
            "gridcolor": "white",
            "gridwidth": 2,
            "linecolor": "white",
            "showbackground": true,
            "ticks": "",
            "zerolinecolor": "white"
           },
           "zaxis": {
            "backgroundcolor": "#E5ECF6",
            "gridcolor": "white",
            "gridwidth": 2,
            "linecolor": "white",
            "showbackground": true,
            "ticks": "",
            "zerolinecolor": "white"
           }
          },
          "shapedefaults": {
           "line": {
            "color": "#2a3f5f"
           }
          },
          "ternary": {
           "aaxis": {
            "gridcolor": "white",
            "linecolor": "white",
            "ticks": ""
           },
           "baxis": {
            "gridcolor": "white",
            "linecolor": "white",
            "ticks": ""
           },
           "bgcolor": "#E5ECF6",
           "caxis": {
            "gridcolor": "white",
            "linecolor": "white",
            "ticks": ""
           }
          },
          "title": {
           "x": 0.05
          },
          "xaxis": {
           "automargin": true,
           "gridcolor": "white",
           "linecolor": "white",
           "ticks": "",
           "title": {
            "standoff": 15
           },
           "zerolinecolor": "white",
           "zerolinewidth": 2
          },
          "yaxis": {
           "automargin": true,
           "gridcolor": "white",
           "linecolor": "white",
           "ticks": "",
           "title": {
            "standoff": 15
           },
           "zerolinecolor": "white",
           "zerolinewidth": 2
          }
         }
        },
        "title": {
         "text": "Global Trust in Government by Country"
        },
        "width": 1200
       }
      }
     },
     "metadata": {},
     "output_type": "display_data"
    }
   ],
   "source": [
    "# world map\n",
    "fig = go.Figure()\n",
    "\n",
    "# added a scattergeo layer for government trust rates\n",
    "fig.add_trace(go.Scattergeo(\n",
    "    lat=data['Latitude'],\n",
    "    lon=data['Longitude'],\n",
    "    text=data['country'] + \"<br>Trust in Government: \" + data['government'].astype(str) + \"%\",\n",
    "    mode='markers',\n",
    "    marker=dict(\n",
    "        size=10,  \n",
    "        color=data['government'], \n",
    "        colorscale='hot',\n",
    "        colorbar_title=\"Trust in Government (%)\",\n",
    "        line=dict(width=0.5, color='black'),\n",
    "    )\n",
    "))\n",
    "\n",
    "# updated the map layout\n",
    "fig.update_layout(\n",
    "    title='Global Trust in Government by Country',\n",
    "    geo=dict(\n",
    "        showframe=False,\n",
    "        showcoastlines=True,\n",
    "        coastlinecolor=\"gray\",\n",
    "        showland=True,\n",
    "        landcolor=\"lightgray\",\n",
    "        bgcolor=\"lightblue\",\n",
    "        projection_type='natural earth',\n",
    "        showcountries=True,\n",
    "        countrycolor=\"black\",  \n",
    "        countrywidth=0.3\n",
    "    ),\n",
    "    template='plotly',\n",
    "    height=800,\n",
    "    width=1200\n",
    ")\n",
    "\n",
    "fig.show()"
   ]
  },
  {
   "cell_type": "code",
   "execution_count": 5,
   "metadata": {},
   "outputs": [],
   "source": [
    "trust_categories = {\n",
    "    \"government\": \"hot\",\n",
    "    \"scientist\": \"Viridis\",\n",
    "    \"journalist\": \"Plotly3\",\n",
    "    \"doctor_and_nurses\": \"Plasma\",\n",
    "    \"philantropist\": \"Inferno\",\n",
    "    \"traditional_healers\": \"Turbo\",\n",
    "    \"neighbourhood\": \"Magma\"\n",
    "}"
   ]
  },
  {
   "cell_type": "code",
   "execution_count": 6,
   "metadata": {},
   "outputs": [],
   "source": [
    "min_marker_size = 5\n",
    "max_marker_size = 45\n",
    "data['Population scaled'] = data['population'].apply(lambda x: np.log1p(x))  # Logarithmic scale\n",
    "data['Population scaled'] = ((data['Population scaled'] - data['Population scaled'].min()) /\n",
    "                             (data['Population scaled'].max() - data['Population scaled'].min()) *\n",
    "                             (max_marker_size - min_marker_size)) + min_marker_size\n",
    "\n",
    "\n",
    "fig = go.Figure()"
   ]
  },
  {
   "cell_type": "code",
   "execution_count": 7,
   "metadata": {},
   "outputs": [],
   "source": [
    "for i, (category, colorscale) in enumerate(trust_categories.items()):\n",
    "    fig.add_trace(go.Scattergeo(\n",
    "        lat=data['Latitude'],\n",
    "        lon=data['Longitude'],\n",
    "        text=data['country'] + f\"<br>Trust in {category.capitalize()}: \" + data[category].astype(str) + \"%\" +\n",
    "             \"<br>Population: \" + data['population'].apply(lambda x: f\"{x:,}\"),\n",
    "        mode='markers',\n",
    "        marker=dict(\n",
    "            size=data['Population scaled'],\n",
    "            color=data[category],\n",
    "            colorscale=colorscale,\n",
    "            colorbar=dict(\n",
    "                title=f\"Trust in {category.capitalize()} (%)\",\n",
    "                len=0.5,\n",
    "                thickness=15,\n",
    "                x=1.1,\n",
    "                xpad=10\n",
    "            ),\n",
    "            line=dict(width=0.5, color='black')\n",
    "        ),\n",
    "        name=category.capitalize(),\n",
    "        visible=(i == 0) \n",
    "    ))"
   ]
  },
  {
   "cell_type": "markdown",
   "metadata": {},
   "source": [
    "## Interactive Visualization of every trust category sorted by user input"
   ]
  },
  {
   "cell_type": "code",
   "execution_count": 8,
   "metadata": {},
   "outputs": [
    {
     "data": {
      "application/vnd.plotly.v1+json": {
       "config": {
        "plotlyServerURL": "https://plot.ly"
       },
       "data": [
        {
         "lat": [
          39.9075,
          28.6667,
          -6.2118,
          9.0574,
          -15.7797,
          23.7104,
          19.4273,
          35.6895,
          9.025,
          14.6042,
          30.0392,
          52.5244,
          13.722,
          51.5085,
          48.8534,
          -33.9258,
          41.8947,
          19.745,
          -1.2833,
          4.6097,
          40.4165,
          -34.6051,
          50.4454,
          0.3163,
          36.7525,
          33.3406,
          45.4166,
          52.2298,
          34.0133,
          3.1412,
          41.2647,
          -12.0432,
          5.556,
          24.6905,
          27.7017,
          3.8667,
          -35.2835,
          6.9319,
          12.65,
          12.3642,
          51.1801,
          44.4328,
          -33.4569,
          -15.4134,
          52.374,
          -0.2299,
          14.6937,
          11.5625,
          -17.8294,
          9.5716,
          6.3654,
          36.819,
          50.8467,
          18.4896,
          31.9552,
          37.9534,
          38.7169,
          59.3326,
          47.498,
          38.5358,
          24.4648,
          48.2064,
          31.769,
          46.9481,
          42.6975,
          44.8176,
          42.87,
          -25.3007,
          12.1328,
          13.6894,
          55.6759,
          33.9,
          60.1692,
          48.1482,
          59.9127,
          -41.2866,
          9.9278,
          53.3331,
          45.8144,
          41.6941,
          -34.8335,
          47.9077,
          41.3275,
          54.6892,
          -22.5594,
          0.3925,
          46.0511,
          56.946,
          42,
          26.2154,
          59.437,
          35.1595,
          -20.1619,
          42.4411,
          35.8997,
          -16.5,
          43.8486,
          -4.2658,
          50.088,
          22.2796,
          35.6944,
          47.0056,
          55.755,
          37.5683,
          -6.1722,
          38.8951,
          10.488
         ],
         "lon": [
          116.3972,
          77.2167,
          106.8416,
          7.4898,
          -47.9297,
          90.4074,
          -99.1419,
          139.6917,
          38.7469,
          120.9822,
          31.2394,
          13.4105,
          100.5252,
          -0.1257,
          2.3488,
          18.4232,
          12.4811,
          96.1297,
          36.8167,
          -74.0818,
          -3.7026,
          -58.4004,
          30.5186,
          32.5822,
          3.042,
          44.4009,
          -75.698,
          21.0118,
          -6.8326,
          101.6865,
          69.2163,
          -77.0282,
          -0.1969,
          46.7096,
          85.3206,
          11.5167,
          149.1281,
          79.8478,
          -8,
          -1.5383,
          71.446,
          26.1043,
          -70.6483,
          28.2771,
          4.8897,
          -78.525,
          -17.4441,
          104.916,
          31.0539,
          -13.6476,
          2.4183,
          10.1658,
          4.3499,
          -69.9018,
          35.945,
          23.749,
          -9.1399,
          18.0649,
          19.0399,
          68.7791,
          54.3618,
          16.3707,
          35.2163,
          7.4474,
          23.3242,
          20.4633,
          74.59,
          -57.6359,
          -86.2504,
          -89.1872,
          12.5655,
          35.4833,
          24.9402,
          17.1067,
          10.7461,
          174.7756,
          -84.0807,
          -6.2489,
          15.978,
          44.8337,
          -56.1674,
          106.8832,
          19.8189,
          25.2798,
          17.0832,
          9.4537,
          14.5051,
          24.1059,
          21.4333,
          50.5832,
          24.7535,
          33.3669,
          57.4989,
          19.2636,
          14.5147,
          -68.15,
          18.3564,
          15.2832,
          14.4208,
          114.1887,
          51.4215,
          28.8575,
          37.6218,
          126.9778,
          35.7395,
          -77.0364,
          -66.8792
         ],
         "marker": {
          "color": [
           56.93,
           74.18,
           70.82,
           21.11,
           42.98,
           88.39,
           55.24,
           60.94,
           82.54,
           84,
           80.7,
           81.44,
           58.55,
           49.65,
           57.53,
           52.09,
           55.3,
           94.4,
           46.2,
           41.05,
           51.91,
           43.52,
           29.34,
           46.64,
           64.98,
           33.16,
           76.49,
           29.04,
           55.99,
           70.38,
           97.45,
           47.04,
           63.51,
           56.93,
           62.03,
           30.28,
           74.49,
           78.63,
           51.21,
           52.23,
           80.45,
           29.35,
           30.76,
           47.73,
           84.21,
           27.48,
           56.61,
           92.7,
           67.77,
           35.14,
           61.12,
           26.87,
           59.38,
           74.64,
           69.13,
           45.16,
           53.59,
           68.88,
           53.44,
           56.93,
           56.93,
           73.87,
           49.81,
           93.89,
           39.35,
           53.02,
           61.7,
           35.87,
           56.08,
           75.33,
           84.56,
           17.75,
           81.69,
           55.88,
           96.27,
           86.58,
           46.33,
           80.04,
           43.4,
           58.59,
           74.13,
           54.88,
           43.57,
           66.82,
           46.75,
           34.57,
           48.73,
           39.07,
           40.69,
           56.93,
           55.19,
           49.85,
           55.2,
           52.35,
           81.33,
           42,
           24.64,
           56.08,
           46.44,
           39.44,
           47.31,
           19.42,
           46.14,
           51.89,
           93.69,
           53.49,
           29.6
          ],
          "colorbar": {
           "len": 0.5,
           "thickness": 15,
           "title": {
            "text": "Trust in Government (%)"
           },
           "x": 1.1,
           "xpad": 10
          },
          "colorscale": [
           [
            0,
            "rgb(0,0,0)"
           ],
           [
            0.3333333333333333,
            "rgb(230,0,0)"
           ],
           [
            0.6666666666666666,
            "rgb(255,210,0)"
           ],
           [
            1,
            "rgb(255,255,255)"
           ]
          ],
          "line": {
           "color": "black",
           "width": 0.5
          },
          "size": [
           45,
           44.916124877325004,
           36.683897075310874,
           35.42057934773155,
           35.29306550627162,
           34.1469729512084,
           32.77740159878611,
           32.757666535609346,
           32.45330308052043,
           32.15427972993024,
           32.02807182608522,
           30.675318607136255,
           29.893950065787912,
           29.582116123310115,
           29.47246058729708,
           29.045472115809943,
           28.991006665652485,
           28.373406706509957,
           28.29669491173517,
           28.140786005361083,
           27.83754205742291,
           27.566928689443074,
           27.509388788351927,
           27.484134308438314,
           27.436760764026435,
           27.210986784931755,
           26.714313196812643,
           26.71419544120581,
           26.49975468842979,
           26.113345908728114,
           26.0679597417461,
           25.954241844628175,
           25.80585832944934,
           25.661818127402615,
           25.320604609786272,
           24.81565913263904,
           24.724908379532348,
           24.058577134218382,
           23.865100045295964,
           23.81010879485324,
           23.317364838630585,
           23.294071276460553,
           23.288378895178298,
           23.20657400555564,
           22.81477786061264,
           22.788747788278354,
           22.56605941791541,
           22.546847456303915,
           22.171297227898847,
           21.416399187335543,
           21.301403355429237,
           20.859033880648823,
           20.672602181928518,
           20.434326882366733,
           20.36825718794967,
           20.2905669320038,
           20.132903426554865,
           20.124699079375848,
           19.82101031606675,
           19.82093416596763,
           19.66266321434331,
           19.372741517630732,
           19.30375739977149,
           19.211210352520332,
           18.09969021133407,
           18.08083326973406,
           17.899461265271647,
           17.853477355542807,
           17.82396843856249,
           17.563026493845005,
           17.225420278097452,
           17.112327454992254,
           16.956929397304496,
           16.888341068655883,
           16.817717576348564,
           16.518562565751115,
           16.482999075953643,
           16.43085106238061,
           15.263005047055797,
           15.056673631863083,
           14.499148242033922,
           14.335787761288193,
           13.648252117814518,
           13.512461331232874,
           13.389948770177126,
           12.575881505151147,
           12.072996016982309,
           11.564699373346354,
           11.486774089165975,
           10.310542430022066,
           9.759089186824944,
           9.653843860139826,
           9.579519672895913,
           5.806521527717226,
           5,
           20.792052034607593,
           14.348914077385933,
           31.371559611698686,
           20.28985364015211,
           18.4834226420523,
           30.91674194808114,
           13.213609693278006,
           33.46335114147749,
           28.259700296125256,
           29.079582398035832,
           37.631419615157206,
           25.228673259682935
          ]
         },
         "mode": "markers",
         "name": "Government",
         "text": [
          "China<br>Trust in Government: 56.93%<br>Population: 1,426,106,093.0",
          "India<br>Trust in Government: 74.18%<br>Population: 1,402,617,695.0",
          "Indonesia<br>Trust in Government: 70.82%<br>Population: 274,814,866.0",
          "Nigeria<br>Trust in Government: 21.11%<br>Population: 213,996,181.0",
          "Brazil<br>Trust in Government: 42.98%<br>Population: 208,660,842.0",
          "Bangladesh<br>Trust in Government: 88.39%<br>Population: 166,298,024.0",
          "Mexico<br>Trust in Government: 55.24%<br>Population: 126,799,054.0",
          "Japan<br>Trust in Government: 60.94%<br>Population: 126,304,543.0",
          "Ethiopia<br>Trust in Government: 82.54%<br>Population: 118,917,671.0",
          "Philippines<br>Trust in Government: 84.0%<br>Population: 112,081,264.0",
          "Egypt<br>Trust in Government: 80.7%<br>Population: 109,315,124.0",
          "Germany<br>Trust in Government: 81.44%<br>Population: 83,628,708.0",
          "Thailand<br>Trust in Government: 58.55%<br>Population: 71,641,484.0",
          "United Kingdom<br>Trust in Government: 49.65%<br>Population: 67,351,861.0",
          "France<br>Trust in Government: 57.53%<br>Population: 65,905,277.0",
          "South Africa<br>Trust in Government: 52.09%<br>Population: 60,562,381.0",
          "Italy<br>Trust in Government: 55.3%<br>Population: 59,912,769.0",
          "Myanmar<br>Trust in Government: 94.4%<br>Population: 53,016,522.0",
          "Kenya<br>Trust in Government: 46.2%<br>Population: 52,217,334.0",
          "Colombia<br>Trust in Government: 41.05%<br>Population: 50,629,997.0",
          "Spain<br>Trust in Government: 51.91%<br>Population: 47,679,489.0",
          "Argentina<br>Trust in Government: 43.52%<br>Population: 45,191,965.0",
          "Ukraine<br>Trust in Government: 29.34%<br>Population: 44,680,014.0",
          "Uganda<br>Trust in Government: 46.64%<br>Population: 44,457,152.0",
          "Algeria<br>Trust in Government: 64.98%<br>Population: 44,042,091.0",
          "Iraq<br>Trust in Government: 33.16%<br>Population: 42,116,605.0",
          "Canada<br>Trust in Government: 76.49%<br>Population: 38,171,902.0",
          "Poland<br>Trust in Government: 29.04%<br>Population: 38,171,012.0",
          "Morocco<br>Trust in Government: 55.99%<br>Population: 36,584,208.0",
          "Malaysia<br>Trust in Government: 70.38%<br>Population: 33,889,558.0",
          "Uzbekistan<br>Trust in Government: 97.45%<br>Population: 33,586,372.0",
          "Peru<br>Trust in Government: 47.04%<br>Population: 32,838,579.0",
          "Ghana<br>Trust in Government: 63.51%<br>Population: 31,887,809.0",
          "Saudi Arabia<br>Trust in Government: 56.93%<br>Population: 30,991,207.0",
          "Nepal<br>Trust in Government: 62.03%<br>Population: 28,966,574.0",
          "Cameroon<br>Trust in Government: 30.28%<br>Population: 26,210,558.0",
          "Australia<br>Trust in Government: 74.49%<br>Population: 25,743,791.0",
          "Sri Lanka<br>Trust in Government: 78.63%<br>Population: 22,561,807.0",
          "Mali<br>Trust in Government: 51.21%<br>Population: 21,713,836.0",
          "Burkina Faso<br>Trust in Government: 52.23%<br>Population: 21,478,690.0",
          "Kazakhstan<br>Trust in Government: 80.45%<br>Population: 19,482,117.0",
          "Romania<br>Trust in Government: 29.35%<br>Population: 19,392,469.0",
          "Chile<br>Trust in Government: 30.76%<br>Population: 19,370,624.0",
          "Zambia<br>Trust in Government: 47.73%<br>Population: 19,059,395.0",
          "Netherlands<br>Trust in Government: 84.21%<br>Population: 17,636,731.0",
          "Ecuador<br>Trust in Government: 27.48%<br>Population: 17,546,065.0",
          "Senegal<br>Trust in Government: 56.61%<br>Population: 16,789,219.0",
          "Cambodia<br>Trust in Government: 92.7%<br>Population: 16,725,473.999999998",
          "Zimbabwe<br>Trust in Government: 67.77%<br>Population: 15,526,888.0",
          "Guinea<br>Trust in Government: 35.14%<br>Population: 13,371,183.0",
          "Benin<br>Trust in Government: 61.12%<br>Population: 13,070,169.0",
          "Tunisia<br>Trust in Government: 26.87%<br>Population: 11,974,057.0",
          "Belgium<br>Trust in Government: 59.38%<br>Population: 11,540,107.0",
          "Dominican Republic<br>Trust in Government: 74.64%<br>Population: 11,008,300.0",
          "Jordan<br>Trust in Government: 69.13%<br>Population: 10,865,228.0",
          "Greece<br>Trust in Government: 45.16%<br>Population: 10,699,369.0",
          "Portugal<br>Trust in Government: 53.59%<br>Population: 10,370,519.0",
          "Sweden<br>Trust in Government: 68.88%<br>Population: 10,353,686.0",
          "Hungary<br>Trust in Government: 53.44%<br>Population: 9,749,457.0",
          "Tajikistan<br>Trust in Government: 56.93%<br>Population: 9,749,310.0",
          "United Arab Emirates<br>Trust in Government: 56.93%<br>Population: 9,448,524.0",
          "Austria<br>Trust in Government: 73.87%<br>Population: 8,921,405.0",
          "Israel<br>Trust in Government: 49.81%<br>Population: 8,800,376.0",
          "Switzerland<br>Trust in Government: 93.89%<br>Population: 8,640,582.0",
          "Bulgaria<br>Trust in Government: 39.35%<br>Population: 6,933,652.0",
          "Serbia<br>Trust in Government: 53.02%<br>Population: 6,907,812.0",
          "Kyrgyzstan<br>Trust in Government: 61.7%<br>Population: 6,664,140.0",
          "Paraguay<br>Trust in Government: 35.87%<br>Population: 6,603,739.0",
          "Nicaragua<br>Trust in Government: 56.08%<br>Population: 6,565,267.0",
          "El Salvador<br>Trust in Government: 75.33%<br>Population: 6,234,673.0",
          "Denmark<br>Trust in Government: 84.56%<br>Population: 5,831,530.0",
          "Lebanon<br>Trust in Government: 17.75%<br>Population: 5,702,398.0",
          "Finland<br>Trust in Government: 81.69%<br>Population: 5,529,612.0",
          "Slovakia<br>Trust in Government: 55.88%<br>Population: 5,455,024.0",
          "Norway<br>Trust in Government: 96.27%<br>Population: 5,379,274.0",
          "New Zealand<br>Trust in Government: 86.58%<br>Population: 5,069,895.0",
          "Costa Rica<br>Trust in Government: 46.33%<br>Population: 5,034,320.0",
          "Ireland<br>Trust in Government: 80.04%<br>Population: 4,982,606.0",
          "Croatia<br>Trust in Government: 43.4%<br>Population: 3,953,958.0",
          "Georgia<br>Trust in Government: 58.59%<br>Population: 3,795,678.0",
          "Uruguay<br>Trust in Government: 74.13%<br>Population: 3,398,968.0",
          "Mongolia<br>Trust in Government: 54.88%<br>Population: 3,290,785.0",
          "Albania<br>Trust in Government: 43.57%<br>Population: 2,871,954.0",
          "Lithuania<br>Trust in Government: 66.82%<br>Population: 2,795,765.0",
          "Namibia<br>Trust in Government: 46.75%<br>Population: 2,728,762.0",
          "Gabon<br>Trust in Government: 34.57%<br>Population: 2,322,539.0",
          "Slovenia<br>Trust in Government: 48.73%<br>Population: 2,102,419.0",
          "Latvia<br>Trust in Government: 39.07%<br>Population: 1,901,123.0",
          "North Macedonia<br>Trust in Government: 40.69%<br>Population: 1,872,015.0",
          "Bahrain<br>Trust in Government: 56.93%<br>Population: 1,483,077.0",
          "Estonia<br>Trust in Government: 55.19%<br>Population: 1,329,669.0",
          "Cyprus<br>Trust in Government: 49.85%<br>Population: 1,302,247.0",
          "Mauritius<br>Trust in Government: 55.2%<br>Population: 1,283,223.0",
          "Montenegro<br>Trust in Government: 52.35%<br>Population: 607,935.0",
          "Malta<br>Trust in Government: 81.33%<br>Population: 518,207.0",
          "Bolivia<br>Trust in Government: 42.0%<br>Population: 11,816,299.0",
          "Bosnia Herzegovina<br>Trust in Government: 24.64%<br>Population: 3,299,349.0",
          "Congo Brazzaville<br>Trust in Government: 56.08%<br>Population: 95,989,998.0",
          "Czech Republic<br>Trust in Government: 46.44%<br>Population: 10,697,858.0",
          "Hong Kong<br>Trust in Government: 39.44%<br>Population: 7,481,000.0",
          "Iran<br>Trust in Government: 47.31%<br>Population: 87,723,443.0",
          "Moldova<br>Trust in Government: 19.42%<br>Population: 2,635,130.0",
          "Russia<br>Trust in Government: 46.14%<br>Population: 145,245,148.0",
          "South Korea<br>Trust in Government: 51.89%<br>Population: 51,836,239.0",
          "Tanzania<br>Trust in Government: 93.69%<br>Population: 60,972,798.0",
          "United States<br>Trust in Government: 53.49%<br>Population: 331,526,933.0",
          "Venezuela<br>Trust in Government: 29.6%<br>Population: 28,444,077.0"
         ],
         "type": "scattergeo",
         "visible": true
        },
        {
         "lat": [
          39.9075,
          28.6667,
          -6.2118,
          9.0574,
          -15.7797,
          23.7104,
          19.4273,
          35.6895,
          9.025,
          14.6042,
          30.0392,
          52.5244,
          13.722,
          51.5085,
          48.8534,
          -33.9258,
          41.8947,
          19.745,
          -1.2833,
          4.6097,
          40.4165,
          -34.6051,
          50.4454,
          0.3163,
          36.7525,
          33.3406,
          45.4166,
          52.2298,
          34.0133,
          3.1412,
          41.2647,
          -12.0432,
          5.556,
          24.6905,
          27.7017,
          3.8667,
          -35.2835,
          6.9319,
          12.65,
          12.3642,
          51.1801,
          44.4328,
          -33.4569,
          -15.4134,
          52.374,
          -0.2299,
          14.6937,
          11.5625,
          -17.8294,
          9.5716,
          6.3654,
          36.819,
          50.8467,
          18.4896,
          31.9552,
          37.9534,
          38.7169,
          59.3326,
          47.498,
          38.5358,
          24.4648,
          48.2064,
          31.769,
          46.9481,
          42.6975,
          44.8176,
          42.87,
          -25.3007,
          12.1328,
          13.6894,
          55.6759,
          33.9,
          60.1692,
          48.1482,
          59.9127,
          -41.2866,
          9.9278,
          53.3331,
          45.8144,
          41.6941,
          -34.8335,
          47.9077,
          41.3275,
          54.6892,
          -22.5594,
          0.3925,
          46.0511,
          56.946,
          42,
          26.2154,
          59.437,
          35.1595,
          -20.1619,
          42.4411,
          35.8997,
          -16.5,
          43.8486,
          -4.2658,
          50.088,
          22.2796,
          35.6944,
          47.0056,
          55.755,
          37.5683,
          -6.1722,
          38.8951,
          10.488
         ],
         "lon": [
          116.3972,
          77.2167,
          106.8416,
          7.4898,
          -47.9297,
          90.4074,
          -99.1419,
          139.6917,
          38.7469,
          120.9822,
          31.2394,
          13.4105,
          100.5252,
          -0.1257,
          2.3488,
          18.4232,
          12.4811,
          96.1297,
          36.8167,
          -74.0818,
          -3.7026,
          -58.4004,
          30.5186,
          32.5822,
          3.042,
          44.4009,
          -75.698,
          21.0118,
          -6.8326,
          101.6865,
          69.2163,
          -77.0282,
          -0.1969,
          46.7096,
          85.3206,
          11.5167,
          149.1281,
          79.8478,
          -8,
          -1.5383,
          71.446,
          26.1043,
          -70.6483,
          28.2771,
          4.8897,
          -78.525,
          -17.4441,
          104.916,
          31.0539,
          -13.6476,
          2.4183,
          10.1658,
          4.3499,
          -69.9018,
          35.945,
          23.749,
          -9.1399,
          18.0649,
          19.0399,
          68.7791,
          54.3618,
          16.3707,
          35.2163,
          7.4474,
          23.3242,
          20.4633,
          74.59,
          -57.6359,
          -86.2504,
          -89.1872,
          12.5655,
          35.4833,
          24.9402,
          17.1067,
          10.7461,
          174.7756,
          -84.0807,
          -6.2489,
          15.978,
          44.8337,
          -56.1674,
          106.8832,
          19.8189,
          25.2798,
          17.0832,
          9.4537,
          14.5051,
          24.1059,
          21.4333,
          50.5832,
          24.7535,
          33.3669,
          57.4989,
          19.2636,
          14.5147,
          -68.15,
          18.3564,
          15.2832,
          14.4208,
          114.1887,
          51.4215,
          28.8575,
          37.6218,
          126.9778,
          35.7395,
          -77.0364,
          -66.8792
         ],
         "marker": {
          "color": [
           96.57,
           85.3,
           70.11,
           47.41,
           79.73,
           87.31,
           84.42,
           93.92,
           82.03,
           84.46,
           91.51,
           93.06,
           91.08,
           90.28,
           92.07,
           63.53,
           91.78,
           87.94,
           60.49,
           75.03,
           93.79,
           89.37,
           84.69,
           63.75,
           84.42,
           64.83,
           93.45,
           95.67,
           90.02,
           74.43,
           93.34,
           71.24,
           67.05,
           78.66,
           92.58,
           38.97,
           93.85,
           93.33,
           70.24,
           63.25,
           82.37,
           86.51,
           82.34,
           51.23,
           92.97,
           57.2,
           83.33,
           82.31,
           73.22,
           51.27,
           43.36,
           80.16,
           98.09,
           68.42,
           70.52,
           89.68,
           89.82,
           96.74,
           94.47,
           84.78,
           81.19,
           95.68,
           91,
           94.56,
           87.88,
           86.93,
           72.09,
           61.79,
           63.16,
           62.71,
           97.87,
           58.57,
           96.92,
           93.8,
           98.17,
           96.05,
           81.71,
           91.48,
           91.31,
           80.81,
           90.99,
           81.78,
           49.19,
           93,
           50.17,
           41.52,
           93.37,
           90.25,
           60.83,
           71.1,
           96.61,
           82.5,
           61.4,
           67.7,
           88.95,
           58.67,
           76.15,
           45.62,
           97.1,
           79.63,
           93.32,
           63.67,
           85.55,
           91.24,
           89.76,
           93.66,
           66.7
          ],
          "colorbar": {
           "len": 0.5,
           "thickness": 15,
           "title": {
            "text": "Trust in Scientist (%)"
           },
           "x": 1.1,
           "xpad": 10
          },
          "colorscale": [
           [
            0,
            "#440154"
           ],
           [
            0.1111111111111111,
            "#482878"
           ],
           [
            0.2222222222222222,
            "#3e4989"
           ],
           [
            0.3333333333333333,
            "#31688e"
           ],
           [
            0.4444444444444444,
            "#26828e"
           ],
           [
            0.5555555555555556,
            "#1f9e89"
           ],
           [
            0.6666666666666666,
            "#35b779"
           ],
           [
            0.7777777777777778,
            "#6ece58"
           ],
           [
            0.8888888888888888,
            "#b5de2b"
           ],
           [
            1,
            "#fde725"
           ]
          ],
          "line": {
           "color": "black",
           "width": 0.5
          },
          "size": [
           45,
           44.916124877325004,
           36.683897075310874,
           35.42057934773155,
           35.29306550627162,
           34.1469729512084,
           32.77740159878611,
           32.757666535609346,
           32.45330308052043,
           32.15427972993024,
           32.02807182608522,
           30.675318607136255,
           29.893950065787912,
           29.582116123310115,
           29.47246058729708,
           29.045472115809943,
           28.991006665652485,
           28.373406706509957,
           28.29669491173517,
           28.140786005361083,
           27.83754205742291,
           27.566928689443074,
           27.509388788351927,
           27.484134308438314,
           27.436760764026435,
           27.210986784931755,
           26.714313196812643,
           26.71419544120581,
           26.49975468842979,
           26.113345908728114,
           26.0679597417461,
           25.954241844628175,
           25.80585832944934,
           25.661818127402615,
           25.320604609786272,
           24.81565913263904,
           24.724908379532348,
           24.058577134218382,
           23.865100045295964,
           23.81010879485324,
           23.317364838630585,
           23.294071276460553,
           23.288378895178298,
           23.20657400555564,
           22.81477786061264,
           22.788747788278354,
           22.56605941791541,
           22.546847456303915,
           22.171297227898847,
           21.416399187335543,
           21.301403355429237,
           20.859033880648823,
           20.672602181928518,
           20.434326882366733,
           20.36825718794967,
           20.2905669320038,
           20.132903426554865,
           20.124699079375848,
           19.82101031606675,
           19.82093416596763,
           19.66266321434331,
           19.372741517630732,
           19.30375739977149,
           19.211210352520332,
           18.09969021133407,
           18.08083326973406,
           17.899461265271647,
           17.853477355542807,
           17.82396843856249,
           17.563026493845005,
           17.225420278097452,
           17.112327454992254,
           16.956929397304496,
           16.888341068655883,
           16.817717576348564,
           16.518562565751115,
           16.482999075953643,
           16.43085106238061,
           15.263005047055797,
           15.056673631863083,
           14.499148242033922,
           14.335787761288193,
           13.648252117814518,
           13.512461331232874,
           13.389948770177126,
           12.575881505151147,
           12.072996016982309,
           11.564699373346354,
           11.486774089165975,
           10.310542430022066,
           9.759089186824944,
           9.653843860139826,
           9.579519672895913,
           5.806521527717226,
           5,
           20.792052034607593,
           14.348914077385933,
           31.371559611698686,
           20.28985364015211,
           18.4834226420523,
           30.91674194808114,
           13.213609693278006,
           33.46335114147749,
           28.259700296125256,
           29.079582398035832,
           37.631419615157206,
           25.228673259682935
          ]
         },
         "mode": "markers",
         "name": "Scientist",
         "text": [
          "China<br>Trust in Scientist: 96.57%<br>Population: 1,426,106,093.0",
          "India<br>Trust in Scientist: 85.3%<br>Population: 1,402,617,695.0",
          "Indonesia<br>Trust in Scientist: 70.11%<br>Population: 274,814,866.0",
          "Nigeria<br>Trust in Scientist: 47.41%<br>Population: 213,996,181.0",
          "Brazil<br>Trust in Scientist: 79.73%<br>Population: 208,660,842.0",
          "Bangladesh<br>Trust in Scientist: 87.31%<br>Population: 166,298,024.0",
          "Mexico<br>Trust in Scientist: 84.42%<br>Population: 126,799,054.0",
          "Japan<br>Trust in Scientist: 93.92%<br>Population: 126,304,543.0",
          "Ethiopia<br>Trust in Scientist: 82.03%<br>Population: 118,917,671.0",
          "Philippines<br>Trust in Scientist: 84.46%<br>Population: 112,081,264.0",
          "Egypt<br>Trust in Scientist: 91.51%<br>Population: 109,315,124.0",
          "Germany<br>Trust in Scientist: 93.06%<br>Population: 83,628,708.0",
          "Thailand<br>Trust in Scientist: 91.08%<br>Population: 71,641,484.0",
          "United Kingdom<br>Trust in Scientist: 90.28%<br>Population: 67,351,861.0",
          "France<br>Trust in Scientist: 92.07%<br>Population: 65,905,277.0",
          "South Africa<br>Trust in Scientist: 63.53%<br>Population: 60,562,381.0",
          "Italy<br>Trust in Scientist: 91.78%<br>Population: 59,912,769.0",
          "Myanmar<br>Trust in Scientist: 87.94%<br>Population: 53,016,522.0",
          "Kenya<br>Trust in Scientist: 60.49%<br>Population: 52,217,334.0",
          "Colombia<br>Trust in Scientist: 75.03%<br>Population: 50,629,997.0",
          "Spain<br>Trust in Scientist: 93.79%<br>Population: 47,679,489.0",
          "Argentina<br>Trust in Scientist: 89.37%<br>Population: 45,191,965.0",
          "Ukraine<br>Trust in Scientist: 84.69%<br>Population: 44,680,014.0",
          "Uganda<br>Trust in Scientist: 63.75%<br>Population: 44,457,152.0",
          "Algeria<br>Trust in Scientist: 84.42%<br>Population: 44,042,091.0",
          "Iraq<br>Trust in Scientist: 64.83%<br>Population: 42,116,605.0",
          "Canada<br>Trust in Scientist: 93.45%<br>Population: 38,171,902.0",
          "Poland<br>Trust in Scientist: 95.67%<br>Population: 38,171,012.0",
          "Morocco<br>Trust in Scientist: 90.02%<br>Population: 36,584,208.0",
          "Malaysia<br>Trust in Scientist: 74.43%<br>Population: 33,889,558.0",
          "Uzbekistan<br>Trust in Scientist: 93.34%<br>Population: 33,586,372.0",
          "Peru<br>Trust in Scientist: 71.24%<br>Population: 32,838,579.0",
          "Ghana<br>Trust in Scientist: 67.05%<br>Population: 31,887,809.0",
          "Saudi Arabia<br>Trust in Scientist: 78.66%<br>Population: 30,991,207.0",
          "Nepal<br>Trust in Scientist: 92.58%<br>Population: 28,966,574.0",
          "Cameroon<br>Trust in Scientist: 38.97%<br>Population: 26,210,558.0",
          "Australia<br>Trust in Scientist: 93.85%<br>Population: 25,743,791.0",
          "Sri Lanka<br>Trust in Scientist: 93.33%<br>Population: 22,561,807.0",
          "Mali<br>Trust in Scientist: 70.24%<br>Population: 21,713,836.0",
          "Burkina Faso<br>Trust in Scientist: 63.25%<br>Population: 21,478,690.0",
          "Kazakhstan<br>Trust in Scientist: 82.37%<br>Population: 19,482,117.0",
          "Romania<br>Trust in Scientist: 86.51%<br>Population: 19,392,469.0",
          "Chile<br>Trust in Scientist: 82.34%<br>Population: 19,370,624.0",
          "Zambia<br>Trust in Scientist: 51.23%<br>Population: 19,059,395.0",
          "Netherlands<br>Trust in Scientist: 92.97%<br>Population: 17,636,731.0",
          "Ecuador<br>Trust in Scientist: 57.2%<br>Population: 17,546,065.0",
          "Senegal<br>Trust in Scientist: 83.33%<br>Population: 16,789,219.0",
          "Cambodia<br>Trust in Scientist: 82.31%<br>Population: 16,725,473.999999998",
          "Zimbabwe<br>Trust in Scientist: 73.22%<br>Population: 15,526,888.0",
          "Guinea<br>Trust in Scientist: 51.27%<br>Population: 13,371,183.0",
          "Benin<br>Trust in Scientist: 43.36%<br>Population: 13,070,169.0",
          "Tunisia<br>Trust in Scientist: 80.16%<br>Population: 11,974,057.0",
          "Belgium<br>Trust in Scientist: 98.09%<br>Population: 11,540,107.0",
          "Dominican Republic<br>Trust in Scientist: 68.42%<br>Population: 11,008,300.0",
          "Jordan<br>Trust in Scientist: 70.52%<br>Population: 10,865,228.0",
          "Greece<br>Trust in Scientist: 89.68%<br>Population: 10,699,369.0",
          "Portugal<br>Trust in Scientist: 89.82%<br>Population: 10,370,519.0",
          "Sweden<br>Trust in Scientist: 96.74%<br>Population: 10,353,686.0",
          "Hungary<br>Trust in Scientist: 94.47%<br>Population: 9,749,457.0",
          "Tajikistan<br>Trust in Scientist: 84.78%<br>Population: 9,749,310.0",
          "United Arab Emirates<br>Trust in Scientist: 81.19%<br>Population: 9,448,524.0",
          "Austria<br>Trust in Scientist: 95.68%<br>Population: 8,921,405.0",
          "Israel<br>Trust in Scientist: 91.0%<br>Population: 8,800,376.0",
          "Switzerland<br>Trust in Scientist: 94.56%<br>Population: 8,640,582.0",
          "Bulgaria<br>Trust in Scientist: 87.88%<br>Population: 6,933,652.0",
          "Serbia<br>Trust in Scientist: 86.93%<br>Population: 6,907,812.0",
          "Kyrgyzstan<br>Trust in Scientist: 72.09%<br>Population: 6,664,140.0",
          "Paraguay<br>Trust in Scientist: 61.79%<br>Population: 6,603,739.0",
          "Nicaragua<br>Trust in Scientist: 63.16%<br>Population: 6,565,267.0",
          "El Salvador<br>Trust in Scientist: 62.71%<br>Population: 6,234,673.0",
          "Denmark<br>Trust in Scientist: 97.87%<br>Population: 5,831,530.0",
          "Lebanon<br>Trust in Scientist: 58.57%<br>Population: 5,702,398.0",
          "Finland<br>Trust in Scientist: 96.92%<br>Population: 5,529,612.0",
          "Slovakia<br>Trust in Scientist: 93.8%<br>Population: 5,455,024.0",
          "Norway<br>Trust in Scientist: 98.17%<br>Population: 5,379,274.0",
          "New Zealand<br>Trust in Scientist: 96.05%<br>Population: 5,069,895.0",
          "Costa Rica<br>Trust in Scientist: 81.71%<br>Population: 5,034,320.0",
          "Ireland<br>Trust in Scientist: 91.48%<br>Population: 4,982,606.0",
          "Croatia<br>Trust in Scientist: 91.31%<br>Population: 3,953,958.0",
          "Georgia<br>Trust in Scientist: 80.81%<br>Population: 3,795,678.0",
          "Uruguay<br>Trust in Scientist: 90.99%<br>Population: 3,398,968.0",
          "Mongolia<br>Trust in Scientist: 81.78%<br>Population: 3,290,785.0",
          "Albania<br>Trust in Scientist: 49.19%<br>Population: 2,871,954.0",
          "Lithuania<br>Trust in Scientist: 93.0%<br>Population: 2,795,765.0",
          "Namibia<br>Trust in Scientist: 50.17%<br>Population: 2,728,762.0",
          "Gabon<br>Trust in Scientist: 41.52%<br>Population: 2,322,539.0",
          "Slovenia<br>Trust in Scientist: 93.37%<br>Population: 2,102,419.0",
          "Latvia<br>Trust in Scientist: 90.25%<br>Population: 1,901,123.0",
          "North Macedonia<br>Trust in Scientist: 60.83%<br>Population: 1,872,015.0",
          "Bahrain<br>Trust in Scientist: 71.1%<br>Population: 1,483,077.0",
          "Estonia<br>Trust in Scientist: 96.61%<br>Population: 1,329,669.0",
          "Cyprus<br>Trust in Scientist: 82.5%<br>Population: 1,302,247.0",
          "Mauritius<br>Trust in Scientist: 61.4%<br>Population: 1,283,223.0",
          "Montenegro<br>Trust in Scientist: 67.7%<br>Population: 607,935.0",
          "Malta<br>Trust in Scientist: 88.95%<br>Population: 518,207.0",
          "Bolivia<br>Trust in Scientist: 58.67%<br>Population: 11,816,299.0",
          "Bosnia Herzegovina<br>Trust in Scientist: 76.15%<br>Population: 3,299,349.0",
          "Congo Brazzaville<br>Trust in Scientist: 45.62%<br>Population: 95,989,998.0",
          "Czech Republic<br>Trust in Scientist: 97.1%<br>Population: 10,697,858.0",
          "Hong Kong<br>Trust in Scientist: 79.63%<br>Population: 7,481,000.0",
          "Iran<br>Trust in Scientist: 93.32%<br>Population: 87,723,443.0",
          "Moldova<br>Trust in Scientist: 63.67%<br>Population: 2,635,130.0",
          "Russia<br>Trust in Scientist: 85.55%<br>Population: 145,245,148.0",
          "South Korea<br>Trust in Scientist: 91.24%<br>Population: 51,836,239.0",
          "Tanzania<br>Trust in Scientist: 89.76%<br>Population: 60,972,798.0",
          "United States<br>Trust in Scientist: 93.66%<br>Population: 331,526,933.0",
          "Venezuela<br>Trust in Scientist: 66.7%<br>Population: 28,444,077.0"
         ],
         "type": "scattergeo",
         "visible": false
        },
        {
         "lat": [
          39.9075,
          28.6667,
          -6.2118,
          9.0574,
          -15.7797,
          23.7104,
          19.4273,
          35.6895,
          9.025,
          14.6042,
          30.0392,
          52.5244,
          13.722,
          51.5085,
          48.8534,
          -33.9258,
          41.8947,
          19.745,
          -1.2833,
          4.6097,
          40.4165,
          -34.6051,
          50.4454,
          0.3163,
          36.7525,
          33.3406,
          45.4166,
          52.2298,
          34.0133,
          3.1412,
          41.2647,
          -12.0432,
          5.556,
          24.6905,
          27.7017,
          3.8667,
          -35.2835,
          6.9319,
          12.65,
          12.3642,
          51.1801,
          44.4328,
          -33.4569,
          -15.4134,
          52.374,
          -0.2299,
          14.6937,
          11.5625,
          -17.8294,
          9.5716,
          6.3654,
          36.819,
          50.8467,
          18.4896,
          31.9552,
          37.9534,
          38.7169,
          59.3326,
          47.498,
          38.5358,
          24.4648,
          48.2064,
          31.769,
          46.9481,
          42.6975,
          44.8176,
          42.87,
          -25.3007,
          12.1328,
          13.6894,
          55.6759,
          33.9,
          60.1692,
          48.1482,
          59.9127,
          -41.2866,
          9.9278,
          53.3331,
          45.8144,
          41.6941,
          -34.8335,
          47.9077,
          41.3275,
          54.6892,
          -22.5594,
          0.3925,
          46.0511,
          56.946,
          42,
          26.2154,
          59.437,
          35.1595,
          -20.1619,
          42.4411,
          35.8997,
          -16.5,
          43.8486,
          -4.2658,
          50.088,
          22.2796,
          35.6944,
          47.0056,
          55.755,
          37.5683,
          -6.1722,
          38.8951,
          10.488
         ],
         "lon": [
          116.3972,
          77.2167,
          106.8416,
          7.4898,
          -47.9297,
          90.4074,
          -99.1419,
          139.6917,
          38.7469,
          120.9822,
          31.2394,
          13.4105,
          100.5252,
          -0.1257,
          2.3488,
          18.4232,
          12.4811,
          96.1297,
          36.8167,
          -74.0818,
          -3.7026,
          -58.4004,
          30.5186,
          32.5822,
          3.042,
          44.4009,
          -75.698,
          21.0118,
          -6.8326,
          101.6865,
          69.2163,
          -77.0282,
          -0.1969,
          46.7096,
          85.3206,
          11.5167,
          149.1281,
          79.8478,
          -8,
          -1.5383,
          71.446,
          26.1043,
          -70.6483,
          28.2771,
          4.8897,
          -78.525,
          -17.4441,
          104.916,
          31.0539,
          -13.6476,
          2.4183,
          10.1658,
          4.3499,
          -69.9018,
          35.945,
          23.749,
          -9.1399,
          18.0649,
          19.0399,
          68.7791,
          54.3618,
          16.3707,
          35.2163,
          7.4474,
          23.3242,
          20.4633,
          74.59,
          -57.6359,
          -86.2504,
          -89.1872,
          12.5655,
          35.4833,
          24.9402,
          17.1067,
          10.7461,
          174.7756,
          -84.0807,
          -6.2489,
          15.978,
          44.8337,
          -56.1674,
          106.8832,
          19.8189,
          25.2798,
          17.0832,
          9.4537,
          14.5051,
          24.1059,
          21.4333,
          50.5832,
          24.7535,
          33.3669,
          57.4989,
          19.2636,
          14.5147,
          -68.15,
          18.3564,
          15.2832,
          14.4208,
          114.1887,
          51.4215,
          28.8575,
          37.6218,
          126.9778,
          35.7395,
          -77.0364,
          -66.8792
         ],
         "marker": {
          "color": [
           74.62,
           69.12,
           63.41,
           37,
           56.36,
           71.72,
           55.71,
           56.31,
           63.19,
           81.06,
           48.55,
           79.16,
           72.37,
           60.69,
           61.87,
           55.07,
           46.43,
           72.97,
           69.85,
           48.17,
           62.84,
           52.81,
           41.84,
           63.17,
           44.31,
           61.4,
           76.81,
           67.43,
           63.85,
           61.22,
           90.36,
           46.39,
           65.31,
           59.56,
           81.49,
           41.94,
           71.31,
           81.83,
           62.12,
           65.37,
           69.52,
           54.86,
           42.97,
           59.81,
           81.05,
           44.16,
           60.88,
           80.47,
           65.99,
           58.51,
           41.64,
           45.91,
           77.72,
           66.4,
           50.34,
           12.45,
           61.62,
           75.08,
           44.86,
           57.68,
           68,
           75.35,
           65.76,
           83.17,
           54.11,
           28.97,
           66.77,
           49.54,
           67.15,
           48.32,
           73.64,
           40.96,
           82.38,
           64.76,
           87.92,
           76.62,
           57.62,
           74.24,
           53.35,
           62.1,
           64.8,
           64.57,
           53.49,
           55.18,
           55.34,
           31.13,
           68.35,
           54.25,
           46.07,
           51.47,
           60.17,
           53.95,
           63.64,
           39.11,
           67.01,
           48.27,
           46.19,
           49.84,
           56.14,
           57.36,
           64.53,
           48.16,
           32.39,
           31.07,
           90.83,
           58.78,
           53.85
          ],
          "colorbar": {
           "len": 0.5,
           "thickness": 15,
           "title": {
            "text": "Trust in Journalist (%)"
           },
           "x": 1.1,
           "xpad": 10
          },
          "colorscale": [
           [
            0,
            "#0508b8"
           ],
           [
            0.08333333333333333,
            "#1910d8"
           ],
           [
            0.16666666666666666,
            "#3c19f0"
           ],
           [
            0.25,
            "#6b1cfb"
           ],
           [
            0.3333333333333333,
            "#981cfd"
           ],
           [
            0.4166666666666667,
            "#bf1cfd"
           ],
           [
            0.5,
            "#dd2bfd"
           ],
           [
            0.5833333333333334,
            "#f246fe"
           ],
           [
            0.6666666666666666,
            "#fc67fd"
           ],
           [
            0.75,
            "#fe88fc"
           ],
           [
            0.8333333333333334,
            "#fea5fd"
           ],
           [
            0.9166666666666666,
            "#febefe"
           ],
           [
            1,
            "#fec3fe"
           ]
          ],
          "line": {
           "color": "black",
           "width": 0.5
          },
          "size": [
           45,
           44.916124877325004,
           36.683897075310874,
           35.42057934773155,
           35.29306550627162,
           34.1469729512084,
           32.77740159878611,
           32.757666535609346,
           32.45330308052043,
           32.15427972993024,
           32.02807182608522,
           30.675318607136255,
           29.893950065787912,
           29.582116123310115,
           29.47246058729708,
           29.045472115809943,
           28.991006665652485,
           28.373406706509957,
           28.29669491173517,
           28.140786005361083,
           27.83754205742291,
           27.566928689443074,
           27.509388788351927,
           27.484134308438314,
           27.436760764026435,
           27.210986784931755,
           26.714313196812643,
           26.71419544120581,
           26.49975468842979,
           26.113345908728114,
           26.0679597417461,
           25.954241844628175,
           25.80585832944934,
           25.661818127402615,
           25.320604609786272,
           24.81565913263904,
           24.724908379532348,
           24.058577134218382,
           23.865100045295964,
           23.81010879485324,
           23.317364838630585,
           23.294071276460553,
           23.288378895178298,
           23.20657400555564,
           22.81477786061264,
           22.788747788278354,
           22.56605941791541,
           22.546847456303915,
           22.171297227898847,
           21.416399187335543,
           21.301403355429237,
           20.859033880648823,
           20.672602181928518,
           20.434326882366733,
           20.36825718794967,
           20.2905669320038,
           20.132903426554865,
           20.124699079375848,
           19.82101031606675,
           19.82093416596763,
           19.66266321434331,
           19.372741517630732,
           19.30375739977149,
           19.211210352520332,
           18.09969021133407,
           18.08083326973406,
           17.899461265271647,
           17.853477355542807,
           17.82396843856249,
           17.563026493845005,
           17.225420278097452,
           17.112327454992254,
           16.956929397304496,
           16.888341068655883,
           16.817717576348564,
           16.518562565751115,
           16.482999075953643,
           16.43085106238061,
           15.263005047055797,
           15.056673631863083,
           14.499148242033922,
           14.335787761288193,
           13.648252117814518,
           13.512461331232874,
           13.389948770177126,
           12.575881505151147,
           12.072996016982309,
           11.564699373346354,
           11.486774089165975,
           10.310542430022066,
           9.759089186824944,
           9.653843860139826,
           9.579519672895913,
           5.806521527717226,
           5,
           20.792052034607593,
           14.348914077385933,
           31.371559611698686,
           20.28985364015211,
           18.4834226420523,
           30.91674194808114,
           13.213609693278006,
           33.46335114147749,
           28.259700296125256,
           29.079582398035832,
           37.631419615157206,
           25.228673259682935
          ]
         },
         "mode": "markers",
         "name": "Journalist",
         "text": [
          "China<br>Trust in Journalist: 74.62%<br>Population: 1,426,106,093.0",
          "India<br>Trust in Journalist: 69.12%<br>Population: 1,402,617,695.0",
          "Indonesia<br>Trust in Journalist: 63.41%<br>Population: 274,814,866.0",
          "Nigeria<br>Trust in Journalist: 37.0%<br>Population: 213,996,181.0",
          "Brazil<br>Trust in Journalist: 56.36%<br>Population: 208,660,842.0",
          "Bangladesh<br>Trust in Journalist: 71.72%<br>Population: 166,298,024.0",
          "Mexico<br>Trust in Journalist: 55.71%<br>Population: 126,799,054.0",
          "Japan<br>Trust in Journalist: 56.31%<br>Population: 126,304,543.0",
          "Ethiopia<br>Trust in Journalist: 63.19%<br>Population: 118,917,671.0",
          "Philippines<br>Trust in Journalist: 81.06%<br>Population: 112,081,264.0",
          "Egypt<br>Trust in Journalist: 48.55%<br>Population: 109,315,124.0",
          "Germany<br>Trust in Journalist: 79.16%<br>Population: 83,628,708.0",
          "Thailand<br>Trust in Journalist: 72.37%<br>Population: 71,641,484.0",
          "United Kingdom<br>Trust in Journalist: 60.69%<br>Population: 67,351,861.0",
          "France<br>Trust in Journalist: 61.87%<br>Population: 65,905,277.0",
          "South Africa<br>Trust in Journalist: 55.07%<br>Population: 60,562,381.0",
          "Italy<br>Trust in Journalist: 46.43%<br>Population: 59,912,769.0",
          "Myanmar<br>Trust in Journalist: 72.97%<br>Population: 53,016,522.0",
          "Kenya<br>Trust in Journalist: 69.85%<br>Population: 52,217,334.0",
          "Colombia<br>Trust in Journalist: 48.17%<br>Population: 50,629,997.0",
          "Spain<br>Trust in Journalist: 62.84%<br>Population: 47,679,489.0",
          "Argentina<br>Trust in Journalist: 52.81%<br>Population: 45,191,965.0",
          "Ukraine<br>Trust in Journalist: 41.84%<br>Population: 44,680,014.0",
          "Uganda<br>Trust in Journalist: 63.17%<br>Population: 44,457,152.0",
          "Algeria<br>Trust in Journalist: 44.31%<br>Population: 44,042,091.0",
          "Iraq<br>Trust in Journalist: 61.4%<br>Population: 42,116,605.0",
          "Canada<br>Trust in Journalist: 76.81%<br>Population: 38,171,902.0",
          "Poland<br>Trust in Journalist: 67.43%<br>Population: 38,171,012.0",
          "Morocco<br>Trust in Journalist: 63.85%<br>Population: 36,584,208.0",
          "Malaysia<br>Trust in Journalist: 61.22%<br>Population: 33,889,558.0",
          "Uzbekistan<br>Trust in Journalist: 90.36%<br>Population: 33,586,372.0",
          "Peru<br>Trust in Journalist: 46.39%<br>Population: 32,838,579.0",
          "Ghana<br>Trust in Journalist: 65.31%<br>Population: 31,887,809.0",
          "Saudi Arabia<br>Trust in Journalist: 59.56%<br>Population: 30,991,207.0",
          "Nepal<br>Trust in Journalist: 81.49%<br>Population: 28,966,574.0",
          "Cameroon<br>Trust in Journalist: 41.94%<br>Population: 26,210,558.0",
          "Australia<br>Trust in Journalist: 71.31%<br>Population: 25,743,791.0",
          "Sri Lanka<br>Trust in Journalist: 81.83%<br>Population: 22,561,807.0",
          "Mali<br>Trust in Journalist: 62.12%<br>Population: 21,713,836.0",
          "Burkina Faso<br>Trust in Journalist: 65.37%<br>Population: 21,478,690.0",
          "Kazakhstan<br>Trust in Journalist: 69.52%<br>Population: 19,482,117.0",
          "Romania<br>Trust in Journalist: 54.86%<br>Population: 19,392,469.0",
          "Chile<br>Trust in Journalist: 42.97%<br>Population: 19,370,624.0",
          "Zambia<br>Trust in Journalist: 59.81%<br>Population: 19,059,395.0",
          "Netherlands<br>Trust in Journalist: 81.05%<br>Population: 17,636,731.0",
          "Ecuador<br>Trust in Journalist: 44.16%<br>Population: 17,546,065.0",
          "Senegal<br>Trust in Journalist: 60.88%<br>Population: 16,789,219.0",
          "Cambodia<br>Trust in Journalist: 80.47%<br>Population: 16,725,473.999999998",
          "Zimbabwe<br>Trust in Journalist: 65.99%<br>Population: 15,526,888.0",
          "Guinea<br>Trust in Journalist: 58.51%<br>Population: 13,371,183.0",
          "Benin<br>Trust in Journalist: 41.64%<br>Population: 13,070,169.0",
          "Tunisia<br>Trust in Journalist: 45.91%<br>Population: 11,974,057.0",
          "Belgium<br>Trust in Journalist: 77.72%<br>Population: 11,540,107.0",
          "Dominican Republic<br>Trust in Journalist: 66.4%<br>Population: 11,008,300.0",
          "Jordan<br>Trust in Journalist: 50.34%<br>Population: 10,865,228.0",
          "Greece<br>Trust in Journalist: 12.45%<br>Population: 10,699,369.0",
          "Portugal<br>Trust in Journalist: 61.62%<br>Population: 10,370,519.0",
          "Sweden<br>Trust in Journalist: 75.08%<br>Population: 10,353,686.0",
          "Hungary<br>Trust in Journalist: 44.86%<br>Population: 9,749,457.0",
          "Tajikistan<br>Trust in Journalist: 57.68%<br>Population: 9,749,310.0",
          "United Arab Emirates<br>Trust in Journalist: 68.0%<br>Population: 9,448,524.0",
          "Austria<br>Trust in Journalist: 75.35%<br>Population: 8,921,405.0",
          "Israel<br>Trust in Journalist: 65.76%<br>Population: 8,800,376.0",
          "Switzerland<br>Trust in Journalist: 83.17%<br>Population: 8,640,582.0",
          "Bulgaria<br>Trust in Journalist: 54.11%<br>Population: 6,933,652.0",
          "Serbia<br>Trust in Journalist: 28.97%<br>Population: 6,907,812.0",
          "Kyrgyzstan<br>Trust in Journalist: 66.77%<br>Population: 6,664,140.0",
          "Paraguay<br>Trust in Journalist: 49.54%<br>Population: 6,603,739.0",
          "Nicaragua<br>Trust in Journalist: 67.15%<br>Population: 6,565,267.0",
          "El Salvador<br>Trust in Journalist: 48.32%<br>Population: 6,234,673.0",
          "Denmark<br>Trust in Journalist: 73.64%<br>Population: 5,831,530.0",
          "Lebanon<br>Trust in Journalist: 40.96%<br>Population: 5,702,398.0",
          "Finland<br>Trust in Journalist: 82.38%<br>Population: 5,529,612.0",
          "Slovakia<br>Trust in Journalist: 64.76%<br>Population: 5,455,024.0",
          "Norway<br>Trust in Journalist: 87.92%<br>Population: 5,379,274.0",
          "New Zealand<br>Trust in Journalist: 76.62%<br>Population: 5,069,895.0",
          "Costa Rica<br>Trust in Journalist: 57.62%<br>Population: 5,034,320.0",
          "Ireland<br>Trust in Journalist: 74.24%<br>Population: 4,982,606.0",
          "Croatia<br>Trust in Journalist: 53.35%<br>Population: 3,953,958.0",
          "Georgia<br>Trust in Journalist: 62.1%<br>Population: 3,795,678.0",
          "Uruguay<br>Trust in Journalist: 64.8%<br>Population: 3,398,968.0",
          "Mongolia<br>Trust in Journalist: 64.57%<br>Population: 3,290,785.0",
          "Albania<br>Trust in Journalist: 53.49%<br>Population: 2,871,954.0",
          "Lithuania<br>Trust in Journalist: 55.18%<br>Population: 2,795,765.0",
          "Namibia<br>Trust in Journalist: 55.34%<br>Population: 2,728,762.0",
          "Gabon<br>Trust in Journalist: 31.13%<br>Population: 2,322,539.0",
          "Slovenia<br>Trust in Journalist: 68.35%<br>Population: 2,102,419.0",
          "Latvia<br>Trust in Journalist: 54.25%<br>Population: 1,901,123.0",
          "North Macedonia<br>Trust in Journalist: 46.07%<br>Population: 1,872,015.0",
          "Bahrain<br>Trust in Journalist: 51.47%<br>Population: 1,483,077.0",
          "Estonia<br>Trust in Journalist: 60.17%<br>Population: 1,329,669.0",
          "Cyprus<br>Trust in Journalist: 53.95%<br>Population: 1,302,247.0",
          "Mauritius<br>Trust in Journalist: 63.64%<br>Population: 1,283,223.0",
          "Montenegro<br>Trust in Journalist: 39.11%<br>Population: 607,935.0",
          "Malta<br>Trust in Journalist: 67.01%<br>Population: 518,207.0",
          "Bolivia<br>Trust in Journalist: 48.27%<br>Population: 11,816,299.0",
          "Bosnia Herzegovina<br>Trust in Journalist: 46.19%<br>Population: 3,299,349.0",
          "Congo Brazzaville<br>Trust in Journalist: 49.84%<br>Population: 95,989,998.0",
          "Czech Republic<br>Trust in Journalist: 56.14%<br>Population: 10,697,858.0",
          "Hong Kong<br>Trust in Journalist: 57.36%<br>Population: 7,481,000.0",
          "Iran<br>Trust in Journalist: 64.53%<br>Population: 87,723,443.0",
          "Moldova<br>Trust in Journalist: 48.16%<br>Population: 2,635,130.0",
          "Russia<br>Trust in Journalist: 32.39%<br>Population: 145,245,148.0",
          "South Korea<br>Trust in Journalist: 31.07%<br>Population: 51,836,239.0",
          "Tanzania<br>Trust in Journalist: 90.83%<br>Population: 60,972,798.0",
          "United States<br>Trust in Journalist: 58.78%<br>Population: 331,526,933.0",
          "Venezuela<br>Trust in Journalist: 53.85%<br>Population: 28,444,077.0"
         ],
         "type": "scattergeo",
         "visible": false
        },
        {
         "lat": [
          39.9075,
          28.6667,
          -6.2118,
          9.0574,
          -15.7797,
          23.7104,
          19.4273,
          35.6895,
          9.025,
          14.6042,
          30.0392,
          52.5244,
          13.722,
          51.5085,
          48.8534,
          -33.9258,
          41.8947,
          19.745,
          -1.2833,
          4.6097,
          40.4165,
          -34.6051,
          50.4454,
          0.3163,
          36.7525,
          33.3406,
          45.4166,
          52.2298,
          34.0133,
          3.1412,
          41.2647,
          -12.0432,
          5.556,
          24.6905,
          27.7017,
          3.8667,
          -35.2835,
          6.9319,
          12.65,
          12.3642,
          51.1801,
          44.4328,
          -33.4569,
          -15.4134,
          52.374,
          -0.2299,
          14.6937,
          11.5625,
          -17.8294,
          9.5716,
          6.3654,
          36.819,
          50.8467,
          18.4896,
          31.9552,
          37.9534,
          38.7169,
          59.3326,
          47.498,
          38.5358,
          24.4648,
          48.2064,
          31.769,
          46.9481,
          42.6975,
          44.8176,
          42.87,
          -25.3007,
          12.1328,
          13.6894,
          55.6759,
          33.9,
          60.1692,
          48.1482,
          59.9127,
          -41.2866,
          9.9278,
          53.3331,
          45.8144,
          41.6941,
          -34.8335,
          47.9077,
          41.3275,
          54.6892,
          -22.5594,
          0.3925,
          46.0511,
          56.946,
          42,
          26.2154,
          59.437,
          35.1595,
          -20.1619,
          42.4411,
          35.8997,
          -16.5,
          43.8486,
          -4.2658,
          50.088,
          22.2796,
          35.6944,
          47.0056,
          55.755,
          37.5683,
          -6.1722,
          38.8951,
          10.488
         ],
         "lon": [
          116.3972,
          77.2167,
          106.8416,
          7.4898,
          -47.9297,
          90.4074,
          -99.1419,
          139.6917,
          38.7469,
          120.9822,
          31.2394,
          13.4105,
          100.5252,
          -0.1257,
          2.3488,
          18.4232,
          12.4811,
          96.1297,
          36.8167,
          -74.0818,
          -3.7026,
          -58.4004,
          30.5186,
          32.5822,
          3.042,
          44.4009,
          -75.698,
          21.0118,
          -6.8326,
          101.6865,
          69.2163,
          -77.0282,
          -0.1969,
          46.7096,
          85.3206,
          11.5167,
          149.1281,
          79.8478,
          -8,
          -1.5383,
          71.446,
          26.1043,
          -70.6483,
          28.2771,
          4.8897,
          -78.525,
          -17.4441,
          104.916,
          31.0539,
          -13.6476,
          2.4183,
          10.1658,
          4.3499,
          -69.9018,
          35.945,
          23.749,
          -9.1399,
          18.0649,
          19.0399,
          68.7791,
          54.3618,
          16.3707,
          35.2163,
          7.4474,
          23.3242,
          20.4633,
          74.59,
          -57.6359,
          -86.2504,
          -89.1872,
          12.5655,
          35.4833,
          24.9402,
          17.1067,
          10.7461,
          174.7756,
          -84.0807,
          -6.2489,
          15.978,
          44.8337,
          -56.1674,
          106.8832,
          19.8189,
          25.2798,
          17.0832,
          9.4537,
          14.5051,
          24.1059,
          21.4333,
          50.5832,
          24.7535,
          33.3669,
          57.4989,
          19.2636,
          14.5147,
          -68.15,
          18.3564,
          15.2832,
          14.4208,
          114.1887,
          51.4215,
          28.8575,
          37.6218,
          126.9778,
          35.7395,
          -77.0364,
          -66.8792
         ],
         "marker": {
          "color": [
           90.86,
           85.67,
           81.09,
           64.21,
           84.87,
           88.87,
           88.41,
           97.19,
           89.02,
           92.49,
           86.07,
           97.09,
           96.14,
           93.27,
           97.59,
           85.43,
           90.19,
           94.05,
           72.01,
           81.94,
           97.69,
           92.46,
           67.65,
           77.9,
           81.13,
           63.75,
           96.62,
           90.72,
           79.89,
           88.79,
           93.48,
           72.64,
           79.57,
           78.43,
           93.88,
           45.99,
           98.09,
           97.5,
           68.02,
           73.7,
           83.72,
           80.06,
           86.83,
           72.71,
           97.89,
           69.21,
           82.45,
           92.06,
           81.51,
           56.42,
           59.29,
           78.89,
           98.7,
           87.3,
           81.14,
           89.88,
           94.15,
           96.29,
           90.02,
           79.29,
           86.71,
           96.99,
           96.8,
           97.5,
           86.11,
           80.92,
           85.96,
           74.29,
           80.4,
           82.61,
           98,
           75.15,
           98.8,
           91.61,
           99.4,
           96.87,
           88.43,
           94.08,
           95.36,
           83.47,
           93.18,
           84.49,
           69.03,
           89.62,
           70.25,
           53.78,
           95.28,
           90.34,
           73.09,
           82.39,
           94.95,
           87.08,
           77.22,
           79.24,
           97.59,
           67.71,
           80.54,
           53.54,
           97.48,
           93.13,
           94.31,
           62.27,
           69.66,
           94.59,
           96.37,
           96.69,
           77.46
          ],
          "colorbar": {
           "len": 0.5,
           "thickness": 15,
           "title": {
            "text": "Trust in Doctor_and_nurses (%)"
           },
           "x": 1.1,
           "xpad": 10
          },
          "colorscale": [
           [
            0,
            "#0d0887"
           ],
           [
            0.1111111111111111,
            "#46039f"
           ],
           [
            0.2222222222222222,
            "#7201a8"
           ],
           [
            0.3333333333333333,
            "#9c179e"
           ],
           [
            0.4444444444444444,
            "#bd3786"
           ],
           [
            0.5555555555555556,
            "#d8576b"
           ],
           [
            0.6666666666666666,
            "#ed7953"
           ],
           [
            0.7777777777777778,
            "#fb9f3a"
           ],
           [
            0.8888888888888888,
            "#fdca26"
           ],
           [
            1,
            "#f0f921"
           ]
          ],
          "line": {
           "color": "black",
           "width": 0.5
          },
          "size": [
           45,
           44.916124877325004,
           36.683897075310874,
           35.42057934773155,
           35.29306550627162,
           34.1469729512084,
           32.77740159878611,
           32.757666535609346,
           32.45330308052043,
           32.15427972993024,
           32.02807182608522,
           30.675318607136255,
           29.893950065787912,
           29.582116123310115,
           29.47246058729708,
           29.045472115809943,
           28.991006665652485,
           28.373406706509957,
           28.29669491173517,
           28.140786005361083,
           27.83754205742291,
           27.566928689443074,
           27.509388788351927,
           27.484134308438314,
           27.436760764026435,
           27.210986784931755,
           26.714313196812643,
           26.71419544120581,
           26.49975468842979,
           26.113345908728114,
           26.0679597417461,
           25.954241844628175,
           25.80585832944934,
           25.661818127402615,
           25.320604609786272,
           24.81565913263904,
           24.724908379532348,
           24.058577134218382,
           23.865100045295964,
           23.81010879485324,
           23.317364838630585,
           23.294071276460553,
           23.288378895178298,
           23.20657400555564,
           22.81477786061264,
           22.788747788278354,
           22.56605941791541,
           22.546847456303915,
           22.171297227898847,
           21.416399187335543,
           21.301403355429237,
           20.859033880648823,
           20.672602181928518,
           20.434326882366733,
           20.36825718794967,
           20.2905669320038,
           20.132903426554865,
           20.124699079375848,
           19.82101031606675,
           19.82093416596763,
           19.66266321434331,
           19.372741517630732,
           19.30375739977149,
           19.211210352520332,
           18.09969021133407,
           18.08083326973406,
           17.899461265271647,
           17.853477355542807,
           17.82396843856249,
           17.563026493845005,
           17.225420278097452,
           17.112327454992254,
           16.956929397304496,
           16.888341068655883,
           16.817717576348564,
           16.518562565751115,
           16.482999075953643,
           16.43085106238061,
           15.263005047055797,
           15.056673631863083,
           14.499148242033922,
           14.335787761288193,
           13.648252117814518,
           13.512461331232874,
           13.389948770177126,
           12.575881505151147,
           12.072996016982309,
           11.564699373346354,
           11.486774089165975,
           10.310542430022066,
           9.759089186824944,
           9.653843860139826,
           9.579519672895913,
           5.806521527717226,
           5,
           20.792052034607593,
           14.348914077385933,
           31.371559611698686,
           20.28985364015211,
           18.4834226420523,
           30.91674194808114,
           13.213609693278006,
           33.46335114147749,
           28.259700296125256,
           29.079582398035832,
           37.631419615157206,
           25.228673259682935
          ]
         },
         "mode": "markers",
         "name": "Doctor_and_nurses",
         "text": [
          "China<br>Trust in Doctor_and_nurses: 90.86%<br>Population: 1,426,106,093.0",
          "India<br>Trust in Doctor_and_nurses: 85.67%<br>Population: 1,402,617,695.0",
          "Indonesia<br>Trust in Doctor_and_nurses: 81.09%<br>Population: 274,814,866.0",
          "Nigeria<br>Trust in Doctor_and_nurses: 64.21%<br>Population: 213,996,181.0",
          "Brazil<br>Trust in Doctor_and_nurses: 84.87%<br>Population: 208,660,842.0",
          "Bangladesh<br>Trust in Doctor_and_nurses: 88.87%<br>Population: 166,298,024.0",
          "Mexico<br>Trust in Doctor_and_nurses: 88.41%<br>Population: 126,799,054.0",
          "Japan<br>Trust in Doctor_and_nurses: 97.19%<br>Population: 126,304,543.0",
          "Ethiopia<br>Trust in Doctor_and_nurses: 89.02%<br>Population: 118,917,671.0",
          "Philippines<br>Trust in Doctor_and_nurses: 92.49%<br>Population: 112,081,264.0",
          "Egypt<br>Trust in Doctor_and_nurses: 86.07%<br>Population: 109,315,124.0",
          "Germany<br>Trust in Doctor_and_nurses: 97.09%<br>Population: 83,628,708.0",
          "Thailand<br>Trust in Doctor_and_nurses: 96.14%<br>Population: 71,641,484.0",
          "United Kingdom<br>Trust in Doctor_and_nurses: 93.27%<br>Population: 67,351,861.0",
          "France<br>Trust in Doctor_and_nurses: 97.59%<br>Population: 65,905,277.0",
          "South Africa<br>Trust in Doctor_and_nurses: 85.43%<br>Population: 60,562,381.0",
          "Italy<br>Trust in Doctor_and_nurses: 90.19%<br>Population: 59,912,769.0",
          "Myanmar<br>Trust in Doctor_and_nurses: 94.05%<br>Population: 53,016,522.0",
          "Kenya<br>Trust in Doctor_and_nurses: 72.01%<br>Population: 52,217,334.0",
          "Colombia<br>Trust in Doctor_and_nurses: 81.94%<br>Population: 50,629,997.0",
          "Spain<br>Trust in Doctor_and_nurses: 97.69%<br>Population: 47,679,489.0",
          "Argentina<br>Trust in Doctor_and_nurses: 92.46%<br>Population: 45,191,965.0",
          "Ukraine<br>Trust in Doctor_and_nurses: 67.65%<br>Population: 44,680,014.0",
          "Uganda<br>Trust in Doctor_and_nurses: 77.9%<br>Population: 44,457,152.0",
          "Algeria<br>Trust in Doctor_and_nurses: 81.13%<br>Population: 44,042,091.0",
          "Iraq<br>Trust in Doctor_and_nurses: 63.75%<br>Population: 42,116,605.0",
          "Canada<br>Trust in Doctor_and_nurses: 96.62%<br>Population: 38,171,902.0",
          "Poland<br>Trust in Doctor_and_nurses: 90.72%<br>Population: 38,171,012.0",
          "Morocco<br>Trust in Doctor_and_nurses: 79.89%<br>Population: 36,584,208.0",
          "Malaysia<br>Trust in Doctor_and_nurses: 88.79%<br>Population: 33,889,558.0",
          "Uzbekistan<br>Trust in Doctor_and_nurses: 93.48%<br>Population: 33,586,372.0",
          "Peru<br>Trust in Doctor_and_nurses: 72.64%<br>Population: 32,838,579.0",
          "Ghana<br>Trust in Doctor_and_nurses: 79.57%<br>Population: 31,887,809.0",
          "Saudi Arabia<br>Trust in Doctor_and_nurses: 78.43%<br>Population: 30,991,207.0",
          "Nepal<br>Trust in Doctor_and_nurses: 93.88%<br>Population: 28,966,574.0",
          "Cameroon<br>Trust in Doctor_and_nurses: 45.99%<br>Population: 26,210,558.0",
          "Australia<br>Trust in Doctor_and_nurses: 98.09%<br>Population: 25,743,791.0",
          "Sri Lanka<br>Trust in Doctor_and_nurses: 97.5%<br>Population: 22,561,807.0",
          "Mali<br>Trust in Doctor_and_nurses: 68.02%<br>Population: 21,713,836.0",
          "Burkina Faso<br>Trust in Doctor_and_nurses: 73.7%<br>Population: 21,478,690.0",
          "Kazakhstan<br>Trust in Doctor_and_nurses: 83.72%<br>Population: 19,482,117.0",
          "Romania<br>Trust in Doctor_and_nurses: 80.06%<br>Population: 19,392,469.0",
          "Chile<br>Trust in Doctor_and_nurses: 86.83%<br>Population: 19,370,624.0",
          "Zambia<br>Trust in Doctor_and_nurses: 72.71%<br>Population: 19,059,395.0",
          "Netherlands<br>Trust in Doctor_and_nurses: 97.89%<br>Population: 17,636,731.0",
          "Ecuador<br>Trust in Doctor_and_nurses: 69.21%<br>Population: 17,546,065.0",
          "Senegal<br>Trust in Doctor_and_nurses: 82.45%<br>Population: 16,789,219.0",
          "Cambodia<br>Trust in Doctor_and_nurses: 92.06%<br>Population: 16,725,473.999999998",
          "Zimbabwe<br>Trust in Doctor_and_nurses: 81.51%<br>Population: 15,526,888.0",
          "Guinea<br>Trust in Doctor_and_nurses: 56.42%<br>Population: 13,371,183.0",
          "Benin<br>Trust in Doctor_and_nurses: 59.29%<br>Population: 13,070,169.0",
          "Tunisia<br>Trust in Doctor_and_nurses: 78.89%<br>Population: 11,974,057.0",
          "Belgium<br>Trust in Doctor_and_nurses: 98.7%<br>Population: 11,540,107.0",
          "Dominican Republic<br>Trust in Doctor_and_nurses: 87.3%<br>Population: 11,008,300.0",
          "Jordan<br>Trust in Doctor_and_nurses: 81.14%<br>Population: 10,865,228.0",
          "Greece<br>Trust in Doctor_and_nurses: 89.88%<br>Population: 10,699,369.0",
          "Portugal<br>Trust in Doctor_and_nurses: 94.15%<br>Population: 10,370,519.0",
          "Sweden<br>Trust in Doctor_and_nurses: 96.29%<br>Population: 10,353,686.0",
          "Hungary<br>Trust in Doctor_and_nurses: 90.02%<br>Population: 9,749,457.0",
          "Tajikistan<br>Trust in Doctor_and_nurses: 79.29%<br>Population: 9,749,310.0",
          "United Arab Emirates<br>Trust in Doctor_and_nurses: 86.71%<br>Population: 9,448,524.0",
          "Austria<br>Trust in Doctor_and_nurses: 96.99%<br>Population: 8,921,405.0",
          "Israel<br>Trust in Doctor_and_nurses: 96.8%<br>Population: 8,800,376.0",
          "Switzerland<br>Trust in Doctor_and_nurses: 97.5%<br>Population: 8,640,582.0",
          "Bulgaria<br>Trust in Doctor_and_nurses: 86.11%<br>Population: 6,933,652.0",
          "Serbia<br>Trust in Doctor_and_nurses: 80.92%<br>Population: 6,907,812.0",
          "Kyrgyzstan<br>Trust in Doctor_and_nurses: 85.96%<br>Population: 6,664,140.0",
          "Paraguay<br>Trust in Doctor_and_nurses: 74.29%<br>Population: 6,603,739.0",
          "Nicaragua<br>Trust in Doctor_and_nurses: 80.4%<br>Population: 6,565,267.0",
          "El Salvador<br>Trust in Doctor_and_nurses: 82.61%<br>Population: 6,234,673.0",
          "Denmark<br>Trust in Doctor_and_nurses: 98.0%<br>Population: 5,831,530.0",
          "Lebanon<br>Trust in Doctor_and_nurses: 75.15%<br>Population: 5,702,398.0",
          "Finland<br>Trust in Doctor_and_nurses: 98.8%<br>Population: 5,529,612.0",
          "Slovakia<br>Trust in Doctor_and_nurses: 91.61%<br>Population: 5,455,024.0",
          "Norway<br>Trust in Doctor_and_nurses: 99.4%<br>Population: 5,379,274.0",
          "New Zealand<br>Trust in Doctor_and_nurses: 96.87%<br>Population: 5,069,895.0",
          "Costa Rica<br>Trust in Doctor_and_nurses: 88.43%<br>Population: 5,034,320.0",
          "Ireland<br>Trust in Doctor_and_nurses: 94.08%<br>Population: 4,982,606.0",
          "Croatia<br>Trust in Doctor_and_nurses: 95.36%<br>Population: 3,953,958.0",
          "Georgia<br>Trust in Doctor_and_nurses: 83.47%<br>Population: 3,795,678.0",
          "Uruguay<br>Trust in Doctor_and_nurses: 93.18%<br>Population: 3,398,968.0",
          "Mongolia<br>Trust in Doctor_and_nurses: 84.49%<br>Population: 3,290,785.0",
          "Albania<br>Trust in Doctor_and_nurses: 69.03%<br>Population: 2,871,954.0",
          "Lithuania<br>Trust in Doctor_and_nurses: 89.62%<br>Population: 2,795,765.0",
          "Namibia<br>Trust in Doctor_and_nurses: 70.25%<br>Population: 2,728,762.0",
          "Gabon<br>Trust in Doctor_and_nurses: 53.78%<br>Population: 2,322,539.0",
          "Slovenia<br>Trust in Doctor_and_nurses: 95.28%<br>Population: 2,102,419.0",
          "Latvia<br>Trust in Doctor_and_nurses: 90.34%<br>Population: 1,901,123.0",
          "North Macedonia<br>Trust in Doctor_and_nurses: 73.09%<br>Population: 1,872,015.0",
          "Bahrain<br>Trust in Doctor_and_nurses: 82.39%<br>Population: 1,483,077.0",
          "Estonia<br>Trust in Doctor_and_nurses: 94.95%<br>Population: 1,329,669.0",
          "Cyprus<br>Trust in Doctor_and_nurses: 87.08%<br>Population: 1,302,247.0",
          "Mauritius<br>Trust in Doctor_and_nurses: 77.22%<br>Population: 1,283,223.0",
          "Montenegro<br>Trust in Doctor_and_nurses: 79.24%<br>Population: 607,935.0",
          "Malta<br>Trust in Doctor_and_nurses: 97.59%<br>Population: 518,207.0",
          "Bolivia<br>Trust in Doctor_and_nurses: 67.71%<br>Population: 11,816,299.0",
          "Bosnia Herzegovina<br>Trust in Doctor_and_nurses: 80.54%<br>Population: 3,299,349.0",
          "Congo Brazzaville<br>Trust in Doctor_and_nurses: 53.54%<br>Population: 95,989,998.0",
          "Czech Republic<br>Trust in Doctor_and_nurses: 97.48%<br>Population: 10,697,858.0",
          "Hong Kong<br>Trust in Doctor_and_nurses: 93.13%<br>Population: 7,481,000.0",
          "Iran<br>Trust in Doctor_and_nurses: 94.31%<br>Population: 87,723,443.0",
          "Moldova<br>Trust in Doctor_and_nurses: 62.27%<br>Population: 2,635,130.0",
          "Russia<br>Trust in Doctor_and_nurses: 69.66%<br>Population: 145,245,148.0",
          "South Korea<br>Trust in Doctor_and_nurses: 94.59%<br>Population: 51,836,239.0",
          "Tanzania<br>Trust in Doctor_and_nurses: 96.37%<br>Population: 60,972,798.0",
          "United States<br>Trust in Doctor_and_nurses: 96.69%<br>Population: 331,526,933.0",
          "Venezuela<br>Trust in Doctor_and_nurses: 77.46%<br>Population: 28,444,077.0"
         ],
         "type": "scattergeo",
         "visible": false
        },
        {
         "lat": [
          39.9075,
          28.6667,
          -6.2118,
          9.0574,
          -15.7797,
          23.7104,
          19.4273,
          35.6895,
          9.025,
          14.6042,
          30.0392,
          52.5244,
          13.722,
          51.5085,
          48.8534,
          -33.9258,
          41.8947,
          19.745,
          -1.2833,
          4.6097,
          40.4165,
          -34.6051,
          50.4454,
          0.3163,
          36.7525,
          33.3406,
          45.4166,
          52.2298,
          34.0133,
          3.1412,
          41.2647,
          -12.0432,
          5.556,
          24.6905,
          27.7017,
          3.8667,
          -35.2835,
          6.9319,
          12.65,
          12.3642,
          51.1801,
          44.4328,
          -33.4569,
          -15.4134,
          52.374,
          -0.2299,
          14.6937,
          11.5625,
          -17.8294,
          9.5716,
          6.3654,
          36.819,
          50.8467,
          18.4896,
          31.9552,
          37.9534,
          38.7169,
          59.3326,
          47.498,
          38.5358,
          24.4648,
          48.2064,
          31.769,
          46.9481,
          42.6975,
          44.8176,
          42.87,
          -25.3007,
          12.1328,
          13.6894,
          55.6759,
          33.9,
          60.1692,
          48.1482,
          59.9127,
          -41.2866,
          9.9278,
          53.3331,
          45.8144,
          41.6941,
          -34.8335,
          47.9077,
          41.3275,
          54.6892,
          -22.5594,
          0.3925,
          46.0511,
          56.946,
          42,
          26.2154,
          59.437,
          35.1595,
          -20.1619,
          42.4411,
          35.8997,
          -16.5,
          43.8486,
          -4.2658,
          50.088,
          22.2796,
          35.6944,
          47.0056,
          55.755,
          37.5683,
          -6.1722,
          38.8951,
          10.488
         ],
         "lon": [
          116.3972,
          77.2167,
          106.8416,
          7.4898,
          -47.9297,
          90.4074,
          -99.1419,
          139.6917,
          38.7469,
          120.9822,
          31.2394,
          13.4105,
          100.5252,
          -0.1257,
          2.3488,
          18.4232,
          12.4811,
          96.1297,
          36.8167,
          -74.0818,
          -3.7026,
          -58.4004,
          30.5186,
          32.5822,
          3.042,
          44.4009,
          -75.698,
          21.0118,
          -6.8326,
          101.6865,
          69.2163,
          -77.0282,
          -0.1969,
          46.7096,
          85.3206,
          11.5167,
          149.1281,
          79.8478,
          -8,
          -1.5383,
          71.446,
          26.1043,
          -70.6483,
          28.2771,
          4.8897,
          -78.525,
          -17.4441,
          104.916,
          31.0539,
          -13.6476,
          2.4183,
          10.1658,
          4.3499,
          -69.9018,
          35.945,
          23.749,
          -9.1399,
          18.0649,
          19.0399,
          68.7791,
          54.3618,
          16.3707,
          35.2163,
          7.4474,
          23.3242,
          20.4633,
          74.59,
          -57.6359,
          -86.2504,
          -89.1872,
          12.5655,
          35.4833,
          24.9402,
          17.1067,
          10.7461,
          174.7756,
          -84.0807,
          -6.2489,
          15.978,
          44.8337,
          -56.1674,
          106.8832,
          19.8189,
          25.2798,
          17.0832,
          9.4537,
          14.5051,
          24.1059,
          21.4333,
          50.5832,
          24.7535,
          33.3669,
          57.4989,
          19.2636,
          14.5147,
          -68.15,
          18.3564,
          15.2832,
          14.4208,
          114.1887,
          51.4215,
          28.8575,
          37.6218,
          126.9778,
          35.7395,
          -77.0364,
          -66.8792
         ],
         "marker": {
          "color": [
           73.24,
           65.68,
           58.64,
           44.08,
           65.22,
           75.47,
           58.47,
           77.06,
           70.78,
           85.26,
           73.41,
           89.66,
           57.8,
           86.69,
           86.97,
           68.66,
           68.9,
           78.57,
           63.23,
           54.61,
           76.52,
           71.4,
           57.08,
           64.55,
           68.35,
           63.66,
           85.98,
           87.1,
           76.62,
           73.8,
           83.08,
           52.04,
           67.74,
           66.81,
           79.69,
           38.26,
           87.26,
           64.07,
           67.85,
           50.96,
           73.62,
           72.12,
           67.21,
           62.07,
           85.58,
           46.87,
           67.63,
           89.04,
           83.9,
           54.88,
           42.43,
           53.72,
           80.73,
           62.85,
           54.29,
           29.04,
           69.78,
           79.24,
           78.28,
           47.22,
           84.74,
           82.12,
           70.03,
           80.61,
           61.01,
           68.26,
           74.75,
           58.26,
           63.73,
           68.62,
           88.74,
           50.46,
           83.2,
           77.53,
           91.86,
           94.02,
           72.78,
           84.32,
           74.61,
           64.35,
           78.82,
           63.48,
           54.68,
           76.41,
           52.31,
           40.93,
           73.35,
           83.61,
           59.14,
           70.51,
           83.33,
           76.19,
           72.88,
           72.35,
           86.21,
           53.4,
           70.48,
           53.94,
           84.3,
           60.28,
           74.44,
           60.89,
           63.33,
           61.07,
           88.18,
           88.25,
           59.52
          ],
          "colorbar": {
           "len": 0.5,
           "thickness": 15,
           "title": {
            "text": "Trust in Philantropist (%)"
           },
           "x": 1.1,
           "xpad": 10
          },
          "colorscale": [
           [
            0,
            "#000004"
           ],
           [
            0.1111111111111111,
            "#1b0c41"
           ],
           [
            0.2222222222222222,
            "#4a0c6b"
           ],
           [
            0.3333333333333333,
            "#781c6d"
           ],
           [
            0.4444444444444444,
            "#a52c60"
           ],
           [
            0.5555555555555556,
            "#cf4446"
           ],
           [
            0.6666666666666666,
            "#ed6925"
           ],
           [
            0.7777777777777778,
            "#fb9b06"
           ],
           [
            0.8888888888888888,
            "#f7d13d"
           ],
           [
            1,
            "#fcffa4"
           ]
          ],
          "line": {
           "color": "black",
           "width": 0.5
          },
          "size": [
           45,
           44.916124877325004,
           36.683897075310874,
           35.42057934773155,
           35.29306550627162,
           34.1469729512084,
           32.77740159878611,
           32.757666535609346,
           32.45330308052043,
           32.15427972993024,
           32.02807182608522,
           30.675318607136255,
           29.893950065787912,
           29.582116123310115,
           29.47246058729708,
           29.045472115809943,
           28.991006665652485,
           28.373406706509957,
           28.29669491173517,
           28.140786005361083,
           27.83754205742291,
           27.566928689443074,
           27.509388788351927,
           27.484134308438314,
           27.436760764026435,
           27.210986784931755,
           26.714313196812643,
           26.71419544120581,
           26.49975468842979,
           26.113345908728114,
           26.0679597417461,
           25.954241844628175,
           25.80585832944934,
           25.661818127402615,
           25.320604609786272,
           24.81565913263904,
           24.724908379532348,
           24.058577134218382,
           23.865100045295964,
           23.81010879485324,
           23.317364838630585,
           23.294071276460553,
           23.288378895178298,
           23.20657400555564,
           22.81477786061264,
           22.788747788278354,
           22.56605941791541,
           22.546847456303915,
           22.171297227898847,
           21.416399187335543,
           21.301403355429237,
           20.859033880648823,
           20.672602181928518,
           20.434326882366733,
           20.36825718794967,
           20.2905669320038,
           20.132903426554865,
           20.124699079375848,
           19.82101031606675,
           19.82093416596763,
           19.66266321434331,
           19.372741517630732,
           19.30375739977149,
           19.211210352520332,
           18.09969021133407,
           18.08083326973406,
           17.899461265271647,
           17.853477355542807,
           17.82396843856249,
           17.563026493845005,
           17.225420278097452,
           17.112327454992254,
           16.956929397304496,
           16.888341068655883,
           16.817717576348564,
           16.518562565751115,
           16.482999075953643,
           16.43085106238061,
           15.263005047055797,
           15.056673631863083,
           14.499148242033922,
           14.335787761288193,
           13.648252117814518,
           13.512461331232874,
           13.389948770177126,
           12.575881505151147,
           12.072996016982309,
           11.564699373346354,
           11.486774089165975,
           10.310542430022066,
           9.759089186824944,
           9.653843860139826,
           9.579519672895913,
           5.806521527717226,
           5,
           20.792052034607593,
           14.348914077385933,
           31.371559611698686,
           20.28985364015211,
           18.4834226420523,
           30.91674194808114,
           13.213609693278006,
           33.46335114147749,
           28.259700296125256,
           29.079582398035832,
           37.631419615157206,
           25.228673259682935
          ]
         },
         "mode": "markers",
         "name": "Philantropist",
         "text": [
          "China<br>Trust in Philantropist: 73.24%<br>Population: 1,426,106,093.0",
          "India<br>Trust in Philantropist: 65.68%<br>Population: 1,402,617,695.0",
          "Indonesia<br>Trust in Philantropist: 58.64%<br>Population: 274,814,866.0",
          "Nigeria<br>Trust in Philantropist: 44.08%<br>Population: 213,996,181.0",
          "Brazil<br>Trust in Philantropist: 65.22%<br>Population: 208,660,842.0",
          "Bangladesh<br>Trust in Philantropist: 75.47%<br>Population: 166,298,024.0",
          "Mexico<br>Trust in Philantropist: 58.47%<br>Population: 126,799,054.0",
          "Japan<br>Trust in Philantropist: 77.06%<br>Population: 126,304,543.0",
          "Ethiopia<br>Trust in Philantropist: 70.78%<br>Population: 118,917,671.0",
          "Philippines<br>Trust in Philantropist: 85.26%<br>Population: 112,081,264.0",
          "Egypt<br>Trust in Philantropist: 73.41%<br>Population: 109,315,124.0",
          "Germany<br>Trust in Philantropist: 89.66%<br>Population: 83,628,708.0",
          "Thailand<br>Trust in Philantropist: 57.8%<br>Population: 71,641,484.0",
          "United Kingdom<br>Trust in Philantropist: 86.69%<br>Population: 67,351,861.0",
          "France<br>Trust in Philantropist: 86.97%<br>Population: 65,905,277.0",
          "South Africa<br>Trust in Philantropist: 68.66%<br>Population: 60,562,381.0",
          "Italy<br>Trust in Philantropist: 68.9%<br>Population: 59,912,769.0",
          "Myanmar<br>Trust in Philantropist: 78.57%<br>Population: 53,016,522.0",
          "Kenya<br>Trust in Philantropist: 63.23%<br>Population: 52,217,334.0",
          "Colombia<br>Trust in Philantropist: 54.61%<br>Population: 50,629,997.0",
          "Spain<br>Trust in Philantropist: 76.52%<br>Population: 47,679,489.0",
          "Argentina<br>Trust in Philantropist: 71.4%<br>Population: 45,191,965.0",
          "Ukraine<br>Trust in Philantropist: 57.08%<br>Population: 44,680,014.0",
          "Uganda<br>Trust in Philantropist: 64.55%<br>Population: 44,457,152.0",
          "Algeria<br>Trust in Philantropist: 68.35%<br>Population: 44,042,091.0",
          "Iraq<br>Trust in Philantropist: 63.66%<br>Population: 42,116,605.0",
          "Canada<br>Trust in Philantropist: 85.98%<br>Population: 38,171,902.0",
          "Poland<br>Trust in Philantropist: 87.1%<br>Population: 38,171,012.0",
          "Morocco<br>Trust in Philantropist: 76.62%<br>Population: 36,584,208.0",
          "Malaysia<br>Trust in Philantropist: 73.8%<br>Population: 33,889,558.0",
          "Uzbekistan<br>Trust in Philantropist: 83.08%<br>Population: 33,586,372.0",
          "Peru<br>Trust in Philantropist: 52.04%<br>Population: 32,838,579.0",
          "Ghana<br>Trust in Philantropist: 67.74%<br>Population: 31,887,809.0",
          "Saudi Arabia<br>Trust in Philantropist: 66.81%<br>Population: 30,991,207.0",
          "Nepal<br>Trust in Philantropist: 79.69%<br>Population: 28,966,574.0",
          "Cameroon<br>Trust in Philantropist: 38.26%<br>Population: 26,210,558.0",
          "Australia<br>Trust in Philantropist: 87.26%<br>Population: 25,743,791.0",
          "Sri Lanka<br>Trust in Philantropist: 64.07%<br>Population: 22,561,807.0",
          "Mali<br>Trust in Philantropist: 67.85%<br>Population: 21,713,836.0",
          "Burkina Faso<br>Trust in Philantropist: 50.96%<br>Population: 21,478,690.0",
          "Kazakhstan<br>Trust in Philantropist: 73.62%<br>Population: 19,482,117.0",
          "Romania<br>Trust in Philantropist: 72.12%<br>Population: 19,392,469.0",
          "Chile<br>Trust in Philantropist: 67.21%<br>Population: 19,370,624.0",
          "Zambia<br>Trust in Philantropist: 62.07%<br>Population: 19,059,395.0",
          "Netherlands<br>Trust in Philantropist: 85.58%<br>Population: 17,636,731.0",
          "Ecuador<br>Trust in Philantropist: 46.87%<br>Population: 17,546,065.0",
          "Senegal<br>Trust in Philantropist: 67.63%<br>Population: 16,789,219.0",
          "Cambodia<br>Trust in Philantropist: 89.04%<br>Population: 16,725,473.999999998",
          "Zimbabwe<br>Trust in Philantropist: 83.9%<br>Population: 15,526,888.0",
          "Guinea<br>Trust in Philantropist: 54.88%<br>Population: 13,371,183.0",
          "Benin<br>Trust in Philantropist: 42.43%<br>Population: 13,070,169.0",
          "Tunisia<br>Trust in Philantropist: 53.72%<br>Population: 11,974,057.0",
          "Belgium<br>Trust in Philantropist: 80.73%<br>Population: 11,540,107.0",
          "Dominican Republic<br>Trust in Philantropist: 62.85%<br>Population: 11,008,300.0",
          "Jordan<br>Trust in Philantropist: 54.29%<br>Population: 10,865,228.0",
          "Greece<br>Trust in Philantropist: 29.04%<br>Population: 10,699,369.0",
          "Portugal<br>Trust in Philantropist: 69.78%<br>Population: 10,370,519.0",
          "Sweden<br>Trust in Philantropist: 79.24%<br>Population: 10,353,686.0",
          "Hungary<br>Trust in Philantropist: 78.28%<br>Population: 9,749,457.0",
          "Tajikistan<br>Trust in Philantropist: 47.22%<br>Population: 9,749,310.0",
          "United Arab Emirates<br>Trust in Philantropist: 84.74%<br>Population: 9,448,524.0",
          "Austria<br>Trust in Philantropist: 82.12%<br>Population: 8,921,405.0",
          "Israel<br>Trust in Philantropist: 70.03%<br>Population: 8,800,376.0",
          "Switzerland<br>Trust in Philantropist: 80.61%<br>Population: 8,640,582.0",
          "Bulgaria<br>Trust in Philantropist: 61.01%<br>Population: 6,933,652.0",
          "Serbia<br>Trust in Philantropist: 68.26%<br>Population: 6,907,812.0",
          "Kyrgyzstan<br>Trust in Philantropist: 74.75%<br>Population: 6,664,140.0",
          "Paraguay<br>Trust in Philantropist: 58.26%<br>Population: 6,603,739.0",
          "Nicaragua<br>Trust in Philantropist: 63.73%<br>Population: 6,565,267.0",
          "El Salvador<br>Trust in Philantropist: 68.62%<br>Population: 6,234,673.0",
          "Denmark<br>Trust in Philantropist: 88.74%<br>Population: 5,831,530.0",
          "Lebanon<br>Trust in Philantropist: 50.46%<br>Population: 5,702,398.0",
          "Finland<br>Trust in Philantropist: 83.2%<br>Population: 5,529,612.0",
          "Slovakia<br>Trust in Philantropist: 77.53%<br>Population: 5,455,024.0",
          "Norway<br>Trust in Philantropist: 91.86%<br>Population: 5,379,274.0",
          "New Zealand<br>Trust in Philantropist: 94.02%<br>Population: 5,069,895.0",
          "Costa Rica<br>Trust in Philantropist: 72.78%<br>Population: 5,034,320.0",
          "Ireland<br>Trust in Philantropist: 84.32%<br>Population: 4,982,606.0",
          "Croatia<br>Trust in Philantropist: 74.61%<br>Population: 3,953,958.0",
          "Georgia<br>Trust in Philantropist: 64.35%<br>Population: 3,795,678.0",
          "Uruguay<br>Trust in Philantropist: 78.82%<br>Population: 3,398,968.0",
          "Mongolia<br>Trust in Philantropist: 63.48%<br>Population: 3,290,785.0",
          "Albania<br>Trust in Philantropist: 54.68%<br>Population: 2,871,954.0",
          "Lithuania<br>Trust in Philantropist: 76.41%<br>Population: 2,795,765.0",
          "Namibia<br>Trust in Philantropist: 52.31%<br>Population: 2,728,762.0",
          "Gabon<br>Trust in Philantropist: 40.93%<br>Population: 2,322,539.0",
          "Slovenia<br>Trust in Philantropist: 73.35%<br>Population: 2,102,419.0",
          "Latvia<br>Trust in Philantropist: 83.61%<br>Population: 1,901,123.0",
          "North Macedonia<br>Trust in Philantropist: 59.14%<br>Population: 1,872,015.0",
          "Bahrain<br>Trust in Philantropist: 70.51%<br>Population: 1,483,077.0",
          "Estonia<br>Trust in Philantropist: 83.33%<br>Population: 1,329,669.0",
          "Cyprus<br>Trust in Philantropist: 76.19%<br>Population: 1,302,247.0",
          "Mauritius<br>Trust in Philantropist: 72.88%<br>Population: 1,283,223.0",
          "Montenegro<br>Trust in Philantropist: 72.35%<br>Population: 607,935.0",
          "Malta<br>Trust in Philantropist: 86.21%<br>Population: 518,207.0",
          "Bolivia<br>Trust in Philantropist: 53.4%<br>Population: 11,816,299.0",
          "Bosnia Herzegovina<br>Trust in Philantropist: 70.48%<br>Population: 3,299,349.0",
          "Congo Brazzaville<br>Trust in Philantropist: 53.94%<br>Population: 95,989,998.0",
          "Czech Republic<br>Trust in Philantropist: 84.3%<br>Population: 10,697,858.0",
          "Hong Kong<br>Trust in Philantropist: 60.28%<br>Population: 7,481,000.0",
          "Iran<br>Trust in Philantropist: 74.44%<br>Population: 87,723,443.0",
          "Moldova<br>Trust in Philantropist: 60.89%<br>Population: 2,635,130.0",
          "Russia<br>Trust in Philantropist: 63.33%<br>Population: 145,245,148.0",
          "South Korea<br>Trust in Philantropist: 61.07%<br>Population: 51,836,239.0",
          "Tanzania<br>Trust in Philantropist: 88.18%<br>Population: 60,972,798.0",
          "United States<br>Trust in Philantropist: 88.25%<br>Population: 331,526,933.0",
          "Venezuela<br>Trust in Philantropist: 59.52%<br>Population: 28,444,077.0"
         ],
         "type": "scattergeo",
         "visible": false
        },
        {
         "lat": [
          39.9075,
          28.6667,
          -6.2118,
          9.0574,
          -15.7797,
          23.7104,
          19.4273,
          35.6895,
          9.025,
          14.6042,
          30.0392,
          52.5244,
          13.722,
          51.5085,
          48.8534,
          -33.9258,
          41.8947,
          19.745,
          -1.2833,
          4.6097,
          40.4165,
          -34.6051,
          50.4454,
          0.3163,
          36.7525,
          33.3406,
          45.4166,
          52.2298,
          34.0133,
          3.1412,
          41.2647,
          -12.0432,
          5.556,
          24.6905,
          27.7017,
          3.8667,
          -35.2835,
          6.9319,
          12.65,
          12.3642,
          51.1801,
          44.4328,
          -33.4569,
          -15.4134,
          52.374,
          -0.2299,
          14.6937,
          11.5625,
          -17.8294,
          9.5716,
          6.3654,
          36.819,
          50.8467,
          18.4896,
          31.9552,
          37.9534,
          38.7169,
          59.3326,
          47.498,
          38.5358,
          24.4648,
          48.2064,
          31.769,
          46.9481,
          42.6975,
          44.8176,
          42.87,
          -25.3007,
          12.1328,
          13.6894,
          55.6759,
          33.9,
          60.1692,
          48.1482,
          59.9127,
          -41.2866,
          9.9278,
          53.3331,
          45.8144,
          41.6941,
          -34.8335,
          47.9077,
          41.3275,
          54.6892,
          -22.5594,
          0.3925,
          46.0511,
          56.946,
          42,
          26.2154,
          59.437,
          35.1595,
          -20.1619,
          42.4411,
          35.8997,
          -16.5,
          43.8486,
          -4.2658,
          50.088,
          22.2796,
          35.6944,
          47.0056,
          55.755,
          37.5683,
          -6.1722,
          38.8951,
          10.488
         ],
         "lon": [
          116.3972,
          77.2167,
          106.8416,
          7.4898,
          -47.9297,
          90.4074,
          -99.1419,
          139.6917,
          38.7469,
          120.9822,
          31.2394,
          13.4105,
          100.5252,
          -0.1257,
          2.3488,
          18.4232,
          12.4811,
          96.1297,
          36.8167,
          -74.0818,
          -3.7026,
          -58.4004,
          30.5186,
          32.5822,
          3.042,
          44.4009,
          -75.698,
          21.0118,
          -6.8326,
          101.6865,
          69.2163,
          -77.0282,
          -0.1969,
          46.7096,
          85.3206,
          11.5167,
          149.1281,
          79.8478,
          -8,
          -1.5383,
          71.446,
          26.1043,
          -70.6483,
          28.2771,
          4.8897,
          -78.525,
          -17.4441,
          104.916,
          31.0539,
          -13.6476,
          2.4183,
          10.1658,
          4.3499,
          -69.9018,
          35.945,
          23.749,
          -9.1399,
          18.0649,
          19.0399,
          68.7791,
          54.3618,
          16.3707,
          35.2163,
          7.4474,
          23.3242,
          20.4633,
          74.59,
          -57.6359,
          -86.2504,
          -89.1872,
          12.5655,
          35.4833,
          24.9402,
          17.1067,
          10.7461,
          174.7756,
          -84.0807,
          -6.2489,
          15.978,
          44.8337,
          -56.1674,
          106.8832,
          19.8189,
          25.2798,
          17.0832,
          9.4537,
          14.5051,
          24.1059,
          21.4333,
          50.5832,
          24.7535,
          33.3669,
          57.4989,
          19.2636,
          14.5147,
          -68.15,
          18.3564,
          15.2832,
          14.4208,
          114.1887,
          51.4215,
          28.8575,
          37.6218,
          126.9778,
          35.7395,
          -77.0364,
          -66.8792
         ],
         "marker": {
          "color": [
           92.47,
           38.2,
           66.59,
           35.11,
           26.95,
           14.65,
           21.6,
           58.26,
           49.54,
           43.1,
           65.83,
           55.14,
           69,
           37.71,
           46.74,
           48.28,
           17.89,
           48.01,
           34.87,
           23.29,
           14.98,
           13.94,
           18.13,
           19.68,
           74.09,
           56.82,
           63.96,
           49.17,
           48.42,
           32.2,
           45.52,
           9.95,
           56.12,
           53.28,
           76.42,
           27.93,
           57.33,
           91.54,
           70.25,
           54.32,
           32.21,
           38.82,
           13.87,
           14.17,
           43.09,
           13.89,
           55.08,
           55.72,
           31.66,
           38.89,
           33.44,
           46.59,
           60.02,
           8.54,
           67.76,
           28.43,
           66,
           26.01,
           57.29,
           59.08,
           64.93,
           61.15,
           59.57,
           61.26,
           44.47,
           34.49,
           50.64,
           46.74,
           17.95,
           22.48,
           59.38,
           42.96,
           35.64,
           40.55,
           45.59,
           57.98,
           19.35,
           44.29,
           30.52,
           59.28,
           20.19,
           81.36,
           42.43,
           29.29,
           23.45,
           30.37,
           37.15,
           20.5,
           47.3,
           60.27,
           28.08,
           59.03,
           48.68,
           34.61,
           80.79,
           34.62,
           30.34,
           40.88,
           51.52,
           78.87,
           75.05,
           18.89,
           10.95,
           74.79,
           37.04,
           64.67,
           27.05
          ],
          "colorbar": {
           "len": 0.5,
           "thickness": 15,
           "title": {
            "text": "Trust in Traditional_healers (%)"
           },
           "x": 1.1,
           "xpad": 10
          },
          "colorscale": [
           [
            0,
            "#30123b"
           ],
           [
            0.07142857142857142,
            "#4145ab"
           ],
           [
            0.14285714285714285,
            "#4675ed"
           ],
           [
            0.21428571428571427,
            "#39a2fc"
           ],
           [
            0.2857142857142857,
            "#1bcfd4"
           ],
           [
            0.35714285714285715,
            "#24eca6"
           ],
           [
            0.42857142857142855,
            "#61fc6c"
           ],
           [
            0.5,
            "#a4fc3b"
           ],
           [
            0.5714285714285714,
            "#d1e834"
           ],
           [
            0.6428571428571429,
            "#f3c63a"
           ],
           [
            0.7142857142857143,
            "#fe9b2d"
           ],
           [
            0.7857142857142857,
            "#f36315"
           ],
           [
            0.8571428571428571,
            "#d93806"
           ],
           [
            0.9285714285714286,
            "#b11901"
           ],
           [
            1,
            "#7a0402"
           ]
          ],
          "line": {
           "color": "black",
           "width": 0.5
          },
          "size": [
           45,
           44.916124877325004,
           36.683897075310874,
           35.42057934773155,
           35.29306550627162,
           34.1469729512084,
           32.77740159878611,
           32.757666535609346,
           32.45330308052043,
           32.15427972993024,
           32.02807182608522,
           30.675318607136255,
           29.893950065787912,
           29.582116123310115,
           29.47246058729708,
           29.045472115809943,
           28.991006665652485,
           28.373406706509957,
           28.29669491173517,
           28.140786005361083,
           27.83754205742291,
           27.566928689443074,
           27.509388788351927,
           27.484134308438314,
           27.436760764026435,
           27.210986784931755,
           26.714313196812643,
           26.71419544120581,
           26.49975468842979,
           26.113345908728114,
           26.0679597417461,
           25.954241844628175,
           25.80585832944934,
           25.661818127402615,
           25.320604609786272,
           24.81565913263904,
           24.724908379532348,
           24.058577134218382,
           23.865100045295964,
           23.81010879485324,
           23.317364838630585,
           23.294071276460553,
           23.288378895178298,
           23.20657400555564,
           22.81477786061264,
           22.788747788278354,
           22.56605941791541,
           22.546847456303915,
           22.171297227898847,
           21.416399187335543,
           21.301403355429237,
           20.859033880648823,
           20.672602181928518,
           20.434326882366733,
           20.36825718794967,
           20.2905669320038,
           20.132903426554865,
           20.124699079375848,
           19.82101031606675,
           19.82093416596763,
           19.66266321434331,
           19.372741517630732,
           19.30375739977149,
           19.211210352520332,
           18.09969021133407,
           18.08083326973406,
           17.899461265271647,
           17.853477355542807,
           17.82396843856249,
           17.563026493845005,
           17.225420278097452,
           17.112327454992254,
           16.956929397304496,
           16.888341068655883,
           16.817717576348564,
           16.518562565751115,
           16.482999075953643,
           16.43085106238061,
           15.263005047055797,
           15.056673631863083,
           14.499148242033922,
           14.335787761288193,
           13.648252117814518,
           13.512461331232874,
           13.389948770177126,
           12.575881505151147,
           12.072996016982309,
           11.564699373346354,
           11.486774089165975,
           10.310542430022066,
           9.759089186824944,
           9.653843860139826,
           9.579519672895913,
           5.806521527717226,
           5,
           20.792052034607593,
           14.348914077385933,
           31.371559611698686,
           20.28985364015211,
           18.4834226420523,
           30.91674194808114,
           13.213609693278006,
           33.46335114147749,
           28.259700296125256,
           29.079582398035832,
           37.631419615157206,
           25.228673259682935
          ]
         },
         "mode": "markers",
         "name": "Traditional_healers",
         "text": [
          "China<br>Trust in Traditional_healers: 92.47%<br>Population: 1,426,106,093.0",
          "India<br>Trust in Traditional_healers: 38.2%<br>Population: 1,402,617,695.0",
          "Indonesia<br>Trust in Traditional_healers: 66.59%<br>Population: 274,814,866.0",
          "Nigeria<br>Trust in Traditional_healers: 35.11%<br>Population: 213,996,181.0",
          "Brazil<br>Trust in Traditional_healers: 26.95%<br>Population: 208,660,842.0",
          "Bangladesh<br>Trust in Traditional_healers: 14.65%<br>Population: 166,298,024.0",
          "Mexico<br>Trust in Traditional_healers: 21.6%<br>Population: 126,799,054.0",
          "Japan<br>Trust in Traditional_healers: 58.26%<br>Population: 126,304,543.0",
          "Ethiopia<br>Trust in Traditional_healers: 49.54%<br>Population: 118,917,671.0",
          "Philippines<br>Trust in Traditional_healers: 43.1%<br>Population: 112,081,264.0",
          "Egypt<br>Trust in Traditional_healers: 65.83%<br>Population: 109,315,124.0",
          "Germany<br>Trust in Traditional_healers: 55.14%<br>Population: 83,628,708.0",
          "Thailand<br>Trust in Traditional_healers: 69.0%<br>Population: 71,641,484.0",
          "United Kingdom<br>Trust in Traditional_healers: 37.71%<br>Population: 67,351,861.0",
          "France<br>Trust in Traditional_healers: 46.74%<br>Population: 65,905,277.0",
          "South Africa<br>Trust in Traditional_healers: 48.28%<br>Population: 60,562,381.0",
          "Italy<br>Trust in Traditional_healers: 17.89%<br>Population: 59,912,769.0",
          "Myanmar<br>Trust in Traditional_healers: 48.01%<br>Population: 53,016,522.0",
          "Kenya<br>Trust in Traditional_healers: 34.87%<br>Population: 52,217,334.0",
          "Colombia<br>Trust in Traditional_healers: 23.29%<br>Population: 50,629,997.0",
          "Spain<br>Trust in Traditional_healers: 14.98%<br>Population: 47,679,489.0",
          "Argentina<br>Trust in Traditional_healers: 13.94%<br>Population: 45,191,965.0",
          "Ukraine<br>Trust in Traditional_healers: 18.13%<br>Population: 44,680,014.0",
          "Uganda<br>Trust in Traditional_healers: 19.68%<br>Population: 44,457,152.0",
          "Algeria<br>Trust in Traditional_healers: 74.09%<br>Population: 44,042,091.0",
          "Iraq<br>Trust in Traditional_healers: 56.82%<br>Population: 42,116,605.0",
          "Canada<br>Trust in Traditional_healers: 63.96%<br>Population: 38,171,902.0",
          "Poland<br>Trust in Traditional_healers: 49.17%<br>Population: 38,171,012.0",
          "Morocco<br>Trust in Traditional_healers: 48.42%<br>Population: 36,584,208.0",
          "Malaysia<br>Trust in Traditional_healers: 32.2%<br>Population: 33,889,558.0",
          "Uzbekistan<br>Trust in Traditional_healers: 45.52%<br>Population: 33,586,372.0",
          "Peru<br>Trust in Traditional_healers: 9.95%<br>Population: 32,838,579.0",
          "Ghana<br>Trust in Traditional_healers: 56.12%<br>Population: 31,887,809.0",
          "Saudi Arabia<br>Trust in Traditional_healers: 53.28%<br>Population: 30,991,207.0",
          "Nepal<br>Trust in Traditional_healers: 76.42%<br>Population: 28,966,574.0",
          "Cameroon<br>Trust in Traditional_healers: 27.93%<br>Population: 26,210,558.0",
          "Australia<br>Trust in Traditional_healers: 57.33%<br>Population: 25,743,791.0",
          "Sri Lanka<br>Trust in Traditional_healers: 91.54%<br>Population: 22,561,807.0",
          "Mali<br>Trust in Traditional_healers: 70.25%<br>Population: 21,713,836.0",
          "Burkina Faso<br>Trust in Traditional_healers: 54.32%<br>Population: 21,478,690.0",
          "Kazakhstan<br>Trust in Traditional_healers: 32.21%<br>Population: 19,482,117.0",
          "Romania<br>Trust in Traditional_healers: 38.82%<br>Population: 19,392,469.0",
          "Chile<br>Trust in Traditional_healers: 13.87%<br>Population: 19,370,624.0",
          "Zambia<br>Trust in Traditional_healers: 14.17%<br>Population: 19,059,395.0",
          "Netherlands<br>Trust in Traditional_healers: 43.09%<br>Population: 17,636,731.0",
          "Ecuador<br>Trust in Traditional_healers: 13.89%<br>Population: 17,546,065.0",
          "Senegal<br>Trust in Traditional_healers: 55.08%<br>Population: 16,789,219.0",
          "Cambodia<br>Trust in Traditional_healers: 55.72%<br>Population: 16,725,473.999999998",
          "Zimbabwe<br>Trust in Traditional_healers: 31.66%<br>Population: 15,526,888.0",
          "Guinea<br>Trust in Traditional_healers: 38.89%<br>Population: 13,371,183.0",
          "Benin<br>Trust in Traditional_healers: 33.44%<br>Population: 13,070,169.0",
          "Tunisia<br>Trust in Traditional_healers: 46.59%<br>Population: 11,974,057.0",
          "Belgium<br>Trust in Traditional_healers: 60.02%<br>Population: 11,540,107.0",
          "Dominican Republic<br>Trust in Traditional_healers: 8.54%<br>Population: 11,008,300.0",
          "Jordan<br>Trust in Traditional_healers: 67.76%<br>Population: 10,865,228.0",
          "Greece<br>Trust in Traditional_healers: 28.43%<br>Population: 10,699,369.0",
          "Portugal<br>Trust in Traditional_healers: 66.0%<br>Population: 10,370,519.0",
          "Sweden<br>Trust in Traditional_healers: 26.01%<br>Population: 10,353,686.0",
          "Hungary<br>Trust in Traditional_healers: 57.29%<br>Population: 9,749,457.0",
          "Tajikistan<br>Trust in Traditional_healers: 59.08%<br>Population: 9,749,310.0",
          "United Arab Emirates<br>Trust in Traditional_healers: 64.93%<br>Population: 9,448,524.0",
          "Austria<br>Trust in Traditional_healers: 61.15%<br>Population: 8,921,405.0",
          "Israel<br>Trust in Traditional_healers: 59.57%<br>Population: 8,800,376.0",
          "Switzerland<br>Trust in Traditional_healers: 61.26%<br>Population: 8,640,582.0",
          "Bulgaria<br>Trust in Traditional_healers: 44.47%<br>Population: 6,933,652.0",
          "Serbia<br>Trust in Traditional_healers: 34.49%<br>Population: 6,907,812.0",
          "Kyrgyzstan<br>Trust in Traditional_healers: 50.64%<br>Population: 6,664,140.0",
          "Paraguay<br>Trust in Traditional_healers: 46.74%<br>Population: 6,603,739.0",
          "Nicaragua<br>Trust in Traditional_healers: 17.95%<br>Population: 6,565,267.0",
          "El Salvador<br>Trust in Traditional_healers: 22.48%<br>Population: 6,234,673.0",
          "Denmark<br>Trust in Traditional_healers: 59.38%<br>Population: 5,831,530.0",
          "Lebanon<br>Trust in Traditional_healers: 42.96%<br>Population: 5,702,398.0",
          "Finland<br>Trust in Traditional_healers: 35.64%<br>Population: 5,529,612.0",
          "Slovakia<br>Trust in Traditional_healers: 40.55%<br>Population: 5,455,024.0",
          "Norway<br>Trust in Traditional_healers: 45.59%<br>Population: 5,379,274.0",
          "New Zealand<br>Trust in Traditional_healers: 57.98%<br>Population: 5,069,895.0",
          "Costa Rica<br>Trust in Traditional_healers: 19.35%<br>Population: 5,034,320.0",
          "Ireland<br>Trust in Traditional_healers: 44.29%<br>Population: 4,982,606.0",
          "Croatia<br>Trust in Traditional_healers: 30.52%<br>Population: 3,953,958.0",
          "Georgia<br>Trust in Traditional_healers: 59.28%<br>Population: 3,795,678.0",
          "Uruguay<br>Trust in Traditional_healers: 20.19%<br>Population: 3,398,968.0",
          "Mongolia<br>Trust in Traditional_healers: 81.36%<br>Population: 3,290,785.0",
          "Albania<br>Trust in Traditional_healers: 42.43%<br>Population: 2,871,954.0",
          "Lithuania<br>Trust in Traditional_healers: 29.29%<br>Population: 2,795,765.0",
          "Namibia<br>Trust in Traditional_healers: 23.45%<br>Population: 2,728,762.0",
          "Gabon<br>Trust in Traditional_healers: 30.37%<br>Population: 2,322,539.0",
          "Slovenia<br>Trust in Traditional_healers: 37.15%<br>Population: 2,102,419.0",
          "Latvia<br>Trust in Traditional_healers: 20.5%<br>Population: 1,901,123.0",
          "North Macedonia<br>Trust in Traditional_healers: 47.3%<br>Population: 1,872,015.0",
          "Bahrain<br>Trust in Traditional_healers: 60.27%<br>Population: 1,483,077.0",
          "Estonia<br>Trust in Traditional_healers: 28.08%<br>Population: 1,329,669.0",
          "Cyprus<br>Trust in Traditional_healers: 59.03%<br>Population: 1,302,247.0",
          "Mauritius<br>Trust in Traditional_healers: 48.68%<br>Population: 1,283,223.0",
          "Montenegro<br>Trust in Traditional_healers: 34.61%<br>Population: 607,935.0",
          "Malta<br>Trust in Traditional_healers: 80.79%<br>Population: 518,207.0",
          "Bolivia<br>Trust in Traditional_healers: 34.62%<br>Population: 11,816,299.0",
          "Bosnia Herzegovina<br>Trust in Traditional_healers: 30.34%<br>Population: 3,299,349.0",
          "Congo Brazzaville<br>Trust in Traditional_healers: 40.88%<br>Population: 95,989,998.0",
          "Czech Republic<br>Trust in Traditional_healers: 51.52%<br>Population: 10,697,858.0",
          "Hong Kong<br>Trust in Traditional_healers: 78.87%<br>Population: 7,481,000.0",
          "Iran<br>Trust in Traditional_healers: 75.05%<br>Population: 87,723,443.0",
          "Moldova<br>Trust in Traditional_healers: 18.89%<br>Population: 2,635,130.0",
          "Russia<br>Trust in Traditional_healers: 10.95%<br>Population: 145,245,148.0",
          "South Korea<br>Trust in Traditional_healers: 74.79%<br>Population: 51,836,239.0",
          "Tanzania<br>Trust in Traditional_healers: 37.04%<br>Population: 60,972,798.0",
          "United States<br>Trust in Traditional_healers: 64.67%<br>Population: 331,526,933.0",
          "Venezuela<br>Trust in Traditional_healers: 27.05%<br>Population: 28,444,077.0"
         ],
         "type": "scattergeo",
         "visible": false
        },
        {
         "lat": [
          39.9075,
          28.6667,
          -6.2118,
          9.0574,
          -15.7797,
          23.7104,
          19.4273,
          35.6895,
          9.025,
          14.6042,
          30.0392,
          52.5244,
          13.722,
          51.5085,
          48.8534,
          -33.9258,
          41.8947,
          19.745,
          -1.2833,
          4.6097,
          40.4165,
          -34.6051,
          50.4454,
          0.3163,
          36.7525,
          33.3406,
          45.4166,
          52.2298,
          34.0133,
          3.1412,
          41.2647,
          -12.0432,
          5.556,
          24.6905,
          27.7017,
          3.8667,
          -35.2835,
          6.9319,
          12.65,
          12.3642,
          51.1801,
          44.4328,
          -33.4569,
          -15.4134,
          52.374,
          -0.2299,
          14.6937,
          11.5625,
          -17.8294,
          9.5716,
          6.3654,
          36.819,
          50.8467,
          18.4896,
          31.9552,
          37.9534,
          38.7169,
          59.3326,
          47.498,
          38.5358,
          24.4648,
          48.2064,
          31.769,
          46.9481,
          42.6975,
          44.8176,
          42.87,
          -25.3007,
          12.1328,
          13.6894,
          55.6759,
          33.9,
          60.1692,
          48.1482,
          59.9127,
          -41.2866,
          9.9278,
          53.3331,
          45.8144,
          41.6941,
          -34.8335,
          47.9077,
          41.3275,
          54.6892,
          -22.5594,
          0.3925,
          46.0511,
          56.946,
          42,
          26.2154,
          59.437,
          35.1595,
          -20.1619,
          42.4411,
          35.8997,
          -16.5,
          43.8486,
          -4.2658,
          50.088,
          22.2796,
          35.6944,
          47.0056,
          55.755,
          37.5683,
          -6.1722,
          38.8951,
          10.488
         ],
         "lon": [
          116.3972,
          77.2167,
          106.8416,
          7.4898,
          -47.9297,
          90.4074,
          -99.1419,
          139.6917,
          38.7469,
          120.9822,
          31.2394,
          13.4105,
          100.5252,
          -0.1257,
          2.3488,
          18.4232,
          12.4811,
          96.1297,
          36.8167,
          -74.0818,
          -3.7026,
          -58.4004,
          30.5186,
          32.5822,
          3.042,
          44.4009,
          -75.698,
          21.0118,
          -6.8326,
          101.6865,
          69.2163,
          -77.0282,
          -0.1969,
          46.7096,
          85.3206,
          11.5167,
          149.1281,
          79.8478,
          -8,
          -1.5383,
          71.446,
          26.1043,
          -70.6483,
          28.2771,
          4.8897,
          -78.525,
          -17.4441,
          104.916,
          31.0539,
          -13.6476,
          2.4183,
          10.1658,
          4.3499,
          -69.9018,
          35.945,
          23.749,
          -9.1399,
          18.0649,
          19.0399,
          68.7791,
          54.3618,
          16.3707,
          35.2163,
          7.4474,
          23.3242,
          20.4633,
          74.59,
          -57.6359,
          -86.2504,
          -89.1872,
          12.5655,
          35.4833,
          24.9402,
          17.1067,
          10.7461,
          174.7756,
          -84.0807,
          -6.2489,
          15.978,
          44.8337,
          -56.1674,
          106.8832,
          19.8189,
          25.2798,
          17.0832,
          9.4537,
          14.5051,
          24.1059,
          21.4333,
          50.5832,
          24.7535,
          33.3669,
          57.4989,
          19.2636,
          14.5147,
          -68.15,
          18.3564,
          15.2832,
          14.4208,
          114.1887,
          51.4215,
          28.8575,
          37.6218,
          126.9778,
          35.7395,
          -77.0364,
          -66.8792
         ],
         "marker": {
          "color": [
           88.08,
           68.36,
           80.38,
           42.47,
           53.58,
           86.78,
           67.28,
           86.37,
           83.63,
           76.88,
           78.27,
           91.47,
           71.78,
           88.14,
           81.8,
           49.8,
           79.82,
           78.55,
           58.43,
           61.87,
           82.65,
           75.87,
           75.47,
           47.01,
           67.3,
           76.03,
           89.83,
           90.5,
           73.75,
           71.86,
           90.51,
           57.42,
           56.74,
           72.47,
           87.83,
           33.71,
           92.21,
           81.04,
           71.25,
           55.94,
           84.67,
           77.9,
           69.51,
           45.3,
           93.7,
           53.89,
           77.53,
           75.51,
           64.96,
           56.69,
           22.99,
           62.81,
           90.28,
           69.45,
           69.96,
           71.22,
           74.77,
           95.29,
           89.97,
           70.9,
           70.97,
           88.44,
           76.72,
           86.47,
           75.73,
           73.16,
           89.44,
           65.66,
           62.54,
           56.8,
           95.2,
           69.77,
           93.56,
           87.63,
           96.13,
           93.92,
           64.6,
           87.94,
           84.48,
           83.91,
           79.75,
           77.54,
           50.72,
           89.25,
           54.18,
           28.19,
           88.75,
           80.67,
           66.87,
           64.29,
           87.24,
           83.88,
           64.15,
           68.27,
           80.57,
           57.68,
           79.27,
           39.63,
           88.3,
           74.22,
           83.55,
           65.15,
           76,
           84.13,
           88.91,
           89.7,
           61.17
          ],
          "colorbar": {
           "len": 0.5,
           "thickness": 15,
           "title": {
            "text": "Trust in Neighbourhood (%)"
           },
           "x": 1.1,
           "xpad": 10
          },
          "colorscale": [
           [
            0,
            "#000004"
           ],
           [
            0.1111111111111111,
            "#180f3d"
           ],
           [
            0.2222222222222222,
            "#440f76"
           ],
           [
            0.3333333333333333,
            "#721f81"
           ],
           [
            0.4444444444444444,
            "#9e2f7f"
           ],
           [
            0.5555555555555556,
            "#cd4071"
           ],
           [
            0.6666666666666666,
            "#f1605d"
           ],
           [
            0.7777777777777778,
            "#fd9668"
           ],
           [
            0.8888888888888888,
            "#feca8d"
           ],
           [
            1,
            "#fcfdbf"
           ]
          ],
          "line": {
           "color": "black",
           "width": 0.5
          },
          "size": [
           45,
           44.916124877325004,
           36.683897075310874,
           35.42057934773155,
           35.29306550627162,
           34.1469729512084,
           32.77740159878611,
           32.757666535609346,
           32.45330308052043,
           32.15427972993024,
           32.02807182608522,
           30.675318607136255,
           29.893950065787912,
           29.582116123310115,
           29.47246058729708,
           29.045472115809943,
           28.991006665652485,
           28.373406706509957,
           28.29669491173517,
           28.140786005361083,
           27.83754205742291,
           27.566928689443074,
           27.509388788351927,
           27.484134308438314,
           27.436760764026435,
           27.210986784931755,
           26.714313196812643,
           26.71419544120581,
           26.49975468842979,
           26.113345908728114,
           26.0679597417461,
           25.954241844628175,
           25.80585832944934,
           25.661818127402615,
           25.320604609786272,
           24.81565913263904,
           24.724908379532348,
           24.058577134218382,
           23.865100045295964,
           23.81010879485324,
           23.317364838630585,
           23.294071276460553,
           23.288378895178298,
           23.20657400555564,
           22.81477786061264,
           22.788747788278354,
           22.56605941791541,
           22.546847456303915,
           22.171297227898847,
           21.416399187335543,
           21.301403355429237,
           20.859033880648823,
           20.672602181928518,
           20.434326882366733,
           20.36825718794967,
           20.2905669320038,
           20.132903426554865,
           20.124699079375848,
           19.82101031606675,
           19.82093416596763,
           19.66266321434331,
           19.372741517630732,
           19.30375739977149,
           19.211210352520332,
           18.09969021133407,
           18.08083326973406,
           17.899461265271647,
           17.853477355542807,
           17.82396843856249,
           17.563026493845005,
           17.225420278097452,
           17.112327454992254,
           16.956929397304496,
           16.888341068655883,
           16.817717576348564,
           16.518562565751115,
           16.482999075953643,
           16.43085106238061,
           15.263005047055797,
           15.056673631863083,
           14.499148242033922,
           14.335787761288193,
           13.648252117814518,
           13.512461331232874,
           13.389948770177126,
           12.575881505151147,
           12.072996016982309,
           11.564699373346354,
           11.486774089165975,
           10.310542430022066,
           9.759089186824944,
           9.653843860139826,
           9.579519672895913,
           5.806521527717226,
           5,
           20.792052034607593,
           14.348914077385933,
           31.371559611698686,
           20.28985364015211,
           18.4834226420523,
           30.91674194808114,
           13.213609693278006,
           33.46335114147749,
           28.259700296125256,
           29.079582398035832,
           37.631419615157206,
           25.228673259682935
          ]
         },
         "mode": "markers",
         "name": "Neighbourhood",
         "text": [
          "China<br>Trust in Neighbourhood: 88.08%<br>Population: 1,426,106,093.0",
          "India<br>Trust in Neighbourhood: 68.36%<br>Population: 1,402,617,695.0",
          "Indonesia<br>Trust in Neighbourhood: 80.38%<br>Population: 274,814,866.0",
          "Nigeria<br>Trust in Neighbourhood: 42.47%<br>Population: 213,996,181.0",
          "Brazil<br>Trust in Neighbourhood: 53.58%<br>Population: 208,660,842.0",
          "Bangladesh<br>Trust in Neighbourhood: 86.78%<br>Population: 166,298,024.0",
          "Mexico<br>Trust in Neighbourhood: 67.28%<br>Population: 126,799,054.0",
          "Japan<br>Trust in Neighbourhood: 86.37%<br>Population: 126,304,543.0",
          "Ethiopia<br>Trust in Neighbourhood: 83.63%<br>Population: 118,917,671.0",
          "Philippines<br>Trust in Neighbourhood: 76.88%<br>Population: 112,081,264.0",
          "Egypt<br>Trust in Neighbourhood: 78.27%<br>Population: 109,315,124.0",
          "Germany<br>Trust in Neighbourhood: 91.47%<br>Population: 83,628,708.0",
          "Thailand<br>Trust in Neighbourhood: 71.78%<br>Population: 71,641,484.0",
          "United Kingdom<br>Trust in Neighbourhood: 88.14%<br>Population: 67,351,861.0",
          "France<br>Trust in Neighbourhood: 81.8%<br>Population: 65,905,277.0",
          "South Africa<br>Trust in Neighbourhood: 49.8%<br>Population: 60,562,381.0",
          "Italy<br>Trust in Neighbourhood: 79.82%<br>Population: 59,912,769.0",
          "Myanmar<br>Trust in Neighbourhood: 78.55%<br>Population: 53,016,522.0",
          "Kenya<br>Trust in Neighbourhood: 58.43%<br>Population: 52,217,334.0",
          "Colombia<br>Trust in Neighbourhood: 61.87%<br>Population: 50,629,997.0",
          "Spain<br>Trust in Neighbourhood: 82.65%<br>Population: 47,679,489.0",
          "Argentina<br>Trust in Neighbourhood: 75.87%<br>Population: 45,191,965.0",
          "Ukraine<br>Trust in Neighbourhood: 75.47%<br>Population: 44,680,014.0",
          "Uganda<br>Trust in Neighbourhood: 47.01%<br>Population: 44,457,152.0",
          "Algeria<br>Trust in Neighbourhood: 67.3%<br>Population: 44,042,091.0",
          "Iraq<br>Trust in Neighbourhood: 76.03%<br>Population: 42,116,605.0",
          "Canada<br>Trust in Neighbourhood: 89.83%<br>Population: 38,171,902.0",
          "Poland<br>Trust in Neighbourhood: 90.5%<br>Population: 38,171,012.0",
          "Morocco<br>Trust in Neighbourhood: 73.75%<br>Population: 36,584,208.0",
          "Malaysia<br>Trust in Neighbourhood: 71.86%<br>Population: 33,889,558.0",
          "Uzbekistan<br>Trust in Neighbourhood: 90.51%<br>Population: 33,586,372.0",
          "Peru<br>Trust in Neighbourhood: 57.42%<br>Population: 32,838,579.0",
          "Ghana<br>Trust in Neighbourhood: 56.74%<br>Population: 31,887,809.0",
          "Saudi Arabia<br>Trust in Neighbourhood: 72.47%<br>Population: 30,991,207.0",
          "Nepal<br>Trust in Neighbourhood: 87.83%<br>Population: 28,966,574.0",
          "Cameroon<br>Trust in Neighbourhood: 33.71%<br>Population: 26,210,558.0",
          "Australia<br>Trust in Neighbourhood: 92.21%<br>Population: 25,743,791.0",
          "Sri Lanka<br>Trust in Neighbourhood: 81.04%<br>Population: 22,561,807.0",
          "Mali<br>Trust in Neighbourhood: 71.25%<br>Population: 21,713,836.0",
          "Burkina Faso<br>Trust in Neighbourhood: 55.94%<br>Population: 21,478,690.0",
          "Kazakhstan<br>Trust in Neighbourhood: 84.67%<br>Population: 19,482,117.0",
          "Romania<br>Trust in Neighbourhood: 77.9%<br>Population: 19,392,469.0",
          "Chile<br>Trust in Neighbourhood: 69.51%<br>Population: 19,370,624.0",
          "Zambia<br>Trust in Neighbourhood: 45.3%<br>Population: 19,059,395.0",
          "Netherlands<br>Trust in Neighbourhood: 93.7%<br>Population: 17,636,731.0",
          "Ecuador<br>Trust in Neighbourhood: 53.89%<br>Population: 17,546,065.0",
          "Senegal<br>Trust in Neighbourhood: 77.53%<br>Population: 16,789,219.0",
          "Cambodia<br>Trust in Neighbourhood: 75.51%<br>Population: 16,725,473.999999998",
          "Zimbabwe<br>Trust in Neighbourhood: 64.96%<br>Population: 15,526,888.0",
          "Guinea<br>Trust in Neighbourhood: 56.69%<br>Population: 13,371,183.0",
          "Benin<br>Trust in Neighbourhood: 22.99%<br>Population: 13,070,169.0",
          "Tunisia<br>Trust in Neighbourhood: 62.81%<br>Population: 11,974,057.0",
          "Belgium<br>Trust in Neighbourhood: 90.28%<br>Population: 11,540,107.0",
          "Dominican Republic<br>Trust in Neighbourhood: 69.45%<br>Population: 11,008,300.0",
          "Jordan<br>Trust in Neighbourhood: 69.96%<br>Population: 10,865,228.0",
          "Greece<br>Trust in Neighbourhood: 71.22%<br>Population: 10,699,369.0",
          "Portugal<br>Trust in Neighbourhood: 74.77%<br>Population: 10,370,519.0",
          "Sweden<br>Trust in Neighbourhood: 95.29%<br>Population: 10,353,686.0",
          "Hungary<br>Trust in Neighbourhood: 89.97%<br>Population: 9,749,457.0",
          "Tajikistan<br>Trust in Neighbourhood: 70.9%<br>Population: 9,749,310.0",
          "United Arab Emirates<br>Trust in Neighbourhood: 70.97%<br>Population: 9,448,524.0",
          "Austria<br>Trust in Neighbourhood: 88.44%<br>Population: 8,921,405.0",
          "Israel<br>Trust in Neighbourhood: 76.72%<br>Population: 8,800,376.0",
          "Switzerland<br>Trust in Neighbourhood: 86.47%<br>Population: 8,640,582.0",
          "Bulgaria<br>Trust in Neighbourhood: 75.73%<br>Population: 6,933,652.0",
          "Serbia<br>Trust in Neighbourhood: 73.16%<br>Population: 6,907,812.0",
          "Kyrgyzstan<br>Trust in Neighbourhood: 89.44%<br>Population: 6,664,140.0",
          "Paraguay<br>Trust in Neighbourhood: 65.66%<br>Population: 6,603,739.0",
          "Nicaragua<br>Trust in Neighbourhood: 62.54%<br>Population: 6,565,267.0",
          "El Salvador<br>Trust in Neighbourhood: 56.8%<br>Population: 6,234,673.0",
          "Denmark<br>Trust in Neighbourhood: 95.2%<br>Population: 5,831,530.0",
          "Lebanon<br>Trust in Neighbourhood: 69.77%<br>Population: 5,702,398.0",
          "Finland<br>Trust in Neighbourhood: 93.56%<br>Population: 5,529,612.0",
          "Slovakia<br>Trust in Neighbourhood: 87.63%<br>Population: 5,455,024.0",
          "Norway<br>Trust in Neighbourhood: 96.13%<br>Population: 5,379,274.0",
          "New Zealand<br>Trust in Neighbourhood: 93.92%<br>Population: 5,069,895.0",
          "Costa Rica<br>Trust in Neighbourhood: 64.6%<br>Population: 5,034,320.0",
          "Ireland<br>Trust in Neighbourhood: 87.94%<br>Population: 4,982,606.0",
          "Croatia<br>Trust in Neighbourhood: 84.48%<br>Population: 3,953,958.0",
          "Georgia<br>Trust in Neighbourhood: 83.91%<br>Population: 3,795,678.0",
          "Uruguay<br>Trust in Neighbourhood: 79.75%<br>Population: 3,398,968.0",
          "Mongolia<br>Trust in Neighbourhood: 77.54%<br>Population: 3,290,785.0",
          "Albania<br>Trust in Neighbourhood: 50.72%<br>Population: 2,871,954.0",
          "Lithuania<br>Trust in Neighbourhood: 89.25%<br>Population: 2,795,765.0",
          "Namibia<br>Trust in Neighbourhood: 54.18%<br>Population: 2,728,762.0",
          "Gabon<br>Trust in Neighbourhood: 28.19%<br>Population: 2,322,539.0",
          "Slovenia<br>Trust in Neighbourhood: 88.75%<br>Population: 2,102,419.0",
          "Latvia<br>Trust in Neighbourhood: 80.67%<br>Population: 1,901,123.0",
          "North Macedonia<br>Trust in Neighbourhood: 66.87%<br>Population: 1,872,015.0",
          "Bahrain<br>Trust in Neighbourhood: 64.29%<br>Population: 1,483,077.0",
          "Estonia<br>Trust in Neighbourhood: 87.24%<br>Population: 1,329,669.0",
          "Cyprus<br>Trust in Neighbourhood: 83.88%<br>Population: 1,302,247.0",
          "Mauritius<br>Trust in Neighbourhood: 64.15%<br>Population: 1,283,223.0",
          "Montenegro<br>Trust in Neighbourhood: 68.27%<br>Population: 607,935.0",
          "Malta<br>Trust in Neighbourhood: 80.57%<br>Population: 518,207.0",
          "Bolivia<br>Trust in Neighbourhood: 57.68%<br>Population: 11,816,299.0",
          "Bosnia Herzegovina<br>Trust in Neighbourhood: 79.27%<br>Population: 3,299,349.0",
          "Congo Brazzaville<br>Trust in Neighbourhood: 39.63%<br>Population: 95,989,998.0",
          "Czech Republic<br>Trust in Neighbourhood: 88.3%<br>Population: 10,697,858.0",
          "Hong Kong<br>Trust in Neighbourhood: 74.22%<br>Population: 7,481,000.0",
          "Iran<br>Trust in Neighbourhood: 83.55%<br>Population: 87,723,443.0",
          "Moldova<br>Trust in Neighbourhood: 65.15%<br>Population: 2,635,130.0",
          "Russia<br>Trust in Neighbourhood: 76.0%<br>Population: 145,245,148.0",
          "South Korea<br>Trust in Neighbourhood: 84.13%<br>Population: 51,836,239.0",
          "Tanzania<br>Trust in Neighbourhood: 88.91%<br>Population: 60,972,798.0",
          "United States<br>Trust in Neighbourhood: 89.7%<br>Population: 331,526,933.0",
          "Venezuela<br>Trust in Neighbourhood: 61.17%<br>Population: 28,444,077.0"
         ],
         "type": "scattergeo",
         "visible": false
        }
       ],
       "layout": {
        "geo": {
         "bgcolor": "lightblue",
         "coastlinecolor": "gray",
         "countrycolor": "black",
         "countrywidth": 1.5,
         "landcolor": "lightgray",
         "projection": {
          "type": "natural earth"
         },
         "showcoastlines": true,
         "showcountries": true,
         "showframe": false,
         "showland": true
        },
        "height": 600,
        "legend": {
         "bgcolor": "rgba(255,255,255,0.5)",
         "bordercolor": "black",
         "borderwidth": 1,
         "x": -0.2,
         "xanchor": "left",
         "y": 0.9,
         "yanchor": "top"
        },
        "template": {
         "data": {
          "bar": [
           {
            "error_x": {
             "color": "#2a3f5f"
            },
            "error_y": {
             "color": "#2a3f5f"
            },
            "marker": {
             "line": {
              "color": "#E5ECF6",
              "width": 0.5
             },
             "pattern": {
              "fillmode": "overlay",
              "size": 10,
              "solidity": 0.2
             }
            },
            "type": "bar"
           }
          ],
          "barpolar": [
           {
            "marker": {
             "line": {
              "color": "#E5ECF6",
              "width": 0.5
             },
             "pattern": {
              "fillmode": "overlay",
              "size": 10,
              "solidity": 0.2
             }
            },
            "type": "barpolar"
           }
          ],
          "carpet": [
           {
            "aaxis": {
             "endlinecolor": "#2a3f5f",
             "gridcolor": "white",
             "linecolor": "white",
             "minorgridcolor": "white",
             "startlinecolor": "#2a3f5f"
            },
            "baxis": {
             "endlinecolor": "#2a3f5f",
             "gridcolor": "white",
             "linecolor": "white",
             "minorgridcolor": "white",
             "startlinecolor": "#2a3f5f"
            },
            "type": "carpet"
           }
          ],
          "choropleth": [
           {
            "colorbar": {
             "outlinewidth": 0,
             "ticks": ""
            },
            "type": "choropleth"
           }
          ],
          "contour": [
           {
            "colorbar": {
             "outlinewidth": 0,
             "ticks": ""
            },
            "colorscale": [
             [
              0,
              "#0d0887"
             ],
             [
              0.1111111111111111,
              "#46039f"
             ],
             [
              0.2222222222222222,
              "#7201a8"
             ],
             [
              0.3333333333333333,
              "#9c179e"
             ],
             [
              0.4444444444444444,
              "#bd3786"
             ],
             [
              0.5555555555555556,
              "#d8576b"
             ],
             [
              0.6666666666666666,
              "#ed7953"
             ],
             [
              0.7777777777777778,
              "#fb9f3a"
             ],
             [
              0.8888888888888888,
              "#fdca26"
             ],
             [
              1,
              "#f0f921"
             ]
            ],
            "type": "contour"
           }
          ],
          "contourcarpet": [
           {
            "colorbar": {
             "outlinewidth": 0,
             "ticks": ""
            },
            "type": "contourcarpet"
           }
          ],
          "heatmap": [
           {
            "colorbar": {
             "outlinewidth": 0,
             "ticks": ""
            },
            "colorscale": [
             [
              0,
              "#0d0887"
             ],
             [
              0.1111111111111111,
              "#46039f"
             ],
             [
              0.2222222222222222,
              "#7201a8"
             ],
             [
              0.3333333333333333,
              "#9c179e"
             ],
             [
              0.4444444444444444,
              "#bd3786"
             ],
             [
              0.5555555555555556,
              "#d8576b"
             ],
             [
              0.6666666666666666,
              "#ed7953"
             ],
             [
              0.7777777777777778,
              "#fb9f3a"
             ],
             [
              0.8888888888888888,
              "#fdca26"
             ],
             [
              1,
              "#f0f921"
             ]
            ],
            "type": "heatmap"
           }
          ],
          "heatmapgl": [
           {
            "colorbar": {
             "outlinewidth": 0,
             "ticks": ""
            },
            "colorscale": [
             [
              0,
              "#0d0887"
             ],
             [
              0.1111111111111111,
              "#46039f"
             ],
             [
              0.2222222222222222,
              "#7201a8"
             ],
             [
              0.3333333333333333,
              "#9c179e"
             ],
             [
              0.4444444444444444,
              "#bd3786"
             ],
             [
              0.5555555555555556,
              "#d8576b"
             ],
             [
              0.6666666666666666,
              "#ed7953"
             ],
             [
              0.7777777777777778,
              "#fb9f3a"
             ],
             [
              0.8888888888888888,
              "#fdca26"
             ],
             [
              1,
              "#f0f921"
             ]
            ],
            "type": "heatmapgl"
           }
          ],
          "histogram": [
           {
            "marker": {
             "pattern": {
              "fillmode": "overlay",
              "size": 10,
              "solidity": 0.2
             }
            },
            "type": "histogram"
           }
          ],
          "histogram2d": [
           {
            "colorbar": {
             "outlinewidth": 0,
             "ticks": ""
            },
            "colorscale": [
             [
              0,
              "#0d0887"
             ],
             [
              0.1111111111111111,
              "#46039f"
             ],
             [
              0.2222222222222222,
              "#7201a8"
             ],
             [
              0.3333333333333333,
              "#9c179e"
             ],
             [
              0.4444444444444444,
              "#bd3786"
             ],
             [
              0.5555555555555556,
              "#d8576b"
             ],
             [
              0.6666666666666666,
              "#ed7953"
             ],
             [
              0.7777777777777778,
              "#fb9f3a"
             ],
             [
              0.8888888888888888,
              "#fdca26"
             ],
             [
              1,
              "#f0f921"
             ]
            ],
            "type": "histogram2d"
           }
          ],
          "histogram2dcontour": [
           {
            "colorbar": {
             "outlinewidth": 0,
             "ticks": ""
            },
            "colorscale": [
             [
              0,
              "#0d0887"
             ],
             [
              0.1111111111111111,
              "#46039f"
             ],
             [
              0.2222222222222222,
              "#7201a8"
             ],
             [
              0.3333333333333333,
              "#9c179e"
             ],
             [
              0.4444444444444444,
              "#bd3786"
             ],
             [
              0.5555555555555556,
              "#d8576b"
             ],
             [
              0.6666666666666666,
              "#ed7953"
             ],
             [
              0.7777777777777778,
              "#fb9f3a"
             ],
             [
              0.8888888888888888,
              "#fdca26"
             ],
             [
              1,
              "#f0f921"
             ]
            ],
            "type": "histogram2dcontour"
           }
          ],
          "mesh3d": [
           {
            "colorbar": {
             "outlinewidth": 0,
             "ticks": ""
            },
            "type": "mesh3d"
           }
          ],
          "parcoords": [
           {
            "line": {
             "colorbar": {
              "outlinewidth": 0,
              "ticks": ""
             }
            },
            "type": "parcoords"
           }
          ],
          "pie": [
           {
            "automargin": true,
            "type": "pie"
           }
          ],
          "scatter": [
           {
            "fillpattern": {
             "fillmode": "overlay",
             "size": 10,
             "solidity": 0.2
            },
            "type": "scatter"
           }
          ],
          "scatter3d": [
           {
            "line": {
             "colorbar": {
              "outlinewidth": 0,
              "ticks": ""
             }
            },
            "marker": {
             "colorbar": {
              "outlinewidth": 0,
              "ticks": ""
             }
            },
            "type": "scatter3d"
           }
          ],
          "scattercarpet": [
           {
            "marker": {
             "colorbar": {
              "outlinewidth": 0,
              "ticks": ""
             }
            },
            "type": "scattercarpet"
           }
          ],
          "scattergeo": [
           {
            "marker": {
             "colorbar": {
              "outlinewidth": 0,
              "ticks": ""
             }
            },
            "type": "scattergeo"
           }
          ],
          "scattergl": [
           {
            "marker": {
             "colorbar": {
              "outlinewidth": 0,
              "ticks": ""
             }
            },
            "type": "scattergl"
           }
          ],
          "scattermapbox": [
           {
            "marker": {
             "colorbar": {
              "outlinewidth": 0,
              "ticks": ""
             }
            },
            "type": "scattermapbox"
           }
          ],
          "scatterpolar": [
           {
            "marker": {
             "colorbar": {
              "outlinewidth": 0,
              "ticks": ""
             }
            },
            "type": "scatterpolar"
           }
          ],
          "scatterpolargl": [
           {
            "marker": {
             "colorbar": {
              "outlinewidth": 0,
              "ticks": ""
             }
            },
            "type": "scatterpolargl"
           }
          ],
          "scatterternary": [
           {
            "marker": {
             "colorbar": {
              "outlinewidth": 0,
              "ticks": ""
             }
            },
            "type": "scatterternary"
           }
          ],
          "surface": [
           {
            "colorbar": {
             "outlinewidth": 0,
             "ticks": ""
            },
            "colorscale": [
             [
              0,
              "#0d0887"
             ],
             [
              0.1111111111111111,
              "#46039f"
             ],
             [
              0.2222222222222222,
              "#7201a8"
             ],
             [
              0.3333333333333333,
              "#9c179e"
             ],
             [
              0.4444444444444444,
              "#bd3786"
             ],
             [
              0.5555555555555556,
              "#d8576b"
             ],
             [
              0.6666666666666666,
              "#ed7953"
             ],
             [
              0.7777777777777778,
              "#fb9f3a"
             ],
             [
              0.8888888888888888,
              "#fdca26"
             ],
             [
              1,
              "#f0f921"
             ]
            ],
            "type": "surface"
           }
          ],
          "table": [
           {
            "cells": {
             "fill": {
              "color": "#EBF0F8"
             },
             "line": {
              "color": "white"
             }
            },
            "header": {
             "fill": {
              "color": "#C8D4E3"
             },
             "line": {
              "color": "white"
             }
            },
            "type": "table"
           }
          ]
         },
         "layout": {
          "annotationdefaults": {
           "arrowcolor": "#2a3f5f",
           "arrowhead": 0,
           "arrowwidth": 1
          },
          "autotypenumbers": "strict",
          "coloraxis": {
           "colorbar": {
            "outlinewidth": 0,
            "ticks": ""
           }
          },
          "colorscale": {
           "diverging": [
            [
             0,
             "#8e0152"
            ],
            [
             0.1,
             "#c51b7d"
            ],
            [
             0.2,
             "#de77ae"
            ],
            [
             0.3,
             "#f1b6da"
            ],
            [
             0.4,
             "#fde0ef"
            ],
            [
             0.5,
             "#f7f7f7"
            ],
            [
             0.6,
             "#e6f5d0"
            ],
            [
             0.7,
             "#b8e186"
            ],
            [
             0.8,
             "#7fbc41"
            ],
            [
             0.9,
             "#4d9221"
            ],
            [
             1,
             "#276419"
            ]
           ],
           "sequential": [
            [
             0,
             "#0d0887"
            ],
            [
             0.1111111111111111,
             "#46039f"
            ],
            [
             0.2222222222222222,
             "#7201a8"
            ],
            [
             0.3333333333333333,
             "#9c179e"
            ],
            [
             0.4444444444444444,
             "#bd3786"
            ],
            [
             0.5555555555555556,
             "#d8576b"
            ],
            [
             0.6666666666666666,
             "#ed7953"
            ],
            [
             0.7777777777777778,
             "#fb9f3a"
            ],
            [
             0.8888888888888888,
             "#fdca26"
            ],
            [
             1,
             "#f0f921"
            ]
           ],
           "sequentialminus": [
            [
             0,
             "#0d0887"
            ],
            [
             0.1111111111111111,
             "#46039f"
            ],
            [
             0.2222222222222222,
             "#7201a8"
            ],
            [
             0.3333333333333333,
             "#9c179e"
            ],
            [
             0.4444444444444444,
             "#bd3786"
            ],
            [
             0.5555555555555556,
             "#d8576b"
            ],
            [
             0.6666666666666666,
             "#ed7953"
            ],
            [
             0.7777777777777778,
             "#fb9f3a"
            ],
            [
             0.8888888888888888,
             "#fdca26"
            ],
            [
             1,
             "#f0f921"
            ]
           ]
          },
          "colorway": [
           "#636efa",
           "#EF553B",
           "#00cc96",
           "#ab63fa",
           "#FFA15A",
           "#19d3f3",
           "#FF6692",
           "#B6E880",
           "#FF97FF",
           "#FECB52"
          ],
          "font": {
           "color": "#2a3f5f"
          },
          "geo": {
           "bgcolor": "white",
           "lakecolor": "white",
           "landcolor": "#E5ECF6",
           "showlakes": true,
           "showland": true,
           "subunitcolor": "white"
          },
          "hoverlabel": {
           "align": "left"
          },
          "hovermode": "closest",
          "mapbox": {
           "style": "light"
          },
          "paper_bgcolor": "white",
          "plot_bgcolor": "#E5ECF6",
          "polar": {
           "angularaxis": {
            "gridcolor": "white",
            "linecolor": "white",
            "ticks": ""
           },
           "bgcolor": "#E5ECF6",
           "radialaxis": {
            "gridcolor": "white",
            "linecolor": "white",
            "ticks": ""
           }
          },
          "scene": {
           "xaxis": {
            "backgroundcolor": "#E5ECF6",
            "gridcolor": "white",
            "gridwidth": 2,
            "linecolor": "white",
            "showbackground": true,
            "ticks": "",
            "zerolinecolor": "white"
           },
           "yaxis": {
            "backgroundcolor": "#E5ECF6",
            "gridcolor": "white",
            "gridwidth": 2,
            "linecolor": "white",
            "showbackground": true,
            "ticks": "",
            "zerolinecolor": "white"
           },
           "zaxis": {
            "backgroundcolor": "#E5ECF6",
            "gridcolor": "white",
            "gridwidth": 2,
            "linecolor": "white",
            "showbackground": true,
            "ticks": "",
            "zerolinecolor": "white"
           }
          },
          "shapedefaults": {
           "line": {
            "color": "#2a3f5f"
           }
          },
          "ternary": {
           "aaxis": {
            "gridcolor": "white",
            "linecolor": "white",
            "ticks": ""
           },
           "baxis": {
            "gridcolor": "white",
            "linecolor": "white",
            "ticks": ""
           },
           "bgcolor": "#E5ECF6",
           "caxis": {
            "gridcolor": "white",
            "linecolor": "white",
            "ticks": ""
           }
          },
          "title": {
           "x": 0.05
          },
          "xaxis": {
           "automargin": true,
           "gridcolor": "white",
           "linecolor": "white",
           "ticks": "",
           "title": {
            "standoff": 15
           },
           "zerolinecolor": "white",
           "zerolinewidth": 2
          },
          "yaxis": {
           "automargin": true,
           "gridcolor": "white",
           "linecolor": "white",
           "ticks": "",
           "title": {
            "standoff": 15
           },
           "zerolinecolor": "white",
           "zerolinewidth": 2
          }
         }
        },
        "title": {
         "font": {
          "size": 20
         },
         "text": "Trust in Government by Country",
         "x": 0.5,
         "xanchor": "center"
        },
        "updatemenus": [
         {
          "buttons": [
           {
            "args": [
             {
              "visible": [
               true,
               false,
               false,
               false,
               false,
               false,
               false
              ]
             },
             {
              "title.text": "Trust in Government by Country"
             }
            ],
            "label": "Government",
            "method": "update"
           },
           {
            "args": [
             {
              "visible": [
               false,
               true,
               false,
               false,
               false,
               false,
               false
              ]
             },
             {
              "title.text": "Trust in Scientist by Country"
             }
            ],
            "label": "Scientist",
            "method": "update"
           },
           {
            "args": [
             {
              "visible": [
               false,
               false,
               true,
               false,
               false,
               false,
               false
              ]
             },
             {
              "title.text": "Trust in Journalist by Country"
             }
            ],
            "label": "Journalist",
            "method": "update"
           },
           {
            "args": [
             {
              "visible": [
               false,
               false,
               false,
               true,
               false,
               false,
               false
              ]
             },
             {
              "title.text": "Trust in Doctor_and_nurses by Country"
             }
            ],
            "label": "Doctor_and_nurses",
            "method": "update"
           },
           {
            "args": [
             {
              "visible": [
               false,
               false,
               false,
               false,
               true,
               false,
               false
              ]
             },
             {
              "title.text": "Trust in Philantropist by Country"
             }
            ],
            "label": "Philantropist",
            "method": "update"
           },
           {
            "args": [
             {
              "visible": [
               false,
               false,
               false,
               false,
               false,
               true,
               false
              ]
             },
             {
              "title.text": "Trust in Traditional_healers by Country"
             }
            ],
            "label": "Traditional_healers",
            "method": "update"
           },
           {
            "args": [
             {
              "visible": [
               false,
               false,
               false,
               false,
               false,
               false,
               true
              ]
             },
             {
              "title.text": "Trust in Neighbourhood by Country"
             }
            ],
            "label": "Neighbourhood",
            "method": "update"
           }
          ],
          "direction": "down",
          "showactive": true,
          "x": 0.1,
          "xanchor": "left",
          "y": 1.2,
          "yanchor": "top"
         }
        ],
        "width": 1000
       }
      }
     },
     "metadata": {},
     "output_type": "display_data"
    }
   ],
   "source": [
    "fig.update_layout(\n",
    "    title=dict(\n",
    "        text=\"Trust in Government by Country\",\n",
    "        font=dict(size=20),\n",
    "        x=0.5,\n",
    "        xanchor=\"center\"\n",
    "    ),\n",
    "    updatemenus=[\n",
    "        dict(\n",
    "            buttons=[\n",
    "                dict(\n",
    "                    label=category.capitalize(),\n",
    "                    method=\"update\",\n",
    "                    args=[\n",
    "                        {\"visible\": [i == j for i in range(len(trust_categories))]},  \n",
    "                        {\"title.text\": f\"Trust in {category.capitalize()} by Country\"}\n",
    "                    ]\n",
    "                ) for j, category in enumerate(trust_categories)\n",
    "            ],\n",
    "            direction=\"down\",\n",
    "            showactive=True,\n",
    "            x=0.1,\n",
    "            xanchor=\"left\",\n",
    "            y=1.2,\n",
    "            yanchor=\"top\"\n",
    "        )\n",
    "    ],\n",
    "    geo=dict(\n",
    "        showframe=False,\n",
    "        showcoastlines=True,\n",
    "        coastlinecolor=\"gray\",\n",
    "        showland=True,\n",
    "        landcolor=\"lightgray\",\n",
    "        bgcolor=\"lightblue\",\n",
    "        projection_type='natural earth',\n",
    "        showcountries=True,\n",
    "        countrycolor=\"black\",\n",
    "        countrywidth=1.5\n",
    "    ),\n",
    "    legend=dict(\n",
    "        x=-0.2,\n",
    "        y=0.9,\n",
    "        xanchor=\"left\",\n",
    "        yanchor=\"top\",\n",
    "        bgcolor=\"rgba(255,255,255,0.5)\",\n",
    "        bordercolor=\"black\",\n",
    "        borderwidth=1\n",
    "    ),\n",
    "    template='plotly',\n",
    "    height=600,\n",
    "    width=1000\n",
    ")\n",
    "\n",
    "fig.show()"
   ]
  },
  {
   "cell_type": "code",
   "execution_count": null,
   "metadata": {},
   "outputs": [],
   "source": []
  }
 ],
 "metadata": {
  "kernelspec": {
   "display_name": "dev",
   "language": "python",
   "name": "python3"
  },
  "language_info": {
   "codemirror_mode": {
    "name": "ipython",
    "version": 3
   },
   "file_extension": ".py",
   "mimetype": "text/x-python",
   "name": "python",
   "nbconvert_exporter": "python",
   "pygments_lexer": "ipython3",
   "version": "3.10.16"
  }
 },
 "nbformat": 4,
 "nbformat_minor": 2
}
