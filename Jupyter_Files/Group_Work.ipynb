{
 "cells": [
  {
   "cell_type": "code",
   "execution_count": 1,
   "metadata": {},
   "outputs": [],
   "source": [
    "import matplotlib.pyplot as plt\n",
    "import pandas as pd\n",
    "from pymongo import MongoClient\n",
    "import plotly.graph_objects as go"
   ]
  },
  {
   "cell_type": "code",
   "execution_count": 2,
   "metadata": {},
   "outputs": [],
   "source": [
    "# Connect to MongoDB\n",
    "client = MongoClient(\"mongodb://localhost:27017/\")\n",
    "db = client[\"trust_analysis_db\"]\n",
    "collection = db[\"merged_trust_population\"]"
   ]
  },
  {
   "cell_type": "code",
   "execution_count": 3,
   "metadata": {},
   "outputs": [],
   "source": [
    "data = pd.DataFrame(list(collection.find({}, {\n",
    "    \"_id\": 0,  # Excluded MongoDB's _id field\n",
    "    \"country\": 1,\n",
    "    \"Latitude\": 1,  \n",
    "    \"Longitude\": 1, \n",
    "    \"doctor_and_nurses\": 1,\n",
    "    \"government\": 1,\n",
    "    \"journalist\": 1,\n",
    "    \"neighbourhood\": 1,\n",
    "    \"philantropist\": 1,\n",
    "    \"scientist\": 1,\n",
    "    \"traditional_healers\": 1,\n",
    "    \"population\": 1\n",
    "})))"
   ]
  },
  {
   "cell_type": "code",
   "execution_count": 4,
   "metadata": {},
   "outputs": [
    {
     "name": "stdout",
     "output_type": "stream",
     "text": [
      "     country  doctor_and_nurses  government  journalist  neighbourhood  \\\n",
      "0      China              90.86       56.93       74.62          88.08   \n",
      "1      India              85.67       74.18       69.12          68.36   \n",
      "2  Indonesia              81.09       70.82       63.41          80.38   \n",
      "3    Nigeria              64.21       21.11       37.00          42.47   \n",
      "4     Brazil              84.87       42.98       56.36          53.58   \n",
      "\n",
      "   philantropist    population  scientist  traditional_healers  Latitude  \\\n",
      "0          73.24  1.426106e+09      96.57                92.47   39.9075   \n",
      "1          65.68  1.402618e+09      85.30                38.20   28.6667   \n",
      "2          58.64  2.748149e+08      70.11                66.59   -6.2118   \n",
      "3          44.08  2.139962e+08      47.41                35.11    9.0574   \n",
      "4          65.22  2.086608e+08      79.73                26.95  -15.7797   \n",
      "\n",
      "   Longitude  \n",
      "0   116.3972  \n",
      "1    77.2167  \n",
      "2   106.8416  \n",
      "3     7.4898  \n",
      "4   -47.9297  \n"
     ]
    }
   ],
   "source": [
    "# making sure lat/long columns are numeric\n",
    "data[\"Latitude\"] = pd.to_numeric(data[\"Latitude\"], errors=\"coerce\")\n",
    "data[\"Longitude\"] = pd.to_numeric(data[\"Longitude\"], errors=\"coerce\")\n",
    "\n",
    "\n",
    "print(data.head())"
   ]
  },
  {
   "cell_type": "code",
   "execution_count": 5,
   "metadata": {},
   "outputs": [],
   "source": [
    "trust_metrics = [\n",
    "    \"doctor_and_nurses\", \"government\", \"journalist\",\n",
    "    \"neighbourhood\", \"philantropist\", \"scientist\", \"traditional_healers\"\n",
    "]"
   ]
  },
  {
   "cell_type": "code",
   "execution_count": 18,
   "metadata": {},
   "outputs": [
    {
     "data": {
      "application/vnd.plotly.v1+json": {
       "config": {
        "plotlyServerURL": "https://plot.ly"
       },
       "data": [
        {
         "lat": [
          39.9075,
          28.6667,
          -6.2118,
          9.0574,
          -15.7797,
          23.7104,
          19.4273,
          35.6895,
          9.025,
          14.6042,
          30.0392,
          52.5244,
          13.722,
          51.5085,
          48.8534,
          -33.9258,
          41.8947,
          19.745,
          -1.2833,
          4.6097,
          40.4165,
          -34.6051,
          50.4454,
          0.3163,
          36.7525,
          33.3406,
          45.4166,
          52.2298,
          34.0133,
          3.1412,
          41.2647,
          -12.0432,
          5.556,
          24.6905,
          27.7017,
          3.8667,
          -35.2835,
          6.9319,
          12.65,
          12.3642,
          51.1801,
          44.4328,
          -33.4569,
          -15.4134,
          52.374,
          -0.2299,
          14.6937,
          11.5625,
          -17.8294,
          9.5716,
          6.3654,
          36.819,
          50.8467,
          18.4896,
          31.9552,
          37.9534,
          38.7169,
          59.3326,
          47.498,
          38.5358,
          24.4648,
          48.2064,
          31.769,
          46.9481,
          42.6975,
          44.8176,
          42.87,
          -25.3007,
          12.1328,
          13.6894,
          55.6759,
          33.9,
          60.1692,
          48.1482,
          59.9127,
          -41.2866,
          9.9278,
          53.3331,
          45.8144,
          41.6941,
          -34.8335,
          47.9077,
          41.3275,
          54.6892,
          -22.5594,
          0.3925,
          46.0511,
          56.946,
          42,
          26.2154,
          59.437,
          35.1595,
          -20.1619,
          42.4411,
          35.8997,
          -16.5,
          43.8486,
          -4.2658,
          50.088,
          22.2796,
          35.6944,
          47.0056,
          55.755,
          37.5683,
          -6.1722,
          38.8951,
          10.488
         ],
         "lon": [
          116.3972,
          77.2167,
          106.8416,
          7.4898,
          -47.9297,
          90.4074,
          -99.1419,
          139.6917,
          38.7469,
          120.9822,
          31.2394,
          13.4105,
          100.5252,
          -0.1257,
          2.3488,
          18.4232,
          12.4811,
          96.1297,
          36.8167,
          -74.0818,
          -3.7026,
          -58.4004,
          30.5186,
          32.5822,
          3.042,
          44.4009,
          -75.698,
          21.0118,
          -6.8326,
          101.6865,
          69.2163,
          -77.0282,
          -0.1969,
          46.7096,
          85.3206,
          11.5167,
          149.1281,
          79.8478,
          -8,
          -1.5383,
          71.446,
          26.1043,
          -70.6483,
          28.2771,
          4.8897,
          -78.525,
          -17.4441,
          104.916,
          31.0539,
          -13.6476,
          2.4183,
          10.1658,
          4.3499,
          -69.9018,
          35.945,
          23.749,
          -9.1399,
          18.0649,
          19.0399,
          68.7791,
          54.3618,
          16.3707,
          35.2163,
          7.4474,
          23.3242,
          20.4633,
          74.59,
          -57.6359,
          -86.2504,
          -89.1872,
          12.5655,
          35.4833,
          24.9402,
          17.1067,
          10.7461,
          174.7756,
          -84.0807,
          -6.2489,
          15.978,
          44.8337,
          -56.1674,
          106.8832,
          19.8189,
          25.2798,
          17.0832,
          9.4537,
          14.5051,
          24.1059,
          21.4333,
          50.5832,
          24.7535,
          33.3669,
          57.4989,
          19.2636,
          14.5147,
          -68.15,
          18.3564,
          15.2832,
          14.4208,
          114.1887,
          51.4215,
          28.8575,
          37.6218,
          126.9778,
          35.7395,
          -77.0364,
          -66.8792
         ],
         "marker": {
          "color": [
           56.93,
           74.18,
           70.82,
           21.11,
           42.98,
           88.39,
           55.24,
           60.94,
           82.54,
           84,
           80.7,
           81.44,
           58.55,
           49.65,
           57.53,
           52.09,
           55.3,
           94.4,
           46.2,
           41.05,
           51.91,
           43.52,
           29.34,
           46.64,
           64.98,
           33.16,
           76.49,
           29.04,
           55.99,
           70.38,
           97.45,
           47.04,
           63.51,
           56.93,
           62.03,
           30.28,
           74.49,
           78.63,
           51.21,
           52.23,
           80.45,
           29.35,
           30.76,
           47.73,
           84.21,
           27.48,
           56.61,
           92.7,
           67.77,
           35.14,
           61.12,
           26.87,
           59.38,
           74.64,
           69.13,
           45.16,
           53.59,
           68.88,
           53.44,
           56.93,
           56.93,
           73.87,
           49.81,
           93.89,
           39.35,
           53.02,
           61.7,
           35.87,
           56.08,
           75.33,
           84.56,
           17.75,
           81.69,
           55.88,
           96.27,
           86.58,
           46.33,
           80.04,
           43.4,
           58.59,
           74.13,
           54.88,
           43.57,
           66.82,
           46.75,
           34.57,
           48.73,
           39.07,
           40.69,
           56.93,
           55.19,
           49.85,
           55.2,
           52.35,
           81.33,
           42,
           24.64,
           56.08,
           46.44,
           39.44,
           47.31,
           19.42,
           46.14,
           51.89,
           93.69,
           53.49,
           29.6
          ],
          "colorbar": {
           "title": {
            "text": "Trust in Government (%)"
           }
          },
          "colorscale": [
           [
            0,
            "rgb(0,0,0)"
           ],
           [
            0.3333333333333333,
            "rgb(230,0,0)"
           ],
           [
            0.6666666666666666,
            "rgb(255,210,0)"
           ],
           [
            1,
            "rgb(255,255,255)"
           ]
          ],
          "line": {
           "color": "black",
           "width": 0.5
          },
          "size": 10
         },
         "mode": "markers",
         "text": [
          "China<br>Trust in Government: 56.93%",
          "India<br>Trust in Government: 74.18%",
          "Indonesia<br>Trust in Government: 70.82%",
          "Nigeria<br>Trust in Government: 21.11%",
          "Brazil<br>Trust in Government: 42.98%",
          "Bangladesh<br>Trust in Government: 88.39%",
          "Mexico<br>Trust in Government: 55.24%",
          "Japan<br>Trust in Government: 60.94%",
          "Ethiopia<br>Trust in Government: 82.54%",
          "Philippines<br>Trust in Government: 84.0%",
          "Egypt<br>Trust in Government: 80.7%",
          "Germany<br>Trust in Government: 81.44%",
          "Thailand<br>Trust in Government: 58.55%",
          "United Kingdom<br>Trust in Government: 49.65%",
          "France<br>Trust in Government: 57.53%",
          "South Africa<br>Trust in Government: 52.09%",
          "Italy<br>Trust in Government: 55.3%",
          "Myanmar<br>Trust in Government: 94.4%",
          "Kenya<br>Trust in Government: 46.2%",
          "Colombia<br>Trust in Government: 41.05%",
          "Spain<br>Trust in Government: 51.91%",
          "Argentina<br>Trust in Government: 43.52%",
          "Ukraine<br>Trust in Government: 29.34%",
          "Uganda<br>Trust in Government: 46.64%",
          "Algeria<br>Trust in Government: 64.98%",
          "Iraq<br>Trust in Government: 33.16%",
          "Canada<br>Trust in Government: 76.49%",
          "Poland<br>Trust in Government: 29.04%",
          "Morocco<br>Trust in Government: 55.99%",
          "Malaysia<br>Trust in Government: 70.38%",
          "Uzbekistan<br>Trust in Government: 97.45%",
          "Peru<br>Trust in Government: 47.04%",
          "Ghana<br>Trust in Government: 63.51%",
          "Saudi Arabia<br>Trust in Government: 56.93%",
          "Nepal<br>Trust in Government: 62.03%",
          "Cameroon<br>Trust in Government: 30.28%",
          "Australia<br>Trust in Government: 74.49%",
          "Sri Lanka<br>Trust in Government: 78.63%",
          "Mali<br>Trust in Government: 51.21%",
          "Burkina Faso<br>Trust in Government: 52.23%",
          "Kazakhstan<br>Trust in Government: 80.45%",
          "Romania<br>Trust in Government: 29.35%",
          "Chile<br>Trust in Government: 30.76%",
          "Zambia<br>Trust in Government: 47.73%",
          "Netherlands<br>Trust in Government: 84.21%",
          "Ecuador<br>Trust in Government: 27.48%",
          "Senegal<br>Trust in Government: 56.61%",
          "Cambodia<br>Trust in Government: 92.7%",
          "Zimbabwe<br>Trust in Government: 67.77%",
          "Guinea<br>Trust in Government: 35.14%",
          "Benin<br>Trust in Government: 61.12%",
          "Tunisia<br>Trust in Government: 26.87%",
          "Belgium<br>Trust in Government: 59.38%",
          "Dominican Republic<br>Trust in Government: 74.64%",
          "Jordan<br>Trust in Government: 69.13%",
          "Greece<br>Trust in Government: 45.16%",
          "Portugal<br>Trust in Government: 53.59%",
          "Sweden<br>Trust in Government: 68.88%",
          "Hungary<br>Trust in Government: 53.44%",
          "Tajikistan<br>Trust in Government: 56.93%",
          "United Arab Emirates<br>Trust in Government: 56.93%",
          "Austria<br>Trust in Government: 73.87%",
          "Israel<br>Trust in Government: 49.81%",
          "Switzerland<br>Trust in Government: 93.89%",
          "Bulgaria<br>Trust in Government: 39.35%",
          "Serbia<br>Trust in Government: 53.02%",
          "Kyrgyzstan<br>Trust in Government: 61.7%",
          "Paraguay<br>Trust in Government: 35.87%",
          "Nicaragua<br>Trust in Government: 56.08%",
          "El Salvador<br>Trust in Government: 75.33%",
          "Denmark<br>Trust in Government: 84.56%",
          "Lebanon<br>Trust in Government: 17.75%",
          "Finland<br>Trust in Government: 81.69%",
          "Slovakia<br>Trust in Government: 55.88%",
          "Norway<br>Trust in Government: 96.27%",
          "New Zealand<br>Trust in Government: 86.58%",
          "Costa Rica<br>Trust in Government: 46.33%",
          "Ireland<br>Trust in Government: 80.04%",
          "Croatia<br>Trust in Government: 43.4%",
          "Georgia<br>Trust in Government: 58.59%",
          "Uruguay<br>Trust in Government: 74.13%",
          "Mongolia<br>Trust in Government: 54.88%",
          "Albania<br>Trust in Government: 43.57%",
          "Lithuania<br>Trust in Government: 66.82%",
          "Namibia<br>Trust in Government: 46.75%",
          "Gabon<br>Trust in Government: 34.57%",
          "Slovenia<br>Trust in Government: 48.73%",
          "Latvia<br>Trust in Government: 39.07%",
          "North Macedonia<br>Trust in Government: 40.69%",
          "Bahrain<br>Trust in Government: 56.93%",
          "Estonia<br>Trust in Government: 55.19%",
          "Cyprus<br>Trust in Government: 49.85%",
          "Mauritius<br>Trust in Government: 55.2%",
          "Montenegro<br>Trust in Government: 52.35%",
          "Malta<br>Trust in Government: 81.33%",
          "Bolivia<br>Trust in Government: 42.0%",
          "Bosnia Herzegovina<br>Trust in Government: 24.64%",
          "Congo Brazzaville<br>Trust in Government: 56.08%",
          "Czech Republic<br>Trust in Government: 46.44%",
          "Hong Kong<br>Trust in Government: 39.44%",
          "Iran<br>Trust in Government: 47.31%",
          "Moldova<br>Trust in Government: 19.42%",
          "Russia<br>Trust in Government: 46.14%",
          "South Korea<br>Trust in Government: 51.89%",
          "Tanzania<br>Trust in Government: 93.69%",
          "United States<br>Trust in Government: 53.49%",
          "Venezuela<br>Trust in Government: 29.6%"
         ],
         "type": "scattergeo"
        }
       ],
       "layout": {
        "geo": {
         "coastlinecolor": "gray",
         "countrycolor": "black",
         "countrywidth": 0.3,
         "framecolor": "black",
         "framewidth": 2,
         "landcolor": "lightgray",
         "projection": {
          "type": "natural earth"
         },
         "showcoastlines": true,
         "showcountries": true,
         "showframe": true,
         "showland": true
        },
        "height": 800,
        "template": {
         "data": {
          "bar": [
           {
            "error_x": {
             "color": "#2a3f5f"
            },
            "error_y": {
             "color": "#2a3f5f"
            },
            "marker": {
             "line": {
              "color": "#E5ECF6",
              "width": 0.5
             },
             "pattern": {
              "fillmode": "overlay",
              "size": 10,
              "solidity": 0.2
             }
            },
            "type": "bar"
           }
          ],
          "barpolar": [
           {
            "marker": {
             "line": {
              "color": "#E5ECF6",
              "width": 0.5
             },
             "pattern": {
              "fillmode": "overlay",
              "size": 10,
              "solidity": 0.2
             }
            },
            "type": "barpolar"
           }
          ],
          "carpet": [
           {
            "aaxis": {
             "endlinecolor": "#2a3f5f",
             "gridcolor": "white",
             "linecolor": "white",
             "minorgridcolor": "white",
             "startlinecolor": "#2a3f5f"
            },
            "baxis": {
             "endlinecolor": "#2a3f5f",
             "gridcolor": "white",
             "linecolor": "white",
             "minorgridcolor": "white",
             "startlinecolor": "#2a3f5f"
            },
            "type": "carpet"
           }
          ],
          "choropleth": [
           {
            "colorbar": {
             "outlinewidth": 0,
             "ticks": ""
            },
            "type": "choropleth"
           }
          ],
          "contour": [
           {
            "colorbar": {
             "outlinewidth": 0,
             "ticks": ""
            },
            "colorscale": [
             [
              0,
              "#0d0887"
             ],
             [
              0.1111111111111111,
              "#46039f"
             ],
             [
              0.2222222222222222,
              "#7201a8"
             ],
             [
              0.3333333333333333,
              "#9c179e"
             ],
             [
              0.4444444444444444,
              "#bd3786"
             ],
             [
              0.5555555555555556,
              "#d8576b"
             ],
             [
              0.6666666666666666,
              "#ed7953"
             ],
             [
              0.7777777777777778,
              "#fb9f3a"
             ],
             [
              0.8888888888888888,
              "#fdca26"
             ],
             [
              1,
              "#f0f921"
             ]
            ],
            "type": "contour"
           }
          ],
          "contourcarpet": [
           {
            "colorbar": {
             "outlinewidth": 0,
             "ticks": ""
            },
            "type": "contourcarpet"
           }
          ],
          "heatmap": [
           {
            "colorbar": {
             "outlinewidth": 0,
             "ticks": ""
            },
            "colorscale": [
             [
              0,
              "#0d0887"
             ],
             [
              0.1111111111111111,
              "#46039f"
             ],
             [
              0.2222222222222222,
              "#7201a8"
             ],
             [
              0.3333333333333333,
              "#9c179e"
             ],
             [
              0.4444444444444444,
              "#bd3786"
             ],
             [
              0.5555555555555556,
              "#d8576b"
             ],
             [
              0.6666666666666666,
              "#ed7953"
             ],
             [
              0.7777777777777778,
              "#fb9f3a"
             ],
             [
              0.8888888888888888,
              "#fdca26"
             ],
             [
              1,
              "#f0f921"
             ]
            ],
            "type": "heatmap"
           }
          ],
          "heatmapgl": [
           {
            "colorbar": {
             "outlinewidth": 0,
             "ticks": ""
            },
            "colorscale": [
             [
              0,
              "#0d0887"
             ],
             [
              0.1111111111111111,
              "#46039f"
             ],
             [
              0.2222222222222222,
              "#7201a8"
             ],
             [
              0.3333333333333333,
              "#9c179e"
             ],
             [
              0.4444444444444444,
              "#bd3786"
             ],
             [
              0.5555555555555556,
              "#d8576b"
             ],
             [
              0.6666666666666666,
              "#ed7953"
             ],
             [
              0.7777777777777778,
              "#fb9f3a"
             ],
             [
              0.8888888888888888,
              "#fdca26"
             ],
             [
              1,
              "#f0f921"
             ]
            ],
            "type": "heatmapgl"
           }
          ],
          "histogram": [
           {
            "marker": {
             "pattern": {
              "fillmode": "overlay",
              "size": 10,
              "solidity": 0.2
             }
            },
            "type": "histogram"
           }
          ],
          "histogram2d": [
           {
            "colorbar": {
             "outlinewidth": 0,
             "ticks": ""
            },
            "colorscale": [
             [
              0,
              "#0d0887"
             ],
             [
              0.1111111111111111,
              "#46039f"
             ],
             [
              0.2222222222222222,
              "#7201a8"
             ],
             [
              0.3333333333333333,
              "#9c179e"
             ],
             [
              0.4444444444444444,
              "#bd3786"
             ],
             [
              0.5555555555555556,
              "#d8576b"
             ],
             [
              0.6666666666666666,
              "#ed7953"
             ],
             [
              0.7777777777777778,
              "#fb9f3a"
             ],
             [
              0.8888888888888888,
              "#fdca26"
             ],
             [
              1,
              "#f0f921"
             ]
            ],
            "type": "histogram2d"
           }
          ],
          "histogram2dcontour": [
           {
            "colorbar": {
             "outlinewidth": 0,
             "ticks": ""
            },
            "colorscale": [
             [
              0,
              "#0d0887"
             ],
             [
              0.1111111111111111,
              "#46039f"
             ],
             [
              0.2222222222222222,
              "#7201a8"
             ],
             [
              0.3333333333333333,
              "#9c179e"
             ],
             [
              0.4444444444444444,
              "#bd3786"
             ],
             [
              0.5555555555555556,
              "#d8576b"
             ],
             [
              0.6666666666666666,
              "#ed7953"
             ],
             [
              0.7777777777777778,
              "#fb9f3a"
             ],
             [
              0.8888888888888888,
              "#fdca26"
             ],
             [
              1,
              "#f0f921"
             ]
            ],
            "type": "histogram2dcontour"
           }
          ],
          "mesh3d": [
           {
            "colorbar": {
             "outlinewidth": 0,
             "ticks": ""
            },
            "type": "mesh3d"
           }
          ],
          "parcoords": [
           {
            "line": {
             "colorbar": {
              "outlinewidth": 0,
              "ticks": ""
             }
            },
            "type": "parcoords"
           }
          ],
          "pie": [
           {
            "automargin": true,
            "type": "pie"
           }
          ],
          "scatter": [
           {
            "fillpattern": {
             "fillmode": "overlay",
             "size": 10,
             "solidity": 0.2
            },
            "type": "scatter"
           }
          ],
          "scatter3d": [
           {
            "line": {
             "colorbar": {
              "outlinewidth": 0,
              "ticks": ""
             }
            },
            "marker": {
             "colorbar": {
              "outlinewidth": 0,
              "ticks": ""
             }
            },
            "type": "scatter3d"
           }
          ],
          "scattercarpet": [
           {
            "marker": {
             "colorbar": {
              "outlinewidth": 0,
              "ticks": ""
             }
            },
            "type": "scattercarpet"
           }
          ],
          "scattergeo": [
           {
            "marker": {
             "colorbar": {
              "outlinewidth": 0,
              "ticks": ""
             }
            },
            "type": "scattergeo"
           }
          ],
          "scattergl": [
           {
            "marker": {
             "colorbar": {
              "outlinewidth": 0,
              "ticks": ""
             }
            },
            "type": "scattergl"
           }
          ],
          "scattermapbox": [
           {
            "marker": {
             "colorbar": {
              "outlinewidth": 0,
              "ticks": ""
             }
            },
            "type": "scattermapbox"
           }
          ],
          "scatterpolar": [
           {
            "marker": {
             "colorbar": {
              "outlinewidth": 0,
              "ticks": ""
             }
            },
            "type": "scatterpolar"
           }
          ],
          "scatterpolargl": [
           {
            "marker": {
             "colorbar": {
              "outlinewidth": 0,
              "ticks": ""
             }
            },
            "type": "scatterpolargl"
           }
          ],
          "scatterternary": [
           {
            "marker": {
             "colorbar": {
              "outlinewidth": 0,
              "ticks": ""
             }
            },
            "type": "scatterternary"
           }
          ],
          "surface": [
           {
            "colorbar": {
             "outlinewidth": 0,
             "ticks": ""
            },
            "colorscale": [
             [
              0,
              "#0d0887"
             ],
             [
              0.1111111111111111,
              "#46039f"
             ],
             [
              0.2222222222222222,
              "#7201a8"
             ],
             [
              0.3333333333333333,
              "#9c179e"
             ],
             [
              0.4444444444444444,
              "#bd3786"
             ],
             [
              0.5555555555555556,
              "#d8576b"
             ],
             [
              0.6666666666666666,
              "#ed7953"
             ],
             [
              0.7777777777777778,
              "#fb9f3a"
             ],
             [
              0.8888888888888888,
              "#fdca26"
             ],
             [
              1,
              "#f0f921"
             ]
            ],
            "type": "surface"
           }
          ],
          "table": [
           {
            "cells": {
             "fill": {
              "color": "#EBF0F8"
             },
             "line": {
              "color": "white"
             }
            },
            "header": {
             "fill": {
              "color": "#C8D4E3"
             },
             "line": {
              "color": "white"
             }
            },
            "type": "table"
           }
          ]
         },
         "layout": {
          "annotationdefaults": {
           "arrowcolor": "#2a3f5f",
           "arrowhead": 0,
           "arrowwidth": 1
          },
          "autotypenumbers": "strict",
          "coloraxis": {
           "colorbar": {
            "outlinewidth": 0,
            "ticks": ""
           }
          },
          "colorscale": {
           "diverging": [
            [
             0,
             "#8e0152"
            ],
            [
             0.1,
             "#c51b7d"
            ],
            [
             0.2,
             "#de77ae"
            ],
            [
             0.3,
             "#f1b6da"
            ],
            [
             0.4,
             "#fde0ef"
            ],
            [
             0.5,
             "#f7f7f7"
            ],
            [
             0.6,
             "#e6f5d0"
            ],
            [
             0.7,
             "#b8e186"
            ],
            [
             0.8,
             "#7fbc41"
            ],
            [
             0.9,
             "#4d9221"
            ],
            [
             1,
             "#276419"
            ]
           ],
           "sequential": [
            [
             0,
             "#0d0887"
            ],
            [
             0.1111111111111111,
             "#46039f"
            ],
            [
             0.2222222222222222,
             "#7201a8"
            ],
            [
             0.3333333333333333,
             "#9c179e"
            ],
            [
             0.4444444444444444,
             "#bd3786"
            ],
            [
             0.5555555555555556,
             "#d8576b"
            ],
            [
             0.6666666666666666,
             "#ed7953"
            ],
            [
             0.7777777777777778,
             "#fb9f3a"
            ],
            [
             0.8888888888888888,
             "#fdca26"
            ],
            [
             1,
             "#f0f921"
            ]
           ],
           "sequentialminus": [
            [
             0,
             "#0d0887"
            ],
            [
             0.1111111111111111,
             "#46039f"
            ],
            [
             0.2222222222222222,
             "#7201a8"
            ],
            [
             0.3333333333333333,
             "#9c179e"
            ],
            [
             0.4444444444444444,
             "#bd3786"
            ],
            [
             0.5555555555555556,
             "#d8576b"
            ],
            [
             0.6666666666666666,
             "#ed7953"
            ],
            [
             0.7777777777777778,
             "#fb9f3a"
            ],
            [
             0.8888888888888888,
             "#fdca26"
            ],
            [
             1,
             "#f0f921"
            ]
           ]
          },
          "colorway": [
           "#636efa",
           "#EF553B",
           "#00cc96",
           "#ab63fa",
           "#FFA15A",
           "#19d3f3",
           "#FF6692",
           "#B6E880",
           "#FF97FF",
           "#FECB52"
          ],
          "font": {
           "color": "#2a3f5f"
          },
          "geo": {
           "bgcolor": "white",
           "lakecolor": "white",
           "landcolor": "#E5ECF6",
           "showlakes": true,
           "showland": true,
           "subunitcolor": "white"
          },
          "hoverlabel": {
           "align": "left"
          },
          "hovermode": "closest",
          "mapbox": {
           "style": "light"
          },
          "paper_bgcolor": "white",
          "plot_bgcolor": "#E5ECF6",
          "polar": {
           "angularaxis": {
            "gridcolor": "white",
            "linecolor": "white",
            "ticks": ""
           },
           "bgcolor": "#E5ECF6",
           "radialaxis": {
            "gridcolor": "white",
            "linecolor": "white",
            "ticks": ""
           }
          },
          "scene": {
           "xaxis": {
            "backgroundcolor": "#E5ECF6",
            "gridcolor": "white",
            "gridwidth": 2,
            "linecolor": "white",
            "showbackground": true,
            "ticks": "",
            "zerolinecolor": "white"
           },
           "yaxis": {
            "backgroundcolor": "#E5ECF6",
            "gridcolor": "white",
            "gridwidth": 2,
            "linecolor": "white",
            "showbackground": true,
            "ticks": "",
            "zerolinecolor": "white"
           },
           "zaxis": {
            "backgroundcolor": "#E5ECF6",
            "gridcolor": "white",
            "gridwidth": 2,
            "linecolor": "white",
            "showbackground": true,
            "ticks": "",
            "zerolinecolor": "white"
           }
          },
          "shapedefaults": {
           "line": {
            "color": "#2a3f5f"
           }
          },
          "ternary": {
           "aaxis": {
            "gridcolor": "white",
            "linecolor": "white",
            "ticks": ""
           },
           "baxis": {
            "gridcolor": "white",
            "linecolor": "white",
            "ticks": ""
           },
           "bgcolor": "#E5ECF6",
           "caxis": {
            "gridcolor": "white",
            "linecolor": "white",
            "ticks": ""
           }
          },
          "title": {
           "x": 0.05
          },
          "xaxis": {
           "automargin": true,
           "gridcolor": "white",
           "linecolor": "white",
           "ticks": "",
           "title": {
            "standoff": 15
           },
           "zerolinecolor": "white",
           "zerolinewidth": 2
          },
          "yaxis": {
           "automargin": true,
           "gridcolor": "white",
           "linecolor": "white",
           "ticks": "",
           "title": {
            "standoff": 15
           },
           "zerolinecolor": "white",
           "zerolinewidth": 2
          }
         }
        },
        "title": {
         "text": "Global Trust in Government by Country"
        },
        "width": 1200
       }
      }
     },
     "metadata": {},
     "output_type": "display_data"
    }
   ],
   "source": [
    "# world map\n",
    "fig = go.Figure()\n",
    "\n",
    "# added a scattergeo layer for government trust rates\n",
    "fig.add_trace(go.Scattergeo(\n",
    "    lat=data['Latitude'],\n",
    "    lon=data['Longitude'],\n",
    "    text=data['country'] + \"<br>Trust in Government: \" + data['government'].astype(str) + \"%\",\n",
    "    mode='markers',\n",
    "    marker=dict(\n",
    "        size=10,  \n",
    "        color=data['government'], \n",
    "        colorscale='hot',\n",
    "        colorbar_title=\"Trust in Government (%)\",\n",
    "        line=dict(width=0.5, color='black'),\n",
    "    )\n",
    "))\n",
    "\n",
    "# updated the map layout\n",
    "fig.update_layout(\n",
    "    title='Global Trust in Government by Country',\n",
    "    geo=dict(\n",
    "        showframe=True,\n",
    "        framecolor='black',\n",
    "        framewidth=2,\n",
    "        showcoastlines=True,\n",
    "        coastlinecolor=\"gray\",\n",
    "        showland=True,\n",
    "        landcolor=\"lightgray\",\n",
    "        projection_type='natural earth',\n",
    "        showcountries=True,\n",
    "        countrycolor=\"black\",  \n",
    "        countrywidth=0.3\n",
    "    ),\n",
    "    template='plotly',\n",
    "    height=800,\n",
    "    width=1200\n",
    ")\n",
    "\n",
    "fig.show()"
   ]
  },
  {
   "cell_type": "code",
   "execution_count": null,
   "metadata": {},
   "outputs": [],
   "source": []
  }
 ],
 "metadata": {
  "kernelspec": {
   "display_name": "dev",
   "language": "python",
   "name": "python3"
  },
  "language_info": {
   "codemirror_mode": {
    "name": "ipython",
    "version": 3
   },
   "file_extension": ".py",
   "mimetype": "text/x-python",
   "name": "python",
   "nbconvert_exporter": "python",
   "pygments_lexer": "ipython3",
   "version": "3.10.16"
  }
 },
 "nbformat": 4,
 "nbformat_minor": 2
}
