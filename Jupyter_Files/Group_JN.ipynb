{
 "cells": [
  {
   "cell_type": "markdown",
   "metadata": {},
   "source": [
    "For those (like me) who cant remember how to start the dbs - \n",
    "\n",
    "For mac - Open a terminal window and run brew services start mongodb-community@6.0.\n",
    "To begin using MongoDB open a new terminal window and run mongosh.\n",
    "\n",
    "For Windows - To start the MongoDB server open a new command line window and run \"C:\\Program Files\\MongoDB\\Server\\6.0\\bin\\mongod.exe\" --dbpath=\"c:\\data\\db\".\n",
    "To begin using MongoDB open a new command line window and run mongosh.exe, or run mongosh."
   ]
  },
  {
   "cell_type": "code",
   "execution_count": 1,
   "metadata": {},
   "outputs": [],
   "source": [
    "import pandas as pd\n",
    "from pymongo import MongoClient\n",
    "from pprint import pprint\n",
    "import seaborn as sns\n",
    "import matplotlib.pyplot as plt\n",
    "\n",
    "# connect to mdb\n",
    "client = MongoClient(\"mongodb://localhost:27017/\")\n"
   ]
  },
  {
   "cell_type": "code",
   "execution_count": 2,
   "metadata": {},
   "outputs": [],
   "source": [
    "db = client[\"trust_database\"]  # Database name\n",
    "collection = db[\"country_trust\"]  # Collection name"
   ]
  },
  {
   "cell_type": "code",
   "execution_count": 3,
   "metadata": {},
   "outputs": [],
   "source": [
    "#loading \"cleaned_trust_rate.csv\"\n",
    "csv_file = \"../Resources/cleaned_trust_rate.csv\"\n",
    "df = pd.read_csv(csv_file)"
   ]
  },
  {
   "cell_type": "code",
   "execution_count": 4,
   "metadata": {},
   "outputs": [
    {
     "name": "stdout",
     "output_type": "stream",
     "text": [
      "<class 'pandas.core.frame.DataFrame'>\n",
      "RangeIndex: 720210 entries, 0 to 720209\n",
      "Data columns (total 18 columns):\n",
      " #   Column       Non-Null Count   Dtype  \n",
      "---  ------       --------------   -----  \n",
      " 0   SortOrder    468660 non-null  float64\n",
      " 1   LocID        720210 non-null  int64  \n",
      " 2   Notes        113880 non-null  object \n",
      " 3   ISO3_code    346020 non-null  object \n",
      " 4   ISO2_code    344560 non-null  object \n",
      " 5   SDMX_code    416100 non-null  float64\n",
      " 6   LocTypeID    468660 non-null  float64\n",
      " 7   LocTypeName  468660 non-null  object \n",
      " 8   ParentID     468660 non-null  float64\n",
      " 9   Location     720210 non-null  object \n",
      " 10  VarID        720210 non-null  int64  \n",
      " 11  Variant      720210 non-null  object \n",
      " 12  Time         720210 non-null  int64  \n",
      " 13  MidPeriod    720210 non-null  float64\n",
      " 14  PopMale      720210 non-null  float64\n",
      " 15  PopFemale    720210 non-null  float64\n",
      " 16  PopTotal     720210 non-null  float64\n",
      " 17  PopDensity   720210 non-null  float64\n",
      "dtypes: float64(9), int64(3), object(6)\n",
      "memory usage: 98.9+ MB\n",
      "None\n"
     ]
    },
    {
     "name": "stderr",
     "output_type": "stream",
     "text": [
      "/var/folders/3_/rmrvnzms2mz1nrycz1_y7_j80000gn/T/ipykernel_87358/1015332691.py:2: DtypeWarning: Columns (2,3,4,7) have mixed types. Specify dtype option on import or set low_memory=False.\n",
      "  population_data = pd.read_csv(\"../Resources/UN_population_data.csv\", encoding=\"utf-8\")\n"
     ]
    }
   ],
   "source": [
    "# Load the population data CSV file\n",
    "population_data = pd.read_csv(\"../Resources/UN_population_data.csv\", encoding=\"utf-8\")\n",
    "\n",
    "# Checked the column names and their data types\n",
    "print(population_data.info())"
   ]
  },
  {
   "cell_type": "code",
   "execution_count": 5,
   "metadata": {},
   "outputs": [
    {
     "name": "stdout",
     "output_type": "stream",
     "text": [
      "      SortOrder  LocID Notes ISO3_code ISO2_code  SDMX_code  LocTypeID  \\\n",
      "70          NaN   5507   NaN       NaN       NaN        NaN        NaN   \n",
      "1145        NaN   5512   NaN       NaN       NaN        NaN        NaN   \n",
      "2220        NaN   5508   NaN       NaN       NaN        NaN        NaN   \n",
      "3295        NaN   5509   NaN       NaN       NaN        NaN        NaN   \n",
      "4370        NaN   5510   NaN       NaN       NaN        NaN        NaN   \n",
      "\n",
      "     LocTypeName  ParentID                           Location  VarID Variant  \\\n",
      "70           NaN       NaN  ADB region: Central and West Asia      2  Medium   \n",
      "1145         NaN       NaN              ADB region: Developed      2  Medium   \n",
      "2220         NaN       NaN              ADB region: East Asia      2  Medium   \n",
      "3295         NaN       NaN             ADB region: South Asia      2  Medium   \n",
      "4370         NaN       NaN         ADB region: Southeast Asia      2  Medium   \n",
      "\n",
      "      Time  MidPeriod     PopMale   PopFemale     PopTotal  PopDensity  \n",
      "70    2020     2020.5  185622.147  181748.729   367370.877      66.424  \n",
      "1145  2020     2020.5   76994.716   80123.514   157118.229      18.875  \n",
      "2220  2020     2020.5  771133.108  741275.946  1512409.055     133.926  \n",
      "3295  2020     2020.5  831645.652  790070.573  1621716.225     483.814  \n",
      "4370  2020     2020.5  336981.506  338006.992   674988.498     151.675  \n",
      "<class 'pandas.core.frame.DataFrame'>\n",
      "Index: 555 entries, 70 to 718820\n",
      "Data columns (total 18 columns):\n",
      " #   Column       Non-Null Count  Dtype  \n",
      "---  ------       --------------  -----  \n",
      " 0   SortOrder    321 non-null    float64\n",
      " 1   LocID        555 non-null    int64  \n",
      " 2   Notes        78 non-null     object \n",
      " 3   ISO3_code    237 non-null    object \n",
      " 4   ISO2_code    236 non-null    object \n",
      " 5   SDMX_code    285 non-null    float64\n",
      " 6   LocTypeID    321 non-null    float64\n",
      " 7   LocTypeName  321 non-null    object \n",
      " 8   ParentID     321 non-null    float64\n",
      " 9   Location     555 non-null    object \n",
      " 10  VarID        555 non-null    int64  \n",
      " 11  Variant      555 non-null    object \n",
      " 12  Time         555 non-null    int64  \n",
      " 13  MidPeriod    555 non-null    float64\n",
      " 14  PopMale      555 non-null    float64\n",
      " 15  PopFemale    555 non-null    float64\n",
      " 16  PopTotal     555 non-null    float64\n",
      " 17  PopDensity   555 non-null    float64\n",
      "dtypes: float64(9), int64(3), object(6)\n",
      "memory usage: 82.4+ KB\n",
      "None\n"
     ]
    }
   ],
   "source": [
    "# Filtered for 2020 and \"Medium\" projection scenario\n",
    "population_2020 = population_data[\n",
    "    (population_data[\"Time\"] == 2020) & \n",
    "    (population_data[\"Variant\"] == \"Medium\")\n",
    "]\n",
    "\n",
    "# Verify the filtered data\n",
    "print(population_2020.head())\n",
    "print(population_2020.info())"
   ]
  },
  {
   "cell_type": "code",
   "execution_count": 6,
   "metadata": {},
   "outputs": [
    {
     "name": "stdout",
     "output_type": "stream",
     "text": [
      "                                country    population\n",
      "70    ADB region: Central and West Asia  3.673709e+08\n",
      "1145              ADB region: Developed  1.571182e+08\n",
      "2220              ADB region: East Asia  1.512409e+09\n",
      "3295             ADB region: South Asia  1.621716e+09\n",
      "4370         ADB region: Southeast Asia  6.749885e+08\n"
     ]
    }
   ],
   "source": [
    "# Keeping only relevant columns\n",
    "population_2020 = population_2020[[\"Location\", \"PopTotal\"]]\n",
    "\n",
    "# Renamed columns for clarity\n",
    "population_2020 = population_2020.rename(columns={\n",
    "    \"Location\": \"country\",\n",
    "    \"PopTotal\": \"population\"\n",
    "})\n",
    "\n",
    "# Converted population from thousands to actual values\n",
    "population_2020[\"population\"] = population_2020[\"population\"] * 1000\n",
    "\n",
    "# Verify\n",
    "print(population_2020.head())"
   ]
  },
  {
   "cell_type": "code",
   "execution_count": 7,
   "metadata": {},
   "outputs": [],
   "source": [
    "# Drop rows that refer to non-country locations if needed\n",
    "non_countries = [\"World\", \"Africa\", \"Asia\", \"Europe\", \"Oceania\", \"Latin America and the Caribbean\", \n",
    "                 \"Sub-Saharan Africa\", \"Northern America\"]\n",
    "population_2020 = population_2020[~population_2020[\"country\"].isin(non_countries)]\n",
    "\n",
    "# Strip leading/trailing whitespace from country names\n",
    "population_2020[\"country\"] = population_2020[\"country\"].str.strip()"
   ]
  },
  {
   "cell_type": "code",
   "execution_count": 8,
   "metadata": {},
   "outputs": [],
   "source": [
    "# converting numeric fields to floats and rounding to 2nd decimal\n",
    "trust_fields= [\n",
    "    \"neighbourhood\", \"government\", \"scientist\",\n",
    "    \"journalist\", \"doctor_and_nurses\", \"philantropist\", \"traditional_healers\"\n",
    "]\n",
    "df[trust_fields] = df[trust_fields].apply(pd.to_numeric, errors=\"coerce\").round(2)"
   ]
  },
  {
   "cell_type": "code",
   "execution_count": 9,
   "metadata": {},
   "outputs": [
    {
     "name": "stdout",
     "output_type": "stream",
     "text": [
      "0      Albania\n",
      "1      Algeria\n",
      "2    Argentina\n",
      "3    Australia\n",
      "4      Austria\n",
      "Name: country, dtype: object\n"
     ]
    }
   ],
   "source": [
    "df[\"country\"] = df[\"country\"].str.strip()\n",
    "print(df[\"country\"].head())"
   ]
  },
  {
   "cell_type": "code",
   "execution_count": 10,
   "metadata": {},
   "outputs": [
    {
     "name": "stdout",
     "output_type": "stream",
     "text": [
      "Countries with missing population data:\n",
      "9                 Bolivia\n",
      "10     Bosnia Herzegovina\n",
      "20      Congo Brazzaville\n",
      "24         Czech Republic\n",
      "40              Hong Kong\n",
      "44                   Iran\n",
      "49            Ivory Coast\n",
      "54                 Kosovo\n",
      "56                   Laos\n",
      "65                Moldova\n",
      "84                 Russia\n",
      "91            South Korea\n",
      "96                 Taiwan\n",
      "98               Tanzania\n",
      "101                Turkey\n",
      "106         United States\n",
      "109             Venezuela\n",
      "110               Vietnam\n",
      "Name: country, dtype: object\n"
     ]
    }
   ],
   "source": [
    "merged_data = pd.merge(df, population_2020, on=\"country\", how=\"left\")\n",
    "# Check for missing population data\n",
    "missing_population = merged_data[merged_data[\"population\"].isnull()]\n",
    "print(\"Countries with missing population data:\")\n",
    "print(missing_population[\"country\"])"
   ]
  },
  {
   "cell_type": "code",
   "execution_count": 11,
   "metadata": {},
   "outputs": [],
   "source": [
    "merged_data.to_csv(\"../Resources/trust_data_with_population.csv\", index=False)"
   ]
  },
  {
   "cell_type": "code",
   "execution_count": 12,
   "metadata": {},
   "outputs": [],
   "source": [
    "# sorting by population in decending order\n",
    "merged_data = merged_data.sort_values(by=\"population\", ascending=False)"
   ]
  },
  {
   "cell_type": "code",
   "execution_count": 13,
   "metadata": {},
   "outputs": [],
   "source": [
    "# Extract the top 50 countries\n",
    "top_50 = merged_data.head(50)\n",
    "\n",
    "# Extract the bottom 59 countries\n",
    "bottom_50 = merged_data.tail(50)"
   ]
  },
  {
   "cell_type": "code",
   "execution_count": 15,
   "metadata": {},
   "outputs": [
    {
     "name": "stdout",
     "output_type": "stream",
     "text": [
      "Top 50 Average Trust Rates:\n",
      "neighbourhood          72.4558\n",
      "government             58.4298\n",
      "scientist              79.7542\n",
      "journalist             62.4642\n",
      "doctor_and_nurses      83.9444\n",
      "philantropist          69.7628\n",
      "traditional_healers    43.2936\n",
      "dtype: float64\n",
      "\n",
      "Bottom 50 Average Trust Rates:\n",
      "neighbourhood          74.8768\n",
      "government             55.2438\n",
      "scientist              78.5320\n",
      "journalist             57.2936\n",
      "doctor_and_nurses      84.6708\n",
      "philantropist          70.8364\n",
      "traditional_healers    45.5858\n",
      "dtype: float64\n"
     ]
    }
   ],
   "source": [
    "# Finding average trust rates for top 50 and bottom 50 countries\n",
    "top_50_avg = top_50[trust_fields].mean()\n",
    "bottom_50_avg = bottom_50[trust_fields].mean()\n",
    "\n",
    "print(\"Top 50 Average Trust Rates:\")\n",
    "print(top_50_avg)\n",
    "\n",
    "print(\"\\nBottom 50 Average Trust Rates:\")\n",
    "print(bottom_50_avg)"
   ]
  },
  {
   "cell_type": "code",
   "execution_count": null,
   "metadata": {},
   "outputs": [],
   "source": [
    "comparison_df = pd.DataFrame({\n",
    "    \"Top 50 (Avg)\": top_50_avg,\n",
    "    \"Bottom 50 (Avg)\": bottom_50_avg\n",
    "})\n",
    "\n",
    "# Plot the bar chart\n",
    "comparison_df.plot(kind=\"bar\", figsize=(10, 6), color=[\"skyblue\", \"salmon\"])\n",
    "plt.title(\"Comparison of Average Trust Rates\")\n",
    "plt.ylabel(\"Trust Rate (%)\")\n",
    "plt.xlabel(\"Trust Categories\")\n",
    "plt.xticks(rotation=45)\n",
    "plt.legend(title=\"Country Group\")\n",
    "plt.show()"
   ]
  },
  {
   "cell_type": "code",
   "execution_count": null,
   "metadata": {},
   "outputs": [],
   "source": []
  }
 ],
 "metadata": {
  "kernelspec": {
   "display_name": "dev",
   "language": "python",
   "name": "python3"
  },
  "language_info": {
   "codemirror_mode": {
    "name": "ipython",
    "version": 3
   },
   "file_extension": ".py",
   "mimetype": "text/x-python",
   "name": "python",
   "nbconvert_exporter": "python",
   "pygments_lexer": "ipython3",
   "version": "3.10.14"
  }
 },
 "nbformat": 4,
 "nbformat_minor": 2
}
